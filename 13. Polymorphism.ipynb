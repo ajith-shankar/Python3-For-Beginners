{
 "cells": [
  {
   "cell_type": "markdown",
   "id": "642eace0",
   "metadata": {},
   "source": [
    "# <font color=Blue>Polymorphism</font>"
   ]
  },
  {
   "cell_type": "markdown",
   "id": "b5491add",
   "metadata": {},
   "source": [
    "Polymorphism in Python is the ability of an <b>object to take many forms</b>. In simple words, polymorphism allows us to perform the <b>same action in many different ways</b>."
   ]
  },
  {
   "cell_type": "markdown",
   "id": "852e927c",
   "metadata": {},
   "source": [
    "In polymorphism, a method can process objects differently depending on the class type or data type. "
   ]
  },
  {
   "cell_type": "markdown",
   "id": "4e209767",
   "metadata": {},
   "source": [
    "## Polymorphism With Inheritance\n",
    "\n",
    "- Polymorphism is mainly used with inheritance. In inheritance, <b>child class inherits the attributes and methods of a parent class</b>.\n",
    "- Using <b>method overriding</b> polymorphism allows us to defines methods in the child class that have the <b>same name</b> as the methods in the parent class. \n",
    "- This process of <b>re-implementing the inherited method in the child class</b> is known as Method Overriding."
   ]
  },
  {
   "cell_type": "markdown",
   "id": "7944afae",
   "metadata": {},
   "source": [
    "## Method Overriding:\n",
    "\n",
    "- The process of <b>re-implementing the inherited method in the child class</b> is known as Method Overriding.\n",
    "- Method overriding is useful when a parent class has multiple child classes, and one of that child class wants to redefine the method.\n",
    "- The other child classes can use the parent class method. "
   ]
  },
  {
   "cell_type": "code",
   "execution_count": 11,
   "id": "9a48c08a",
   "metadata": {},
   "outputs": [
    {
     "name": "stdout",
     "output_type": "stream",
     "text": [
      "Details: BMW x3, Blue, 1200000\n",
      "from max_speed() of Car class\n",
      "from change_gear() of Car class\n",
      "\n",
      "Details: Truck i5, White, 75000\n",
      "from max_speed() of vehicle class\n",
      "from change_gear() of vehicle class\n"
     ]
    }
   ],
   "source": [
    "class Vehicle:\n",
    "    def __init__(self, name, color, price):\n",
    "        self.name = name\n",
    "        self.color = color\n",
    "        self.price = price\n",
    "        \n",
    "    def show(self):\n",
    "        print(f\"Details: {self.name}, {self.color}, {self.price}\")\n",
    "        \n",
    "    def max_speed(self):\n",
    "        print(\"from max_speed() of vehicle class\")\n",
    "        \n",
    "    def change_gear(self):\n",
    "        print(\"from change_gear() of vehicle class\")\n",
    "        \n",
    "        \n",
    "#inherit from vehicle class\n",
    "class Car(Vehicle):\n",
    "    def max_speed(self):\n",
    "        print(\"from max_speed() of Car class\")\n",
    "        \n",
    "    def change_gear(self):\n",
    "        print(\"from change_gear() of Car class\")\n",
    "        \n",
    "    \n",
    "#car object\n",
    "car1 = Car(\"BMW x3\", \"Blue\", 1200000)\n",
    "car1.show()\n",
    "\n",
    "#calls methods from car class\n",
    "car1.max_speed()\n",
    "car1.change_gear()\n",
    "\n",
    "print()\n",
    "\n",
    "#vehicle object\n",
    "veh1 = Vehicle(\"Truck i5\", \"White\", 75000)\n",
    "veh1.show()\n",
    "\n",
    "#calls methods from Vehicle class\n",
    "veh1.max_speed()\n",
    "veh1.change_gear()"
   ]
  },
  {
   "cell_type": "markdown",
   "id": "cda37d00",
   "metadata": {},
   "source": [
    "### Overrride Built-in Functions\n",
    "\n",
    "we can change the default behavior of the built-in functions. For example, we can change or extend the built-in functions such as len(), abs(), or divmod() by redefining them in our class."
   ]
  },
  {
   "cell_type": "code",
   "execution_count": 12,
   "id": "6f065061",
   "metadata": {},
   "outputs": [
    {
     "name": "stdout",
     "output_type": "stream",
     "text": [
      "Redefine Length()\n",
      "4\n"
     ]
    }
   ],
   "source": [
    "class Shopping:\n",
    "    def __init__(self, basket, buyer):\n",
    "        self.basket = list(basket)\n",
    "        self.buyer = buyer\n",
    "        \n",
    "    def __len__(self):\n",
    "        print(\"Redefine Length()\")\n",
    "        count = len(self.basket)\n",
    "        # count total items in a different way\n",
    "        return count * 2\n",
    "    \n",
    "shop1 = Shopping([\"shoes\", \"jeans\"], \"Harry\")\n",
    "print(len(shop1))"
   ]
  },
  {
   "cell_type": "markdown",
   "id": "b623d859",
   "metadata": {},
   "source": [
    "### Polymorphism In Class methods\n",
    "\n",
    "- Polymorphism with class methods is useful when we <b>group different objects having the same method</b>. \n",
    "- We can add them to a <b>list or a tuple</b>, and we don’t need to check the object type before calling their methods. Instead, Python will check object type at runtime and call the correct method. "
   ]
  },
  {
   "cell_type": "code",
   "execution_count": 13,
   "id": "f6f282f0",
   "metadata": {},
   "outputs": [
    {
     "name": "stdout",
     "output_type": "stream",
     "text": [
      "Ferrari: Petrol\n",
      "Ferrari: 250mph\n",
      "BMW: Diesel\n",
      "BMW: 240mph\n"
     ]
    }
   ],
   "source": [
    "class Ferrari:\n",
    "    def fuel_type(self):\n",
    "        print(\"Ferrari: Petrol\")\n",
    "        \n",
    "    def max_speed(self):\n",
    "        print(\"Ferrari: 250mph\")\n",
    "        \n",
    "        \n",
    "class BMW:\n",
    "    def fuel_type(self):\n",
    "        print(\"BMW: Diesel\")\n",
    "        \n",
    "    def max_speed(self):\n",
    "        print(\"BMW: 240mph\")\n",
    "        \n",
    "        \n",
    "fer1 = Ferrari()\n",
    "bmw1 = BMW()\n",
    "\n",
    "#iterate objects of same type\n",
    "for car in (fer1, bmw1):\n",
    "    # call methods without checking class of object\n",
    "    car.fuel_type()\n",
    "    car.max_speed()"
   ]
  },
  {
   "cell_type": "markdown",
   "id": "bd0855a9",
   "metadata": {},
   "source": [
    "### Polymorphism with Function and Objects\n",
    "\n",
    "- We can create polymorphism with a function that can take any object as a parameter and execute its method without checking its class type.\n",
    "- Using this, we can call object actions using the same function instead of repeating method calls."
   ]
  },
  {
   "cell_type": "code",
   "execution_count": 14,
   "id": "b1709584",
   "metadata": {},
   "outputs": [
    {
     "name": "stdout",
     "output_type": "stream",
     "text": [
      "Ferrari: Petrol\n",
      "Ferrari: 250mph\n",
      "BMW: Diesel\n",
      "BMW: 240mph\n"
     ]
    }
   ],
   "source": [
    "class Ferrari:\n",
    "    def fuel_type(self):\n",
    "        print(\"Ferrari: Petrol\")\n",
    "        \n",
    "    def max_speed(self):\n",
    "        print(\"Ferrari: 250mph\")\n",
    "        \n",
    "        \n",
    "class BMW:\n",
    "    def fuel_type(self):\n",
    "        print(\"BMW: Diesel\")\n",
    "        \n",
    "    def max_speed(self):\n",
    "        print(\"BMW: 240mph\")\n",
    "        \n",
    "        \n",
    "#normal function\n",
    "def car_details(obj):\n",
    "    obj.fuel_type()\n",
    "    obj.max_speed()\n",
    "    \n",
    "fer1 = Ferrari()\n",
    "bmw1 = BMW()\n",
    "\n",
    "car_details(fer1)\n",
    "car_details(bmw1)"
   ]
  },
  {
   "cell_type": "markdown",
   "id": "fe238865",
   "metadata": {},
   "source": [
    "## Method Overloading\n",
    "\n",
    "- The process of <b>calling the same method with different parameters</b> is known as method overloading.\n",
    "- Python <b>does not support</b> method overloading. \n",
    "- Python considers <b>only the latest</b> defined method even if you overload the method. \n",
    "- Python will raise a <b>TypeError</b> if you overload the method."
   ]
  },
  {
   "cell_type": "code",
   "execution_count": 15,
   "id": "a6c261f8",
   "metadata": {},
   "outputs": [
    {
     "ename": "TypeError",
     "evalue": "addition() missing 1 required positional argument: 'c'",
     "output_type": "error",
     "traceback": [
      "\u001b[1;31m---------------------------------------------------------------------------\u001b[0m",
      "\u001b[1;31mTypeError\u001b[0m                                 Traceback (most recent call last)",
      "\u001b[1;32m<ipython-input-15-4c6920a97388>\u001b[0m in \u001b[0;36m<module>\u001b[1;34m\u001b[0m\n\u001b[0;32m     10\u001b[0m \u001b[1;33m\u001b[0m\u001b[0m\n\u001b[0;32m     11\u001b[0m \u001b[1;31m# the below line shows an error\u001b[0m\u001b[1;33m\u001b[0m\u001b[1;33m\u001b[0m\u001b[1;33m\u001b[0m\u001b[0m\n\u001b[1;32m---> 12\u001b[1;33m \u001b[0maddition\u001b[0m\u001b[1;33m(\u001b[0m\u001b[1;36m4\u001b[0m\u001b[1;33m,\u001b[0m \u001b[1;36m5\u001b[0m\u001b[1;33m)\u001b[0m\u001b[1;33m\u001b[0m\u001b[1;33m\u001b[0m\u001b[0m\n\u001b[0m\u001b[0;32m     13\u001b[0m \u001b[1;33m\u001b[0m\u001b[0m\n\u001b[0;32m     14\u001b[0m \u001b[1;31m# This line will call the second product method\u001b[0m\u001b[1;33m\u001b[0m\u001b[1;33m\u001b[0m\u001b[1;33m\u001b[0m\u001b[0m\n",
      "\u001b[1;31mTypeError\u001b[0m: addition() missing 1 required positional argument: 'c'"
     ]
    }
   ],
   "source": [
    "def addition(a, b):\n",
    "    c = a + b\n",
    "    print(c)\n",
    "\n",
    "\n",
    "def addition(a, b, c):\n",
    "    d = a + b + c\n",
    "    print(d)\n",
    "\n",
    "\n",
    "# the below line shows an error\n",
    "addition(4, 5)\n",
    "\n",
    "# This line will call the second product method\n",
    "addition(3, 7, 5)"
   ]
  },
  {
   "cell_type": "markdown",
   "id": "440d5b4b",
   "metadata": {},
   "source": [
    "### User-defined polymorphic method"
   ]
  },
  {
   "cell_type": "code",
   "execution_count": 20,
   "id": "b4b21bad",
   "metadata": {},
   "outputs": [
    {
     "name": "stdout",
     "output_type": "stream",
     "text": [
      "Area of Square is : 25\n",
      "Area of Rectangle is : 15\n"
     ]
    }
   ],
   "source": [
    "class Shape:\n",
    "    #function with default method\n",
    "    def area(self, a, b=0):\n",
    "        if b > 0:\n",
    "            print(\"Area of Rectangle is :\", a * b)\n",
    "        else:\n",
    "            print(\"Area of Square is :\",a ** 2)\n",
    "            \n",
    "            \n",
    "sq = Shape()\n",
    "sq.area(5)\n",
    "\n",
    "rect = Shape()\n",
    "rect.area(5, 3)"
   ]
  },
  {
   "cell_type": "code",
   "execution_count": null,
   "id": "26d46743",
   "metadata": {},
   "outputs": [],
   "source": []
  }
 ],
 "metadata": {
  "kernelspec": {
   "display_name": "Python 3",
   "language": "python",
   "name": "python3"
  },
  "language_info": {
   "codemirror_mode": {
    "name": "ipython",
    "version": 3
   },
   "file_extension": ".py",
   "mimetype": "text/x-python",
   "name": "python",
   "nbconvert_exporter": "python",
   "pygments_lexer": "ipython3",
   "version": "3.8.8"
  }
 },
 "nbformat": 4,
 "nbformat_minor": 5
}
