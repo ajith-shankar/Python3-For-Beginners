{
 "cells": [
  {
   "cell_type": "markdown",
   "id": "886ae90a",
   "metadata": {},
   "source": [
    "# <font color=Blue>Functions</font>"
   ]
  },
  {
   "cell_type": "markdown",
   "id": "f2c840d6",
   "metadata": {},
   "source": [
    "- A function definition starts with the <b>def</b> keyword. The function definition always ends in a colon (<b>:</b>).<br>\n",
    "- The text string surrounded by <b>triple quotes</b> is called a <b>docstring</b>. It describes what the function does.<br> \n",
    "- Python uses the docstring to generate documentation for the function <b>automatically</b>.\n",
    "- To <b>call a function</b>, you write the <b>function’s name</b>, followed by the information that the function needs in parentheses."
   ]
  },
  {
   "cell_type": "code",
   "execution_count": null,
   "id": "6edb481e",
   "metadata": {},
   "outputs": [],
   "source": [
    "def greet():\n",
    "    \"\"\" Display a greeting to users \"\"\"\n",
    "    print('Hi')\n",
    "    \n",
    "greet()"
   ]
  },
  {
   "cell_type": "markdown",
   "id": "fb170938",
   "metadata": {},
   "source": [
    "## Passing inforamation to the functions\n",
    "\n",
    "- Specify a variable in the parentheses of the function & it is called as <b>function parameter</b> or simply <b>parameter</b>.\n",
    "- When you add a parameter to the function definition, you can use it as a variable inside the function body not outside of it.\n",
    "- The <b>value</b> that you pass into a function is called an <b>argument</b>."
   ]
  },
  {
   "cell_type": "code",
   "execution_count": null,
   "id": "eea24267",
   "metadata": {},
   "outputs": [],
   "source": [
    "def greet(name):\n",
    "    print(f\"Hi {name}\")\n",
    "    \n",
    "greet(\"Ajith\")"
   ]
  },
  {
   "cell_type": "code",
   "execution_count": null,
   "id": "2662b7ec",
   "metadata": {},
   "outputs": [],
   "source": [
    "#you can call the function by passing a variable into it\n",
    "    \n",
    "def greet(name):\n",
    "    print(f\"Hi {name}\")\n",
    "    \n",
    "first_name=\"Python\"\n",
    "greet(first_name)"
   ]
  },
  {
   "cell_type": "markdown",
   "id": "20eac70c",
   "metadata": {},
   "source": [
    "## Returning a value\n",
    "\n",
    "- Function can return a value. The value that a function returns is called a <b>return value</b>."
   ]
  },
  {
   "cell_type": "code",
   "execution_count": null,
   "id": "6a9c13e4",
   "metadata": {},
   "outputs": [],
   "source": [
    "#The following example modifies the greet() function to return a greeting instead of displaying it on the screen\n",
    "\n",
    "def greet(name):\n",
    "    return f\"Hi {name}\"\n",
    "\n",
    "greeting=greet(\"John\") #When you call the greet() function, you can assign its return value to a variable\n",
    "print(greeting)"
   ]
  },
  {
   "cell_type": "markdown",
   "id": "a751b8fb",
   "metadata": {},
   "source": [
    "## Function with multiple parameters\n",
    "\n",
    "- A function can have zero, one, or multiple parameters\n",
    "- When a function has multiple parameters, you need to use a <b>comma</b> to separate them\n",
    "- When you call the function, you need to pass <b>all</b> the arguments. If you pass <b>more or fewer</b> arguments to the function, you’ll get an <b>error</b>."
   ]
  },
  {
   "cell_type": "code",
   "execution_count": null,
   "id": "fad9f906",
   "metadata": {},
   "outputs": [],
   "source": [
    "#with return\n",
    "\n",
    "def sum(a,b):\n",
    "    return a+b\n",
    "\n",
    "total=sum(10,20)\n",
    "print(total)"
   ]
  },
  {
   "cell_type": "code",
   "execution_count": null,
   "id": "4c470b88",
   "metadata": {},
   "outputs": [],
   "source": [
    "#without return\n",
    "\n",
    "def sum(a,b):\n",
    "    print(a+b)\n",
    "    \n",
    "sum(10,20)"
   ]
  },
  {
   "cell_type": "code",
   "execution_count": null,
   "id": "18596aba",
   "metadata": {},
   "outputs": [],
   "source": [
    "#without return\n",
    "\n",
    "def sum(a,b):\n",
    "    print(a+b)\n",
    "    \n",
    "sum(10)"
   ]
  },
  {
   "cell_type": "code",
   "execution_count": null,
   "id": "b50d13d3",
   "metadata": {},
   "outputs": [],
   "source": [
    "#with return\n",
    "\n",
    "def sum(a,b):\n",
    "    return a+b\n",
    "\n",
    "total=sum(10,20,30)\n",
    "print(total)"
   ]
  },
  {
   "cell_type": "markdown",
   "id": "15d1b372",
   "metadata": {},
   "source": [
    "## Default parameters\n",
    "\n",
    "- Syntax <b>def function_name(param1, param2=value2, param3=value3, ...):</b>\n",
    "- When you call a function and <b>pass an argument</b> to the parameter that has a default value, the function will use that <b>argument instead of the default value</b>.\n",
    "- However, if you don’t pass the argument, the function will use the default value.\n",
    "- To use default parameters, you need to place parameters with the default values <b>after</b> other parameters. Otherwise, you’ll get a syntax error."
   ]
  },
  {
   "cell_type": "code",
   "execution_count": null,
   "id": "41cc16ea",
   "metadata": {},
   "outputs": [],
   "source": [
    "#passing values\n",
    "def greet(name, message='Hi'):\n",
    "    return f\"{message} {name}\"\n",
    "\n",
    "greeting=greet(\"John\", \"Hello\")\n",
    "print(greeting)"
   ]
  },
  {
   "cell_type": "code",
   "execution_count": null,
   "id": "50c1a1cc",
   "metadata": {},
   "outputs": [],
   "source": [
    "def greet(name, message='Hi'):\n",
    "    return f\"{message} {name}\"\n",
    "\n",
    "greeting=greet(\"John\")\n",
    "print(greeting)"
   ]
  },
  {
   "cell_type": "code",
   "execution_count": null,
   "id": "e4524e2f",
   "metadata": {},
   "outputs": [],
   "source": [
    "#No argument\n",
    "def greet(name='there', message='Hi'):\n",
    "    return f\"{message} {name}\"\n",
    "\n",
    "greeting = greet()\n",
    "print(greeting)"
   ]
  },
  {
   "cell_type": "code",
   "execution_count": null,
   "id": "3147b26b",
   "metadata": {},
   "outputs": [],
   "source": [
    "#always function treats as a first argument\n",
    "def greet(name='there', message='Hi'):\n",
    "    return f\"{message} {name}\"\n",
    "\n",
    "greeting = greet('Hello')\n",
    "print(greeting)"
   ]
  },
  {
   "cell_type": "code",
   "execution_count": null,
   "id": "b9ae158c",
   "metadata": {},
   "outputs": [],
   "source": [
    "def greet(name='there', message='Hi'):\n",
    "    return f\"{message} {name}\"\n",
    "\n",
    "greeting = greet(message='Hello')\n",
    "print(greeting)"
   ]
  },
  {
   "cell_type": "markdown",
   "id": "c3d1ea10",
   "metadata": {},
   "source": [
    "## Lambda Function\n",
    "\n",
    "- A Lambda Function in Python programming is an <b>anonymous function</b> or a function having no name.\n",
    "- It is a small and restricted function having no more than one line.\n",
    "- Lambda function can have <b>multiple arguments with one expression</b>.\n",
    "- Syntax: <b>lambda parameter1, parameter2,....paramerters : expression</b>"
   ]
  },
  {
   "cell_type": "code",
   "execution_count": null,
   "id": "acbee413",
   "metadata": {},
   "outputs": [],
   "source": [
    "add=lambda x,y:x+y\n",
    "print(add(1,2))"
   ]
  },
  {
   "cell_type": "code",
   "execution_count": null,
   "id": "53b5759b",
   "metadata": {},
   "outputs": [],
   "source": [
    "def times(n):\n",
    "    return lambda x:x*n #here times() returns a function, so double will become function\n",
    "\n",
    "double=times(2) \n",
    "\n",
    "result=double(2) \n",
    "print(result)\n",
    "\n",
    "result = double(3)\n",
    "print(result)"
   ]
  },
  {
   "cell_type": "code",
   "execution_count": null,
   "id": "4a28db57",
   "metadata": {},
   "outputs": [],
   "source": [
    "sequences = [10,2,8,7,5,4,3,11,0, 1]\n",
    "filtered_result = filter (lambda x: x > 4, sequences) #lambda function iterates over each elements and returns true if it is > 4\n",
    "print(list(filtered_result))"
   ]
  },
  {
   "cell_type": "markdown",
   "id": "866ceaaf",
   "metadata": {},
   "source": [
    "## Docstrings\n",
    "\n",
    "- To <b>document</b> your functions, you can use docstrings.\n",
    "- When the <b>first line</b> in the function body is a <b>string</b>, Python will interpret it as a docstring.\n",
    "- You can use the <b>help()</b> to find the documentation of the functions.\n",
    "- Python stores the docstrings in the <b>\\___doc\\___</b> property of the function."
   ]
  },
  {
   "cell_type": "code",
   "execution_count": null,
   "id": "4e47a69a",
   "metadata": {},
   "outputs": [],
   "source": [
    "#single line docstring\n",
    "\n",
    "def add(a, b):\n",
    "    \"Return the sum of two arguments\"\n",
    "    return a + b\n",
    "\n",
    "help(add)"
   ]
  },
  {
   "cell_type": "code",
   "execution_count": null,
   "id": "f6006979",
   "metadata": {},
   "outputs": [],
   "source": [
    "#multi-line docstring\n",
    "\n",
    "def add(a, b):\n",
    "    \"\"\" Add two arguments\n",
    "    Arguments:\n",
    "        a: an integer\n",
    "        b: an integer\n",
    "    Returns:\n",
    "        The sum of the two arguments\n",
    "    \"\"\"\n",
    "    return a + b\n",
    "\n",
    "help(add)"
   ]
  },
  {
   "cell_type": "code",
   "execution_count": null,
   "id": "904f4a99",
   "metadata": {},
   "outputs": [],
   "source": [
    "add.__doc__ #to access property of the add docstring"
   ]
  },
  {
   "cell_type": "markdown",
   "id": "78f75f5f",
   "metadata": {},
   "source": [
    "## *args parameters\n",
    "\n",
    "- Function can accept a variable number of arguments. \n",
    "- You can pass zero, one, or more arguments to the *args parameter.\n",
    "- *args is a type of <b>Tuple</b>."
   ]
  },
  {
   "cell_type": "code",
   "execution_count": null,
   "id": "5383a637",
   "metadata": {},
   "outputs": [],
   "source": [
    "def add(*args):\n",
    "    print(type(args))\n",
    "    print(args)\n",
    "\n",
    "add()"
   ]
  },
  {
   "cell_type": "code",
   "execution_count": null,
   "id": "bbf465ec",
   "metadata": {},
   "outputs": [],
   "source": [
    "def add(*args):\n",
    "    print(args)\n",
    "\n",
    "\n",
    "add(1,2,3)"
   ]
  },
  {
   "cell_type": "code",
   "execution_count": null,
   "id": "25a1f793",
   "metadata": {},
   "outputs": [],
   "source": [
    "#to access the elements of the *args\n",
    "def add(*args):\n",
    "    print(args[0])\n",
    "    print(args[1])\n",
    "    print(args[2])\n",
    "\n",
    "\n",
    "add(1, 2, 3)"
   ]
  },
  {
   "cell_type": "code",
   "execution_count": null,
   "id": "2c185675",
   "metadata": {},
   "outputs": [],
   "source": [
    "def add(*args):\n",
    "    total=0\n",
    "    for i in args:\n",
    "        total += i\n",
    "    return total\n",
    "\n",
    "total=add(1,2,3,4,5)\n",
    "print(total)"
   ]
  },
  {
   "cell_type": "code",
   "execution_count": null,
   "id": "f7a952f3",
   "metadata": {},
   "outputs": [],
   "source": [
    "#with positional arguments\n",
    "\n",
    "def add(x, y, *args, z):\n",
    "    return x + y + sum(args) + z\n",
    "\n",
    "\n",
    "add(10, 20, 30, 40, 50)"
   ]
  },
  {
   "cell_type": "code",
   "execution_count": 43,
   "id": "71ed4902",
   "metadata": {},
   "outputs": [
    {
     "data": {
      "text/plain": [
       "150"
      ]
     },
     "execution_count": 43,
     "metadata": {},
     "output_type": "execute_result"
    }
   ],
   "source": [
    "#with positional arguments\n",
    "\n",
    "def add(x, y, *args, z):\n",
    "    return x + y + sum(args) + z\n",
    "\n",
    "\n",
    "add(10, 20, 30, 40, z=50) #x=10, y=20, *args=30, 40 and z=50"
   ]
  },
  {
   "cell_type": "code",
   "execution_count": 42,
   "id": "624aebe7",
   "metadata": {},
   "outputs": [
    {
     "ename": "TypeError",
     "evalue": "point() missing 1 required positional argument: 'y'",
     "output_type": "error",
     "traceback": [
      "\u001b[1;31m---------------------------------------------------------------------------\u001b[0m",
      "\u001b[1;31mTypeError\u001b[0m                                 Traceback (most recent call last)",
      "\u001b[1;32m<ipython-input-42-c86c353e5da2>\u001b[0m in \u001b[0;36m<module>\u001b[1;34m\u001b[0m\n\u001b[0;32m      5\u001b[0m \u001b[1;33m\u001b[0m\u001b[0m\n\u001b[0;32m      6\u001b[0m \u001b[0ma\u001b[0m \u001b[1;33m=\u001b[0m \u001b[1;33m(\u001b[0m\u001b[1;36m0\u001b[0m\u001b[1;33m,\u001b[0m \u001b[1;36m0\u001b[0m\u001b[1;33m)\u001b[0m\u001b[1;33m\u001b[0m\u001b[1;33m\u001b[0m\u001b[0m\n\u001b[1;32m----> 7\u001b[1;33m \u001b[0morigin\u001b[0m \u001b[1;33m=\u001b[0m \u001b[0mpoint\u001b[0m\u001b[1;33m(\u001b[0m\u001b[0ma\u001b[0m\u001b[1;33m)\u001b[0m \u001b[1;31m#here x=(0,0) y is not assigned\u001b[0m\u001b[1;33m\u001b[0m\u001b[1;33m\u001b[0m\u001b[0m\n\u001b[0m\u001b[0;32m      8\u001b[0m \u001b[0mprint\u001b[0m\u001b[1;33m(\u001b[0m\u001b[0morigin\u001b[0m\u001b[1;33m)\u001b[0m\u001b[1;33m\u001b[0m\u001b[1;33m\u001b[0m\u001b[0m\n",
      "\u001b[1;31mTypeError\u001b[0m: point() missing 1 required positional argument: 'y'"
     ]
    }
   ],
   "source": [
    "#unpacking arguments\n",
    "\n",
    "def point(x, y):\n",
    "    return f'({x},{y})'\n",
    "\n",
    "a = (0, 0)\n",
    "origin = point(a) #here x=(0,0) y is not assigned\n",
    "print(origin)"
   ]
  },
  {
   "cell_type": "code",
   "execution_count": 41,
   "id": "16925be8",
   "metadata": {},
   "outputs": [
    {
     "name": "stdout",
     "output_type": "stream",
     "text": [
      "(0,0)\n"
     ]
    }
   ],
   "source": [
    "def point(x, y):\n",
    "    return f'({x},{y})'\n",
    "\n",
    "a = (0, 0)\n",
    "origin = point(*a) #use *a, so x=0 and y=0\n",
    "print(origin)"
   ]
  },
  {
   "cell_type": "code",
   "execution_count": 40,
   "id": "2664f4ca",
   "metadata": {},
   "outputs": [
    {
     "name": "stdout",
     "output_type": "stream",
     "text": [
      "33\n",
      "189\n"
     ]
    }
   ],
   "source": [
    "def func1(*params):\n",
    "    total=0\n",
    "    sq_sum=0\n",
    "    for i in params:\n",
    "        total += i\n",
    "        sq_sum += (i*i)\n",
    "    return total, sq_sum\n",
    "\n",
    "\n",
    "lst=[1,5,7,3,8,0,4,5]\n",
    "#print(func1(*lst))\n",
    "a, b=func1(*lst)\n",
    "print(a)\n",
    "print(b)"
   ]
  },
  {
   "cell_type": "markdown",
   "id": "46ecadb3",
   "metadata": {},
   "source": [
    "## **kwargs\n",
    "\n",
    "- The **kwargs is called a <b>keyword</b> parameter.\n",
    "- When a function has the **kwargs parameter, it can accept a variable number of keyword arguments as a <b>dictionary</b>."
   ]
  },
  {
   "cell_type": "code",
   "execution_count": 39,
   "id": "550346cb",
   "metadata": {},
   "outputs": [
    {
     "name": "stdout",
     "output_type": "stream",
     "text": [
      "<class 'dict'>\n",
      "{}\n"
     ]
    }
   ],
   "source": [
    "def connect(**kwargs):\n",
    "    print(type(kwargs))\n",
    "    print(kwargs)\n",
    "    \n",
    "\n",
    "connect()"
   ]
  },
  {
   "cell_type": "code",
   "execution_count": 38,
   "id": "19f14535",
   "metadata": {},
   "outputs": [
    {
     "name": "stdout",
     "output_type": "stream",
     "text": [
      "<class 'dict'>\n",
      "{'server': 'localhost', 'port': 3306, 'user': 'root', 'password': 'Py1hon!Xt'}\n"
     ]
    }
   ],
   "source": [
    "def connect(**kwargs):\n",
    "    print(type(kwargs))\n",
    "    print(kwargs)\n",
    "    \n",
    "\n",
    "connect(server='localhost', port=3306, user='root', password='Py1hon!Xt')"
   ]
  },
  {
   "cell_type": "code",
   "execution_count": 37,
   "id": "a91156f9",
   "metadata": {},
   "outputs": [
    {
     "name": "stdout",
     "output_type": "stream",
     "text": [
      "{'server': 'localhost', 'port': 3306, 'user': 'root', 'password': 'Py1thon!Xt12'}\n"
     ]
    }
   ],
   "source": [
    "def connect(**kwargs):\n",
    "    print(kwargs)\n",
    "    \n",
    "config = {'server': 'localhost',\n",
    "        'port': 3306,\n",
    "        'user': 'root',\n",
    "        'password': 'Py1thon!Xt12'}\n",
    "\n",
    "\n",
    "connect(**config) #use **"
   ]
  },
  {
   "cell_type": "code",
   "execution_count": null,
   "id": "1948c56b",
   "metadata": {},
   "outputs": [],
   "source": [
    "#If a function has the **kwargs parameter and other parameters, you need to place the **kwargs after other parameters\n",
    "#Otherwise, you’ll get an error.\n",
    "\n",
    "def connect(other parameters, **kwargs):\n",
    "    print(kwargs)"
   ]
  },
  {
   "cell_type": "code",
   "execution_count": 44,
   "id": "af7b6d46",
   "metadata": {},
   "outputs": [
    {
     "name": "stdout",
     "output_type": "stream",
     "text": [
      "(1, 2)\n",
      "{'x': 10, 'y': 20}\n"
     ]
    }
   ],
   "source": [
    "def func2(*args, **kwargs):\n",
    "    print(args)\n",
    "    print(kwargs)\n",
    "    \n",
    "\n",
    "func2(1, 2, x=10, y=20)"
   ]
  },
  {
   "cell_type": "markdown",
   "id": "e41f392c",
   "metadata": {},
   "source": [
    "## Partial function\n",
    "\n",
    "- You use partial functions when you want to <b>reduce the number of arguments</b> of a function to simplify the function’s signature.\n",
    "- Python provides you with the partial function from the <b>functools</b> standard module to help you define partial functions more easily."
   ]
  },
  {
   "cell_type": "code",
   "execution_count": 45,
   "id": "e5d24898",
   "metadata": {},
   "outputs": [
    {
     "name": "stdout",
     "output_type": "stream",
     "text": [
      "20\n"
     ]
    }
   ],
   "source": [
    "def multiply(a, b):\n",
    "    return a*b\n",
    "\n",
    "\n",
    "def double(a): #here double() is called as partial function\n",
    "    return multiply(a, 2)\n",
    "\n",
    "\n",
    "result = double(10)\n",
    "print(result) "
   ]
  },
  {
   "cell_type": "code",
   "execution_count": 46,
   "id": "66a7a777",
   "metadata": {},
   "outputs": [
    {
     "name": "stdout",
     "output_type": "stream",
     "text": [
      "20\n"
     ]
    }
   ],
   "source": [
    "#using functools\n",
    "\n",
    "from functools import partial\n",
    "\n",
    "def multiply(a, b):\n",
    "    return a*b\n",
    "\n",
    "\n",
    "double = partial(multiply, b=2)\n",
    "\n",
    "result = double(10)\n",
    "print(result)"
   ]
  },
  {
   "cell_type": "code",
   "execution_count": 48,
   "id": "c9ba350e",
   "metadata": {},
   "outputs": [
    {
     "name": "stdout",
     "output_type": "stream",
     "text": [
      "30\n"
     ]
    }
   ],
   "source": [
    "#using functools\n",
    "\n",
    "from functools import partial\n",
    "\n",
    "def multiply(a, b):\n",
    "    return a*b\n",
    "\n",
    "\n",
    "double = partial(multiply, b=2)\n",
    "\n",
    "result = double(10, b=3) #extends and overrides the kwargs arguments.\n",
    "print(result)"
   ]
  },
  {
   "cell_type": "code",
   "execution_count": 49,
   "id": "08296942",
   "metadata": {},
   "outputs": [
    {
     "name": "stdout",
     "output_type": "stream",
     "text": [
      "20\n",
      "20\n"
     ]
    }
   ],
   "source": [
    "#using functools\n",
    "\n",
    "from functools import partial\n",
    "\n",
    "\n",
    "def multiply(a, b):\n",
    "    return a*b\n",
    "\n",
    "\n",
    "x = 2\n",
    "f = partial(multiply, x) #python evaluates value of x here\n",
    "\n",
    "result = f(10)  # 20\n",
    "print(result)\n",
    "\n",
    "x = 3\n",
    "result = f(10)  # 20\n",
    "print(result)"
   ]
  },
  {
   "cell_type": "code",
   "execution_count": null,
   "id": "6a5a1fd6",
   "metadata": {},
   "outputs": [],
   "source": []
  }
 ],
 "metadata": {
  "kernelspec": {
   "display_name": "Python 3",
   "language": "python",
   "name": "python3"
  },
  "language_info": {
   "codemirror_mode": {
    "name": "ipython",
    "version": 3
   },
   "file_extension": ".py",
   "mimetype": "text/x-python",
   "name": "python",
   "nbconvert_exporter": "python",
   "pygments_lexer": "ipython3",
   "version": "3.8.8"
  }
 },
 "nbformat": 4,
 "nbformat_minor": 5
}
