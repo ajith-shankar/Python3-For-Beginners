{
 "cells": [
  {
   "cell_type": "markdown",
   "id": "d03e46b7",
   "metadata": {},
   "source": [
    "# <font color=Blue>String</font>"
   ]
  },
  {
   "cell_type": "code",
   "execution_count": 13,
   "id": "ac0a4ca1",
   "metadata": {},
   "outputs": [
    {
     "name": "stdout",
     "output_type": "stream",
     "text": [
      "<class 'str'>\n",
      "<class 'str'>\n",
      "\n",
      "Usage: mysql command\n",
      "    -h hostname     \n",
      "    -d database name\n",
      "    -u username\n",
      "    -p password \n",
      "\n",
      "It's also a valid string\n",
      "C:\\python\\bin\n"
     ]
    }
   ],
   "source": [
    "d=\"helllo python\" #Single Line string\n",
    "print(type(d)) \n",
    "\n",
    "e='world' #Single Line string\n",
    "print(type(e))\n",
    "\n",
    "help_message = '''\n",
    "Usage: mysql command\n",
    "    -h hostname     \n",
    "    -d database name\n",
    "    -u username\n",
    "    -p password \n",
    "''' #Multi Line string\n",
    "print(help_message)\n",
    "\n",
    "message = 'It\\'s also a valid string' #\\ is used to escape character. \n",
    "print(message)\n",
    "message = r'C:\\python\\bin' #\\ is used to escape character. To avoid this feature use letter r before the first quote\n",
    "print(message)"
   ]
  },
  {
   "cell_type": "markdown",
   "id": "0d4b0723",
   "metadata": {},
   "source": [
    "## 2.1. String Concatination"
   ]
  },
  {
   "cell_type": "code",
   "execution_count": 14,
   "id": "c617e791",
   "metadata": {},
   "outputs": [
    {
     "name": "stdout",
     "output_type": "stream",
     "text": [
      "hello python world\n",
      "hello pythonworld\n"
     ]
    }
   ],
   "source": [
    "d=\"hello python\"\n",
    "e='world'\n",
    "print(d,e) #con cati naction\n",
    "print(d+e) #concatination"
   ]
  },
  {
   "cell_type": "markdown",
   "id": "ef89de03",
   "metadata": {},
   "source": [
    "## 2.2. String Indexing"
   ]
  },
  {
   "cell_type": "code",
   "execution_count": 15,
   "id": "9677dd74",
   "metadata": {},
   "outputs": [
    {
     "name": "stdout",
     "output_type": "stream",
     "text": [
      "e\n",
      " \n",
      "n\n",
      "12\n"
     ]
    }
   ],
   "source": [
    "print(d[1]) #Positive Indexing\n",
    "print(d[5])\n",
    "print(d[-1]) #Negative Indexing\n",
    "print(len(d))"
   ]
  },
  {
   "cell_type": "markdown",
   "id": "ed83ddc1",
   "metadata": {},
   "source": [
    "## 2.3. Looping Through a String"
   ]
  },
  {
   "cell_type": "code",
   "execution_count": 16,
   "id": "8b58c96d",
   "metadata": {},
   "outputs": [
    {
     "name": "stdout",
     "output_type": "stream",
     "text": [
      "B\n",
      "a\n",
      "n\n",
      "a\n",
      "n\n",
      "a\n"
     ]
    }
   ],
   "source": [
    "for x in \"Banana\":\n",
    "    print(x)"
   ]
  },
  {
   "cell_type": "markdown",
   "id": "6b3b9e4f",
   "metadata": {},
   "source": [
    "## 2.4. Variables in String / f-string"
   ]
  },
  {
   "cell_type": "code",
   "execution_count": 17,
   "id": "0886301c",
   "metadata": {},
   "outputs": [
    {
     "name": "stdout",
     "output_type": "stream",
     "text": [
      "Hi John\n"
     ]
    }
   ],
   "source": [
    "name = 'John'\n",
    "message = f'Hi {name}' #use letter f before the first quote and put {} around the variable\n",
    "print(message)"
   ]
  },
  {
   "cell_type": "markdown",
   "id": "76ebea96",
   "metadata": {},
   "source": [
    "## 2.5. String Slicing"
   ]
  },
  {
   "cell_type": "code",
   "execution_count": 18,
   "id": "4c76373b",
   "metadata": {},
   "outputs": [
    {
     "name": "stdout",
     "output_type": "stream",
     "text": [
      "He\n",
      "Hello Wo\n",
      "llo World\n"
     ]
    }
   ],
   "source": [
    "st=\"Hello World\"\n",
    "print(st[0:2]) #returns Substrings from index 0(included) to index 2(excluded)\n",
    "                #Syntax: string[start:end] Here start and end are optional\n",
    "print(st[:8]) #here start=0\n",
    "print(st[2:]) #here end=Length(string)"
   ]
  },
  {
   "cell_type": "markdown",
   "id": "b146b667",
   "metadata": {},
   "source": [
    "<font color=Orange>String is <b>Immutable</b>. It means that you cannot change the string</font>."
   ]
  },
  {
   "cell_type": "code",
   "execution_count": 19,
   "id": "3c117303",
   "metadata": {},
   "outputs": [
    {
     "ename": "TypeError",
     "evalue": "'str' object does not support item assignment",
     "output_type": "error",
     "traceback": [
      "\u001b[1;31m---------------------------------------------------------------------------\u001b[0m",
      "\u001b[1;31mTypeError\u001b[0m                                 Traceback (most recent call last)",
      "\u001b[1;32m<ipython-input-19-520bc2a062c5>\u001b[0m in \u001b[0;36m<module>\u001b[1;34m\u001b[0m\n\u001b[0;32m      1\u001b[0m \u001b[0mst\u001b[0m\u001b[1;33m=\u001b[0m\u001b[1;34m\"Hello World\"\u001b[0m\u001b[1;33m\u001b[0m\u001b[1;33m\u001b[0m\u001b[0m\n\u001b[1;32m----> 2\u001b[1;33m \u001b[0mst\u001b[0m\u001b[1;33m[\u001b[0m\u001b[1;36m0\u001b[0m\u001b[1;33m]\u001b[0m\u001b[1;33m=\u001b[0m\u001b[1;34m'P'\u001b[0m\u001b[1;33m\u001b[0m\u001b[1;33m\u001b[0m\u001b[0m\n\u001b[0m",
      "\u001b[1;31mTypeError\u001b[0m: 'str' object does not support item assignment"
     ]
    }
   ],
   "source": [
    "st=\"Hello World\"\n",
    "st[0]='P'"
   ]
  },
  {
   "cell_type": "code",
   "execution_count": 20,
   "id": "e8fc120d",
   "metadata": {},
   "outputs": [
    {
     "name": "stdout",
     "output_type": "stream",
     "text": [
      "Pello World\n"
     ]
    }
   ],
   "source": [
    "new_st='P'+st[1:]\n",
    "print(new_st)"
   ]
  },
  {
   "cell_type": "markdown",
   "id": "2e6e0879",
   "metadata": {},
   "source": [
    "## 2.6. replace() method"
   ]
  },
  {
   "cell_type": "code",
   "execution_count": 22,
   "id": "e3c025a3",
   "metadata": {},
   "outputs": [
    {
     "name": "stdout",
     "output_type": "stream",
     "text": [
      "I Love Python\n"
     ]
    }
   ],
   "source": [
    "old_str=\"I Like Python\"\n",
    "new_str=old_str.replace(\"Like\", \"Love\")\n",
    "print(new_str)"
   ]
  },
  {
   "cell_type": "markdown",
   "id": "25209512",
   "metadata": {},
   "source": [
    "## 2.7. upper() method"
   ]
  },
  {
   "cell_type": "code",
   "execution_count": 28,
   "id": "8934cd35",
   "metadata": {},
   "outputs": [
    {
     "name": "stdout",
     "output_type": "stream",
     "text": [
      "I LOVE PYTHON\n"
     ]
    }
   ],
   "source": [
    "str1=\"I love Python\"\n",
    "print(str1.upper()) #upper() takes no arguments"
   ]
  },
  {
   "cell_type": "markdown",
   "id": "a4186967",
   "metadata": {},
   "source": [
    "## 2.8. lower() method"
   ]
  },
  {
   "cell_type": "code",
   "execution_count": 29,
   "id": "40cb6c5e",
   "metadata": {},
   "outputs": [
    {
     "name": "stdout",
     "output_type": "stream",
     "text": [
      "i love python\n"
     ]
    }
   ],
   "source": [
    "str1=\"I LoVE PYTHON\"\n",
    "print(str1.lower()) #lower() takes no arguments"
   ]
  },
  {
   "cell_type": "markdown",
   "id": "6d47f898",
   "metadata": {},
   "source": [
    "## 2.9. capitalize() method"
   ]
  },
  {
   "cell_type": "code",
   "execution_count": 32,
   "id": "264458b9",
   "metadata": {},
   "outputs": [
    {
     "name": "stdout",
     "output_type": "stream",
     "text": [
      "I love python\n"
     ]
    }
   ],
   "source": [
    "str1=\"i love PyThoN\"\n",
    "print(str1.capitalize()) #returns a string where the first character is upper case, and the rest is lower case."
   ]
  },
  {
   "cell_type": "markdown",
   "id": "46504ecb",
   "metadata": {},
   "source": [
    "## 2.10. join function\n",
    "\n",
    "- With join() function, you can add any character into the string."
   ]
  },
  {
   "cell_type": "code",
   "execution_count": 34,
   "id": "5823dcc6",
   "metadata": {},
   "outputs": [
    {
     "name": "stdout",
     "output_type": "stream",
     "text": [
      "P:y:t:h:o:n\n"
     ]
    }
   ],
   "source": [
    "print(\":\".join(\"Python\")) #add a colon (:) after every character in the string “Python” "
   ]
  },
  {
   "cell_type": "markdown",
   "id": "caf91ef5",
   "metadata": {},
   "source": [
    "## 2.11. reversed() method"
   ]
  },
  {
   "cell_type": "code",
   "execution_count": 36,
   "id": "3630be97",
   "metadata": {},
   "outputs": [
    {
     "name": "stdout",
     "output_type": "stream",
     "text": [
      "NohtyP evol I\n"
     ]
    }
   ],
   "source": [
    "str1=\"I love PythoN\"\n",
    "print(\"\".join(reversed(str1)))"
   ]
  },
  {
   "cell_type": "markdown",
   "id": "f4b8d9c3",
   "metadata": {},
   "source": [
    "## 2.12. split()\n",
    "\n",
    "- It allows you to split up a string into different substrings.\n",
    "- It returns a list of words present in a line or a string and is separated by a delimiter string."
   ]
  },
  {
   "cell_type": "code",
   "execution_count": 44,
   "id": "46562a8c",
   "metadata": {},
   "outputs": [
    {
     "name": "stdout",
     "output_type": "stream",
     "text": [
      "guru99 career guru guRu\n",
      "\n",
      "['guru99', 'career', 'guru', 'guRu']\n",
      "\n",
      "['gu', 'u99 ca', 'ee', ' gu', 'u guRu']\n"
     ]
    }
   ],
   "source": [
    "str2=\"guru99 career guru guRu\"\n",
    "print(str2)\n",
    "print()\n",
    "print(str2.split(\" \")) #split str2 wherever space(\" \") is present\n",
    "print()\n",
    "print(str2.split(\"r\")) #split str2 wherever \"r\" is present"
   ]
  },
  {
   "cell_type": "markdown",
   "id": "b0c35ae9",
   "metadata": {},
   "source": [
    "## 2.13. strip()\n",
    "\n",
    "- The strip() method removes given characters from <b>start</b> and <b>end</b> of the original string. \n",
    "- By default, strip() function removes <b>white spaces</b> from <b>start</b> and <b>end</b> of the string and returns the same string without white spaces.\n",
    "- The original string with <b>white spaces</b> removed from the start and end if the characters to be removed are <b>not specified</b>\n",
    "- In case the string does not have any whitespaces at the start or end, the string will be returned as it is.\n",
    "- Incase if the characters given <b>does not match the start or the end</b> in the original string, the string will be returned as it is."
   ]
  },
  {
   "cell_type": "code",
   "execution_count": 55,
   "id": "c7833177",
   "metadata": {},
   "outputs": [
    {
     "name": "stdout",
     "output_type": "stream",
     "text": [
      "I love Python\n",
      "I love Python\n",
      "I love Python\n",
      "*******I love Python********\n"
     ]
    }
   ],
   "source": [
    "str1=\"I love Python\"\n",
    "print(str1.strip()) #not specified\n",
    "\n",
    "str2=\"    I love Python      \"\n",
    "print(str2.strip()) #not specified removed white space from start and end\n",
    "\n",
    "str3=\"*******I love Python********\"\n",
    "print(str3.strip(\"*\")) #passing *\n",
    "\n",
    "print(str3.strip(\"love\")) #doesn't match the start and the end"
   ]
  },
  {
   "cell_type": "markdown",
   "id": "9e8b88b4",
   "metadata": {},
   "source": [
    "## 2.14. count()\n",
    "\n",
    "- It will return the <b>total count</b> of a given element in a string.\n",
    "- The counting begins from the start of the string till the end.\n",
    "\n",
    "<blockquote>Syntax: string.count(\"char\" or \"substring\", start, end)</blockquote>\n",
    "\n",
    "start and end are optional"
   ]
  },
  {
   "cell_type": "code",
   "execution_count": 8,
   "id": "4de92739",
   "metadata": {},
   "outputs": [
    {
     "name": "stdout",
     "output_type": "stream",
     "text": [
      "2\n",
      "1\n"
     ]
    }
   ],
   "source": [
    "str1=\"Hello World\"\n",
    "print(str1.count(\"o\"))\n",
    "print(str1.count(\"o\",0, 5)) #with start and end"
   ]
  },
  {
   "cell_type": "code",
   "execution_count": 12,
   "id": "80ff6cdd",
   "metadata": {},
   "outputs": [
    {
     "name": "stdout",
     "output_type": "stream",
     "text": [
      "2\n",
      "1\n"
     ]
    }
   ],
   "source": [
    "str2=\"Welcome to Python and to Hello WorTold\"\n",
    "print(str2.count(\"to\")) #case sensitive\n",
    "print(str2.count(\"to\",3,10))"
   ]
  },
  {
   "cell_type": "markdown",
   "id": "84928e74",
   "metadata": {},
   "source": [
    "## 2.15. format()\n",
    "\n",
    "- format() is a function used to replace, substitute, or convert the string with placeholders with valid values in the final string.\n",
    "- The placeholders inside the string are defined in curly brackets."
   ]
  },
  {
   "cell_type": "code",
   "execution_count": 1,
   "id": "0247029f",
   "metadata": {},
   "outputs": [
    {
     "name": "stdout",
     "output_type": "stream",
     "text": [
      "I Love Python\n"
     ]
    }
   ],
   "source": [
    "print(\"I {} Python\".format(\"Love\")) #string"
   ]
  },
  {
   "cell_type": "code",
   "execution_count": 6,
   "id": "597d3135",
   "metadata": {},
   "outputs": [
    {
     "name": "stdout",
     "output_type": "stream",
     "text": [
      "I Love Python3\n"
     ]
    }
   ],
   "source": [
    "print(\"I Love Python{}\".format(3)) #integer"
   ]
  },
  {
   "cell_type": "code",
   "execution_count": 7,
   "id": "e88293ed",
   "metadata": {},
   "outputs": [
    {
     "name": "stdout",
     "output_type": "stream",
     "text": [
      "I Love Python\n"
     ]
    }
   ],
   "source": [
    "print(\"I Love {name}\".format(name=\"Python\")) #variable"
   ]
  },
  {
   "cell_type": "code",
   "execution_count": 9,
   "id": "544f7bc9",
   "metadata": {},
   "outputs": [
    {
     "name": "stdout",
     "output_type": "stream",
     "text": [
      "I Love Python3\n"
     ]
    }
   ],
   "source": [
    "print(\"I Love {0}{1}\".format(\"Python\",3)) #using index"
   ]
  },
  {
   "cell_type": "markdown",
   "id": "038ccfd5",
   "metadata": {},
   "source": [
    "### <b>:d</b>"
   ]
  },
  {
   "cell_type": "code",
   "execution_count": 10,
   "id": "9a8adf53",
   "metadata": {},
   "outputs": [
    {
     "name": "stdout",
     "output_type": "stream",
     "text": [
      "The binary to decimal value is : 3\n"
     ]
    }
   ],
   "source": [
    "print(\"The binary to decimal value is : {:d}\".format(0b0011)) #It will give the output in decimal format when used inside the placeholder"
   ]
  },
  {
   "cell_type": "markdown",
   "id": "4165387d",
   "metadata": {},
   "source": [
    "### <b>:b</b>"
   ]
  },
  {
   "cell_type": "code",
   "execution_count": 11,
   "id": "a3fb29ff",
   "metadata": {},
   "outputs": [
    {
     "name": "stdout",
     "output_type": "stream",
     "text": [
      "The binary value is : 111110100\n"
     ]
    }
   ],
   "source": [
    "print(\"The binary value is : {:b}\".format(500)) #It will give the output in binary format when used inside the placeholder"
   ]
  },
  {
   "cell_type": "markdown",
   "id": "85007499",
   "metadata": {},
   "source": [
    "### <b>:e</b>"
   ]
  },
  {
   "cell_type": "code",
   "execution_count": 12,
   "id": "b08efd82",
   "metadata": {},
   "outputs": [
    {
     "name": "stdout",
     "output_type": "stream",
     "text": [
      "The scientific value is : 4.000000e+01\n"
     ]
    }
   ],
   "source": [
    "print(\"The scientific value is : {:e}\".format(40)) #It will give the output in scientific format when used inside the placeholder, the exponent e in the output will be lowercase."
   ]
  },
  {
   "cell_type": "markdown",
   "id": "e6c789bc",
   "metadata": {},
   "source": [
    "### <b>:E</b>"
   ]
  },
  {
   "cell_type": "code",
   "execution_count": 13,
   "id": "a789dde7",
   "metadata": {},
   "outputs": [
    {
     "name": "stdout",
     "output_type": "stream",
     "text": [
      "The scientific value is : 4.000000E+01\n"
     ]
    }
   ],
   "source": [
    "print(\"The scientific value is : {:E}\".format(40)) #It will give the output in scientific format when used inside the placeholder, the exponent E in the output will be uppercase"
   ]
  },
  {
   "cell_type": "markdown",
   "id": "e01e6d64",
   "metadata": {},
   "source": [
    "### <b>:f</b>"
   ]
  },
  {
   "cell_type": "code",
   "execution_count": 14,
   "id": "94db08ec",
   "metadata": {},
   "outputs": [
    {
     "name": "stdout",
     "output_type": "stream",
     "text": [
      "The value is : 40.000000\n"
     ]
    }
   ],
   "source": [
    "print(\"The value is : {:f}\".format(40)) #This will output a fixed-point number format. By default, you will get the output of any number with six decimal places."
   ]
  },
  {
   "cell_type": "markdown",
   "id": "00de1757",
   "metadata": {},
   "source": [
    "### <b>:.2f</b>"
   ]
  },
  {
   "cell_type": "code",
   "execution_count": 16,
   "id": "3b764ffc",
   "metadata": {},
   "outputs": [
    {
     "name": "stdout",
     "output_type": "stream",
     "text": [
      "The value is : 40.00\n"
     ]
    }
   ],
   "source": [
    "print(\"The value is : {:.2f}\".format(40)) #In case you need up to 2 decimal places, use it as. 2f i.e.. a period (.) in front of 2f"
   ]
  },
  {
   "cell_type": "markdown",
   "id": "b42aa776",
   "metadata": {},
   "source": [
    "### <b>:.3f</b>"
   ]
  },
  {
   "cell_type": "code",
   "execution_count": 17,
   "id": "3d072520",
   "metadata": {},
   "outputs": [
    {
     "name": "stdout",
     "output_type": "stream",
     "text": [
      "The value of : 40.000\n"
     ]
    }
   ],
   "source": [
    "print(\"The value of : {:.3f}\".format(40)) #In case you need up to 3 decimal places"
   ]
  },
  {
   "cell_type": "markdown",
   "id": "45defb84",
   "metadata": {},
   "source": [
    "### <b>:o</b>"
   ]
  },
  {
   "cell_type": "code",
   "execution_count": 18,
   "id": "1858bd67",
   "metadata": {},
   "outputs": [
    {
     "name": "stdout",
     "output_type": "stream",
     "text": [
      "The value is : 764\n"
     ]
    }
   ],
   "source": [
    "print(\"The value is : {:o}\".format(500)) #This will output octal format"
   ]
  },
  {
   "cell_type": "markdown",
   "id": "b8239527",
   "metadata": {},
   "source": [
    "### <b>:x</b>"
   ]
  },
  {
   "cell_type": "code",
   "execution_count": 19,
   "id": "0854eb66",
   "metadata": {},
   "outputs": [
    {
     "name": "stdout",
     "output_type": "stream",
     "text": [
      "The value is : 1f4\n"
     ]
    }
   ],
   "source": [
    "print(\"The value is : {:x}\".format(500)) #This will output hex format in lowercase"
   ]
  },
  {
   "cell_type": "markdown",
   "id": "537ed30d",
   "metadata": {},
   "source": [
    "### <b>:X</b>"
   ]
  },
  {
   "cell_type": "code",
   "execution_count": 20,
   "id": "fc550f0e",
   "metadata": {},
   "outputs": [
    {
     "name": "stdout",
     "output_type": "stream",
     "text": [
      "The value is : 1F4\n"
     ]
    }
   ],
   "source": [
    "print(\"The value is : {:X}\".format(500)) #This will output hex format in uppercase"
   ]
  },
  {
   "cell_type": "markdown",
   "id": "357b0382",
   "metadata": {},
   "source": [
    "### <b>:n</b>"
   ]
  },
  {
   "cell_type": "code",
   "execution_count": 21,
   "id": "dbcf4c53",
   "metadata": {},
   "outputs": [
    {
     "name": "stdout",
     "output_type": "stream",
     "text": [
      "The value is : 500\n"
     ]
    }
   ],
   "source": [
    "print(\"The value is : {:n}\".format(500.00)) #This will output number format."
   ]
  },
  {
   "cell_type": "markdown",
   "id": "34c59781",
   "metadata": {},
   "source": [
    "### <b>:%</b>"
   ]
  },
  {
   "cell_type": "code",
   "execution_count": 22,
   "id": "6b2c05ca",
   "metadata": {},
   "outputs": [
    {
     "name": "stdout",
     "output_type": "stream",
     "text": [
      "The value is : 80.000000%\n"
     ]
    }
   ],
   "source": [
    "print(\"The value is : {:%}\".format(0.80)) #This will give the output in a percentage format. By default it will give 6 decimal places for the percentage output"
   ]
  },
  {
   "cell_type": "markdown",
   "id": "84625ac0",
   "metadata": {},
   "source": [
    "### <b>:.0%</b> "
   ]
  },
  {
   "cell_type": "code",
   "execution_count": 23,
   "id": "b158595d",
   "metadata": {},
   "outputs": [
    {
     "name": "stdout",
     "output_type": "stream",
     "text": [
      "The value is : 80%\n"
     ]
    }
   ],
   "source": [
    "print(\"The value is : {:.0%}\".format(0.80)) #In case you don’t want any decimal value you can use period with 0"
   ]
  },
  {
   "cell_type": "markdown",
   "id": "060d1c11",
   "metadata": {},
   "source": [
    "### <b>:_</b>"
   ]
  },
  {
   "cell_type": "code",
   "execution_count": 26,
   "id": "8b9142e7",
   "metadata": {},
   "outputs": [
    {
     "name": "stdout",
     "output_type": "stream",
     "text": [
      "The value is : 1_000_000\n"
     ]
    }
   ],
   "source": [
    "print(\"The value is : {:_}\".format(1000000)) #This will output an underscore as a thousand separator."
   ]
  },
  {
   "cell_type": "markdown",
   "id": "fd4c22f6",
   "metadata": {},
   "source": [
    "### <b>:,</b>"
   ]
  },
  {
   "cell_type": "code",
   "execution_count": 27,
   "id": "efc6cb14",
   "metadata": {},
   "outputs": [
    {
     "name": "stdout",
     "output_type": "stream",
     "text": [
      "The value is : 1,000,000\n"
     ]
    }
   ],
   "source": [
    "print(\"The value is : {:,}\".format(1000000)) #This will output comma as a thousands separator"
   ]
  },
  {
   "cell_type": "markdown",
   "id": "eb8ecac4",
   "metadata": {},
   "source": [
    "### :"
   ]
  },
  {
   "cell_type": "code",
   "execution_count": 28,
   "id": "116599c1",
   "metadata": {},
   "outputs": [
    {
     "name": "stdout",
     "output_type": "stream",
     "text": [
      "The value is:    40\n"
     ]
    }
   ],
   "source": [
    "print(\"The value is: {:5}\".format(40)) #This will add a space before any positive numbers. The number 5 indicates the space count you want before the number"
   ]
  },
  {
   "cell_type": "markdown",
   "id": "c84afacc",
   "metadata": {},
   "source": [
    "### <b>:-</b>"
   ]
  },
  {
   "cell_type": "code",
   "execution_count": 29,
   "id": "95e94658",
   "metadata": {},
   "outputs": [
    {
     "name": "stdout",
     "output_type": "stream",
     "text": [
      "The value is: -40\n"
     ]
    }
   ],
   "source": [
    "print(\"The value is: {:-}\".format(-40)) #This will add a minus sign before negative numbers"
   ]
  },
  {
   "cell_type": "markdown",
   "id": "843f6aee",
   "metadata": {},
   "source": [
    "### <b>:+</b>"
   ]
  },
  {
   "cell_type": "code",
   "execution_count": 30,
   "id": "a7360e72",
   "metadata": {},
   "outputs": [
    {
     "name": "stdout",
     "output_type": "stream",
     "text": [
      "The value is: +40\n"
     ]
    }
   ],
   "source": [
    "print(\"The value is: {:+}\".format(40)) #You can use plus sign to indicate the number is positive"
   ]
  },
  {
   "cell_type": "markdown",
   "id": "19d4b964",
   "metadata": {},
   "source": [
    "### <b>:=</b>"
   ]
  },
  {
   "cell_type": "code",
   "execution_count": 32,
   "id": "5d4a6452",
   "metadata": {},
   "outputs": [
    {
     "name": "stdout",
     "output_type": "stream",
     "text": [
      "The value is -40\n",
      "The value is 40\n"
     ]
    }
   ],
   "source": [
    "print(\"The value is {:=}\".format(-40)) #The equal to is used to place the +/- sign on the left side.\n",
    "print(\"The value is {:=}\".format(+40))"
   ]
  },
  {
   "cell_type": "markdown",
   "id": "2bbf1fd2",
   "metadata": {},
   "source": [
    "### <b>:^</b>"
   ]
  },
  {
   "cell_type": "code",
   "execution_count": 33,
   "id": "d9f9c81b",
   "metadata": {},
   "outputs": [
    {
     "name": "stdout",
     "output_type": "stream",
     "text": [
      "The value     40     is positive value\n"
     ]
    }
   ],
   "source": [
    "print(\"The value {:^10} is positive value\".format(40)) #The number 10 is used to add 10 spaces to show the center-aligned. The value to be replaced will be center-aligned between the 10 spaces"
   ]
  },
  {
   "cell_type": "markdown",
   "id": "3c3c92ca",
   "metadata": {},
   "source": [
    "### <b>:></b>"
   ]
  },
  {
   "cell_type": "code",
   "execution_count": 34,
   "id": "06e2be29",
   "metadata": {},
   "outputs": [
    {
     "name": "stdout",
     "output_type": "stream",
     "text": [
      "The value         40 is positive value\n"
     ]
    }
   ],
   "source": [
    "print(\"The value {:>10} is positive value\".format(40)) #This will right-align the final result. The space of 10 is added and the value replaced is right-aligned."
   ]
  },
  {
   "cell_type": "markdown",
   "id": "da947fb3",
   "metadata": {},
   "source": [
    "### <b>:<</b>"
   ]
  },
  {
   "cell_type": "code",
   "execution_count": 35,
   "id": "dc93adbf",
   "metadata": {},
   "outputs": [
    {
     "name": "stdout",
     "output_type": "stream",
     "text": [
      "The value 40         is positive value\n"
     ]
    }
   ],
   "source": [
    "print(\"The value {:<10} is positive value\".format(40)) #This will left align the final result. The space of 10 is added and the value replaced is left-aligned."
   ]
  },
  {
   "cell_type": "code",
   "execution_count": 37,
   "id": "bbf9eb62",
   "metadata": {},
   "outputs": [
    {
     "name": "stdout",
     "output_type": "stream",
     "text": [
      "I have     2 dogs and     1 cat\n",
      "\n",
      "I have     2 dogs and     1 cat\n"
     ]
    }
   ],
   "source": [
    "print(\"I have {:5} dogs and {:5} cat\".format(2,1)) #5 is for spacing & passing 2,1\n",
    "print()\n",
    "print(\"I have {0:5} dogs and {1:5} cat\".format(2,1)) #0,1 as index"
   ]
  },
  {
   "cell_type": "markdown",
   "id": "471497eb",
   "metadata": {},
   "source": [
    "## 2.16. len()\n",
    "\n",
    "- len() to get the <b>length</b> of the given string, array, list, tuple, dictionary, etc.\n",
    "- It returns the number of characters in a string, which <b>includes</b> punctuation, space, and all type of special characters."
   ]
  },
  {
   "cell_type": "code",
   "execution_count": 41,
   "id": "adbc49af",
   "metadata": {},
   "outputs": [
    {
     "name": "stdout",
     "output_type": "stream",
     "text": [
      "The length of the string is : 13\n"
     ]
    }
   ],
   "source": [
    "str1=\"I love python\"\n",
    "print(\"The length of the string is :\",len(str1))"
   ]
  },
  {
   "cell_type": "markdown",
   "id": "83d6099c",
   "metadata": {},
   "source": [
    "## 2.17. find()\n",
    "\n",
    "- To find the <b>index</b>. of the <b>first</b> occurrence of a substring from the given string.\n",
    "- The string find() function will return <b>-1</b> instead of throwing an exception, if the specified substring is <b>not present</b> in the given string.\n",
    "- If the substring is present <b>multiple times</b> in the given string, still it will return you the index or position of the <b>first one</b>."
   ]
  },
  {
   "cell_type": "code",
   "execution_count": 48,
   "id": "eb4b2c1b",
   "metadata": {},
   "outputs": [
    {
     "name": "stdout",
     "output_type": "stream",
     "text": [
      "-1\n",
      "15\n",
      "3\n"
     ]
    }
   ],
   "source": [
    "str2=\"Hello World. I love Python\"\n",
    "print(str2.find(\"Love\"))\n",
    "print(str2.find(\"love\"))\n",
    "print(str2.find(\"lo\",0,25))"
   ]
  },
  {
   "cell_type": "code",
   "execution_count": 49,
   "id": "71ae4a5e",
   "metadata": {},
   "outputs": [
    {
     "name": "stdout",
     "output_type": "stream",
     "text": [
      "15\n",
      "15\n"
     ]
    }
   ],
   "source": [
    "print(str2.find(\"love\", 2)) #start\n",
    "print(str2.find(\"love\",0, 25)) #start, end"
   ]
  },
  {
   "cell_type": "markdown",
   "id": "e1940d79",
   "metadata": {},
   "source": [
    "## 2.18. rfind()\n",
    "\n",
    "- rfind() is similar to find() function with the only difference is that rfind() gives the <b>highest index</b> for the substring given and find() gives the <b>lowest index</b> i.e the very first index.\n",
    "- Both rfind() and find() will return <>b-1</b> if the substring is <b>not present</b>."
   ]
  },
  {
   "cell_type": "code",
   "execution_count": 56,
   "id": "8b329caa",
   "metadata": {},
   "outputs": [
    {
     "name": "stdout",
     "output_type": "stream",
     "text": [
      "33\n",
      "-1\n",
      "15\n"
     ]
    }
   ],
   "source": [
    "str2=\"Hello World. I love Python and I love coding\"\n",
    "print(str2.rfind(\"love\")) #rfind()\n",
    "print(str2.rfind(\"Java\"))\n",
    "print(str2.find(\"love\")) #find()"
   ]
  },
  {
   "cell_type": "markdown",
   "id": "9a609d96",
   "metadata": {},
   "source": [
    "## 2.19. index()\n",
    "\n",
    "- index() is function that will give you the position of the substring given just like find(). \n",
    "- The only difference between the two is, index() will <b>throw</b> an exception if the substring is <b>not present</b> in the string."
   ]
  },
  {
   "cell_type": "code",
   "execution_count": 61,
   "id": "869ced41",
   "metadata": {},
   "outputs": [
    {
     "name": "stdout",
     "output_type": "stream",
     "text": [
      "15\n",
      "15\n"
     ]
    },
    {
     "ename": "ValueError",
     "evalue": "substring not found",
     "output_type": "error",
     "traceback": [
      "\u001b[1;31m---------------------------------------------------------------------------\u001b[0m",
      "\u001b[1;31mValueError\u001b[0m                                Traceback (most recent call last)",
      "\u001b[1;32m<ipython-input-61-d98fd680dd85>\u001b[0m in \u001b[0;36m<module>\u001b[1;34m\u001b[0m\n\u001b[0;32m      2\u001b[0m \u001b[0mprint\u001b[0m\u001b[1;33m(\u001b[0m\u001b[0mstr2\u001b[0m\u001b[1;33m.\u001b[0m\u001b[0mindex\u001b[0m\u001b[1;33m(\u001b[0m\u001b[1;34m\"love\"\u001b[0m\u001b[1;33m)\u001b[0m\u001b[1;33m)\u001b[0m\u001b[1;33m\u001b[0m\u001b[1;33m\u001b[0m\u001b[0m\n\u001b[0;32m      3\u001b[0m \u001b[0mprint\u001b[0m\u001b[1;33m(\u001b[0m\u001b[0mstr2\u001b[0m\u001b[1;33m.\u001b[0m\u001b[0mfind\u001b[0m\u001b[1;33m(\u001b[0m\u001b[1;34m\"love\"\u001b[0m\u001b[1;33m)\u001b[0m\u001b[1;33m)\u001b[0m\u001b[1;33m\u001b[0m\u001b[1;33m\u001b[0m\u001b[0m\n\u001b[1;32m----> 4\u001b[1;33m \u001b[0mprint\u001b[0m\u001b[1;33m(\u001b[0m\u001b[0mstr2\u001b[0m\u001b[1;33m.\u001b[0m\u001b[0mindex\u001b[0m\u001b[1;33m(\u001b[0m\u001b[1;34m\"Love\"\u001b[0m\u001b[1;33m)\u001b[0m\u001b[1;33m)\u001b[0m\u001b[1;33m\u001b[0m\u001b[1;33m\u001b[0m\u001b[0m\n\u001b[0m",
      "\u001b[1;31mValueError\u001b[0m: substring not found"
     ]
    }
   ],
   "source": [
    "str2=\"Hello World. I love Python and I love coding\"\n",
    "print(str2.index(\"love\"))\n",
    "print(str2.find(\"love\"))\n",
    "print(str2.index(\"Love\"))"
   ]
  },
  {
   "cell_type": "code",
   "execution_count": 65,
   "id": "ecd5f8a5",
   "metadata": {},
   "outputs": [
    {
     "name": "stdout",
     "output_type": "stream",
     "text": [
      "The total count of substring test is:  2\n"
     ]
    }
   ],
   "source": [
    "# To find the total occurrence of a substring\n",
    "str2 = \"Hello World. I love Python and I love coding\"\n",
    "startIndex = 0\n",
    "count = 0\n",
    "for i in range(len(str2)):\n",
    "    k = str2.find('love', startIndex)\n",
    "    if(k != -1):\n",
    "        startIndex = k+1\n",
    "        count += 1\n",
    "        k = 0\n",
    "\n",
    "print(\"The total count of substring test is: \", count )"
   ]
  },
  {
   "cell_type": "code",
   "execution_count": null,
   "id": "7b4d69d2",
   "metadata": {},
   "outputs": [],
   "source": []
  }
 ],
 "metadata": {
  "kernelspec": {
   "display_name": "Python 3",
   "language": "python",
   "name": "python3"
  },
  "language_info": {
   "codemirror_mode": {
    "name": "ipython",
    "version": 3
   },
   "file_extension": ".py",
   "mimetype": "text/x-python",
   "name": "python",
   "nbconvert_exporter": "python",
   "pygments_lexer": "ipython3",
   "version": "3.8.8"
  }
 },
 "nbformat": 4,
 "nbformat_minor": 5
}
