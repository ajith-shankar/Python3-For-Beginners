{
 "cells": [
  {
   "cell_type": "markdown",
   "id": "3f324a74",
   "metadata": {},
   "source": [
    "# <font color=blue>Tips and Tricks of Jupyter Notebook</font>"
   ]
  },
  {
   "cell_type": "markdown",
   "id": "2b3d517e",
   "metadata": {},
   "source": [
    "# 1. Headings\n",
    "\n",
    "Use # followed by blank space\n",
    "\n",
    "1. # Title\n",
    "2. ## Major Heading\n",
    "3. ### Sub Heading\n",
    "4. #### 4th sub heading\n",
    "\n",
    "so on upto 6 level"
   ]
  },
  {
   "cell_type": "markdown",
   "id": "14554f98",
   "metadata": {},
   "source": [
    "# 2. Line Break\n",
    "\n",
    "1. Use <br> tag"
   ]
  },
  {
   "cell_type": "markdown",
   "id": "c39c0c77",
   "metadata": {},
   "source": [
    "# 3. Bold\n",
    "\n",
    "1. Use <b>\\<b></b> as prefix and suffix <br>\n",
    "    <b>Example</b>\n",
    "        \n",
    "2. Use ** as prefix and suffix <br> **Example2**\n",
    "      \n",
    "3. Use __ as prefix and suffix <br> __Example3__\n",
    "      "
   ]
  },
  {
   "cell_type": "markdown",
   "id": "e538ecae",
   "metadata": {},
   "source": [
    "# 4. Italic\n",
    "\n",
    "1. Use <i>\\<i></i> as prefix and suffix <br>\n",
    "      <i>Example</i>\n",
    "      \n",
    "2. Use * as prefix and suffix <br> *Example2*\n",
    "\n",
    "3. Use _ as prefix and suffix <br> _Example3_"
   ]
  },
  {
   "cell_type": "markdown",
   "id": "cd5bebad",
   "metadata": {},
   "source": [
    "# 5. Bullets\n",
    "\n",
    "1. Main Bullet: <br> Use dash sign (-) or asterick sign (*) followed by blank space\n",
    "- Example\n",
    "* Example\n",
    "\n",
    "2. Sub Bullet: <br> Use TAB follwed a dash sign (-) or asterick sign (*) followed by blank space\n",
    "    - Example\n",
    "    * Example"
   ]
  },
  {
   "cell_type": "markdown",
   "id": "d21d1617",
   "metadata": {},
   "source": [
    "# 6. Mathematical Symbol\n",
    "\n",
    "Use Dollar sign as prefix and suffix <br> $\\sqrt{k}$ $-$5 $*$10 $\\%$100"
   ]
  },
  {
   "cell_type": "markdown",
   "id": "95a69dcf",
   "metadata": {},
   "source": [
    "# 7. Blockquotes\n",
    "\n",
    "1. Use greater than sign (>) then space <br>\n",
    "> this is blockquote\n",
    "\n",
    "2. Use \\<blockquote> as prefix and suffix <br>\n",
    "<blockquote>this is blockquote</blockquote>"
   ]
  },
  {
   "cell_type": "markdown",
   "id": "f32eab1a",
   "metadata": {},
   "source": [
    "# 8. Code \n",
    "\n",
    "1. Use \\` as prefix and suffix <br> `print(\"Hello World!\")`\n",
    "\n",
    "\n",
    "2. Use \\<code> as suffix and prefix <br> <code> print(\"Hellp World!\")</code>"
   ]
  },
  {
   "cell_type": "markdown",
   "id": "3f605dad",
   "metadata": {},
   "source": [
    "# 9. Colour\n",
    "\n",
    "1. Use this code \\<font color=colourname>Your Text<\\/font>\n",
    "\n",
    "<font color=blue>Hello World</font> <br>\n",
    "<font color=Red>Hello World</font> <br>\n",
    "<font color=Yellow>Hello World</font>"
   ]
  },
  {
   "cell_type": "markdown",
   "id": "05296179",
   "metadata": {},
   "source": [
    "# 10. Links\n",
    "\n",
    "1. Internal Link:<br>\n",
    "Here we have two components    \n",
    "    - Source\n",
    "    - Destination\n",
    "    \n",
    "\n",
    "\n",
    "\n",
    "2. Extrenal Link:<br>\n",
    "\\[Your Text](http://url.com)"
   ]
  },
  {
   "cell_type": "code",
   "execution_count": null,
   "id": "ab9dd019",
   "metadata": {},
   "outputs": [],
   "source": []
  }
 ],
 "metadata": {
  "kernelspec": {
   "display_name": "Python 3",
   "language": "python",
   "name": "python3"
  },
  "language_info": {
   "codemirror_mode": {
    "name": "ipython",
    "version": 3
   },
   "file_extension": ".py",
   "mimetype": "text/x-python",
   "name": "python",
   "nbconvert_exporter": "python",
   "pygments_lexer": "ipython3",
   "version": "3.8.8"
  }
 },
 "nbformat": 4,
 "nbformat_minor": 5
}
