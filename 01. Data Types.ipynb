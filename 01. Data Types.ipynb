{
 "cells": [
  {
   "cell_type": "markdown",
   "id": "a10deb5e",
   "metadata": {},
   "source": [
    "# <font color=Blue>Data Types</font>"
   ]
  },
  {
   "cell_type": "markdown",
   "id": "93a767b1",
   "metadata": {},
   "source": [
    "Following are the built in Data Types and their Type<br>\n",
    "1. Numeric type : int, flot, complex\n",
    "2. String type : str\n",
    "3. Sequence type : list, tuple, range\n",
    "4. Mapping type : dict\n",
    "5. Boolean type : bool\n",
    "6. Set type : set, frozenset\n",
    "7. Binary type : bytes, bytearray, memoryview\n",
    "8. None type : None"
   ]
  },
  {
   "cell_type": "markdown",
   "id": "080161f2",
   "metadata": {},
   "source": [
    "## 1. Numeric "
   ]
  },
  {
   "cell_type": "code",
   "execution_count": 3,
   "id": "05ba6c49",
   "metadata": {},
   "outputs": [
    {
     "name": "stdout",
     "output_type": "stream",
     "text": [
      "<class 'int'>\n",
      "<class 'float'>\n",
      "<class 'complex'>\n",
      "5.0\n",
      "<class 'float'>\n",
      "2\n",
      "<class 'int'>\n",
      "(1+0j)\n",
      "<class 'complex'>\n"
     ]
    }
   ],
   "source": [
    "x=5\n",
    "print(type(x))\n",
    "\n",
    "y=10.3456\n",
    "print(type(y))\n",
    "\n",
    "z=5+2j\n",
    "print(type(z))\n",
    "\n",
    "m=float(5)\n",
    "print(m)\n",
    "print(type(m))\n",
    "\n",
    "n=int(2.8)\n",
    "print(n)\n",
    "print(type(n))\n",
    "\n",
    "o=complex(1)\n",
    "print(o)\n",
    "print(type(o))"
   ]
  },
  {
   "cell_type": "code",
   "execution_count": null,
   "id": "ced11aac",
   "metadata": {},
   "outputs": [],
   "source": []
  },
  {
   "cell_type": "markdown",
   "id": "140124d3",
   "metadata": {},
   "source": []
  },
  {
   "cell_type": "markdown",
   "id": "172ce39f",
   "metadata": {},
   "source": [
    "### 3.1. Adding data at the end"
   ]
  },
  {
   "cell_type": "code",
   "execution_count": 11,
   "id": "30e0203f",
   "metadata": {},
   "outputs": [
    {
     "name": "stdout",
     "output_type": "stream",
     "text": [
      "['Apple', 'Banana', 'Orange', 'Apple', 'Grapes']\n"
     ]
    }
   ],
   "source": [
    "var.append(\"Grapes\")\n",
    "print(var)"
   ]
  },
  {
   "cell_type": "markdown",
   "id": "f0b27236",
   "metadata": {},
   "source": [
    "### 4. None"
   ]
  },
  {
   "cell_type": "code",
   "execution_count": 3,
   "id": "1099f2a8",
   "metadata": {},
   "outputs": [
    {
     "name": "stdout",
     "output_type": "stream",
     "text": [
      "<class 'NoneType'>\n"
     ]
    }
   ],
   "source": [
    "x=None\n",
    "print(type(x))"
   ]
  }
 ],
 "metadata": {
  "kernelspec": {
   "display_name": "Python 3",
   "language": "python",
   "name": "python3"
  },
  "language_info": {
   "codemirror_mode": {
    "name": "ipython",
    "version": 3
   },
   "file_extension": ".py",
   "mimetype": "text/x-python",
   "name": "python",
   "nbconvert_exporter": "python",
   "pygments_lexer": "ipython3",
   "version": "3.8.8"
  }
 },
 "nbformat": 4,
 "nbformat_minor": 5
}
