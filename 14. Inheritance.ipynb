{
 "cells": [
  {
   "cell_type": "markdown",
   "id": "10c0377f",
   "metadata": {},
   "source": [
    "# <font color=Blue>Inheritance</font>"
   ]
  },
  {
   "cell_type": "markdown",
   "id": "e8cc04a7",
   "metadata": {},
   "source": [
    "The process of <b>inheriting the properties of the parent class into a child class</b> is called inheritance.<br>\n",
    "The existing class is called a base class or parent class and the new class is called a subclass or child class or derived class.<br>\n",
    "<b>Syntax:</b>"
   ]
  },
  {
   "cell_type": "code",
   "execution_count": null,
   "id": "0d2c6248",
   "metadata": {},
   "outputs": [],
   "source": [
    "class BaseClass:\n",
    "  #Body of base class\n",
    "class DerivedClass(BaseClass):\n",
    "  #Body of derived class"
   ]
  },
  {
   "cell_type": "markdown",
   "id": "e8435301",
   "metadata": {},
   "source": [
    "## Types Of Inheritance\n",
    "\n",
    "- In Python, based upon the number of child and parent classes involved, there are five types of inheritance. The type of inheritance are listed below:\n",
    "    1. Single inheritance\n",
    "    2. Multiple Inheritance\n",
    "    3. Multilevel inheritance\n",
    "    4. Hierarchical Inheritance\n",
    "    5. Hybrid Inheritance"
   ]
  },
  {
   "cell_type": "markdown",
   "id": "3013878c",
   "metadata": {},
   "source": [
    "## 1. Single Inheritance\n",
    "\n",
    "- In single inheritance, <b>a child</b> class inherits from a <b>single-parent</b> class. \n",
    "- Here is <b>one child</b> class and <b>one parent</b> class."
   ]
  },
  {
   "cell_type": "markdown",
   "id": "57caba1a",
   "metadata": {},
   "source": [
    "<img src=\"https://pynative.com/wp-content/uploads/2021/03/python_single_inheritance.png\" />"
   ]
  },
  {
   "cell_type": "code",
   "execution_count": 4,
   "id": "db675396",
   "metadata": {},
   "outputs": [
    {
     "name": "stdout",
     "output_type": "stream",
     "text": [
      "Inside Vehicle class\n",
      "Inside Car class\n"
     ]
    }
   ],
   "source": [
    "#parent class\n",
    "class Vehicle:\n",
    "    def vehicle_info(self):\n",
    "        print(\"Inside Vehicle class\")\n",
    "        \n",
    "#child class\n",
    "class Car(Vehicle):\n",
    "    def car_info(self):\n",
    "        print(\"Inside Car class\")\n",
    "        \n",
    "#object of child\n",
    "car1 = Car()\n",
    "\n",
    "#access parent class members using child class object\n",
    "car1.vehicle_info()\n",
    "\n",
    "car1.car_info()"
   ]
  },
  {
   "cell_type": "markdown",
   "id": "834d1293",
   "metadata": {},
   "source": [
    "## 2. Multiple Inheritance\n",
    "\n",
    "- In multiple inheritance, <b>one child</b> class can inherit from <b>multiple parent</b> classes.\n",
    "- Here is <b>one child</b> class and <b>multiple parent</b> classes."
   ]
  },
  {
   "cell_type": "markdown",
   "id": "cdbcbef9",
   "metadata": {},
   "source": [
    "<img src=\"https://pynative.com/wp-content/uploads/2021/03/python_multiple_inheritance.png\" />"
   ]
  },
  {
   "cell_type": "code",
   "execution_count": 13,
   "id": "21ac9155",
   "metadata": {},
   "outputs": [
    {
     "name": "stdout",
     "output_type": "stream",
     "text": [
      "Inside Person class\n",
      "Name: Jessa, Age: 28\n",
      "Inside Company class\n",
      "Company Name: Google, Location: Atlanta\n",
      "Inside Employee class\n",
      "Salary: 12000, Skill: Machine Learning\n"
     ]
    }
   ],
   "source": [
    "#parent class 1\n",
    "class Person:\n",
    "    def person_info(self, name, age):\n",
    "        print(\"Inside Person class\")\n",
    "        print(f\"Name: {name}, Age: {age}\")\n",
    "        \n",
    "        \n",
    "#parent class 2\n",
    "class Company:\n",
    "    def company_info(self, company_name, location):\n",
    "        print(\"Inside Company class\")\n",
    "        print(f\"Company Name: {company_name}, Location: {location}\")\n",
    "        \n",
    "        \n",
    "#child class\n",
    "class Employee(Person, Company):\n",
    "    def employee_info(self, salary, skill):\n",
    "        print(\"Inside Employee class\")\n",
    "        print(f\"Salary: {salary}, Skill: {skill}\")\n",
    "\n",
    "\n",
    "#object creation\n",
    "emp = Employee()\n",
    "\n",
    "emp.person_info('Jessa', 28)\n",
    "emp.company_info('Google', 'Atlanta')\n",
    "emp.employee_info(12000, 'Machine Learning')"
   ]
  },
  {
   "cell_type": "markdown",
   "id": "89597a8d",
   "metadata": {},
   "source": [
    "## 3. Multilevel Inheritance\n",
    "\n",
    "- In multilevel inheritance, <b>a class inherits from a child class</b>.\n",
    "- Suppose three classes A, B and C. A is the superclass, B is the child class of A, C is the child class of B.\n",
    "- In other words, we can say a <b>chain of classes</b> is called multilevel inheritance."
   ]
  },
  {
   "cell_type": "markdown",
   "id": "42126eb1",
   "metadata": {},
   "source": [
    "<img src=\"https://pynative.com/wp-content/uploads/2021/03/python_multilevel_inheritance.png\" alt=\"Multilevel\"/>"
   ]
  },
  {
   "cell_type": "code",
   "execution_count": 1,
   "id": "b4531f67",
   "metadata": {},
   "outputs": [
    {
     "name": "stdout",
     "output_type": "stream",
     "text": [
      "Inside Vehicle class\n",
      "Inside Car class\n",
      "Inside SportsCar class\n"
     ]
    }
   ],
   "source": [
    "#parent class\n",
    "class Vehicle:\n",
    "    def vehicle_info(self):\n",
    "        print(\"Inside Vehicle class\")\n",
    "        \n",
    "#child class 1\n",
    "class Car(Vehicle):\n",
    "    def car_info(self):\n",
    "        print(\"Inside Car class\")\n",
    "        \n",
    "#child class 2\n",
    "class SportsCar(Car):\n",
    "    def sportscar_info(self):\n",
    "        print(\"Inside SportsCar class\")\n",
    "        \n",
    "        \n",
    "#object of SportsCar\n",
    "s_car = SportsCar()\n",
    "\n",
    "#access Vehicle & Car class using SportsCar object\n",
    "s_car.vehicle_info()\n",
    "s_car.car_info()\n",
    "s_car.sportscar_info()    "
   ]
  },
  {
   "cell_type": "markdown",
   "id": "9cbde898",
   "metadata": {},
   "source": [
    "## 4. Hierarchical Inheritance\n",
    "\n",
    "- In Hierarchical inheritance, <b>more than one child</b> class is derived from a <b>single parent</b> class.\n",
    "- Here <b>one parent</b> class and <b>multiple child</b> classes."
   ]
  },
  {
   "cell_type": "markdown",
   "id": "1a9bae43",
   "metadata": {},
   "source": [
    "<img src=\"https://pynative.com/wp-content/uploads/2021/03/python_hierarchical_inheritance.png\" />"
   ]
  },
  {
   "cell_type": "code",
   "execution_count": 10,
   "id": "119ab357",
   "metadata": {},
   "outputs": [
    {
     "name": "stdout",
     "output_type": "stream",
     "text": [
      "Inside Vehicle class\n",
      "Car name is: BMW\n",
      "Inside Vehicle class\n",
      "Truck name is: Ford\n"
     ]
    }
   ],
   "source": [
    "#parent class\n",
    "class Vehicle:\n",
    "    def vehicle_info(self):\n",
    "        print(\"Inside Vehicle class\")\n",
    "        \n",
    "        \n",
    "#child class 1\n",
    "class Car(Vehicle):\n",
    "    def car_info(self, name):\n",
    "        print(\"Car name is:\", name)\n",
    "        \n",
    "#child class 2\n",
    "class Truck(Vehicle):\n",
    "    def truck_info(self, name):\n",
    "        print(\"Truck name is:\", name)\n",
    "        \n",
    "        \n",
    "#object of Car\n",
    "obj1 = Car()\n",
    "obj1.vehicle_info()\n",
    "obj1.car_info(\"BMW\")\n",
    "\n",
    "#object of Truck\n",
    "obj2 = Truck()\n",
    "obj2.vehicle_info()\n",
    "obj2.truck_info(\"Ford\")"
   ]
  },
  {
   "cell_type": "markdown",
   "id": "cbde5cfa",
   "metadata": {},
   "source": [
    "## 5. Hybrid Inheritance\n",
    "\n",
    "- When inheritance is consists of <b>multiple types or a combination of different inheritance</b> is called hybrid inheritance."
   ]
  },
  {
   "cell_type": "markdown",
   "id": "d67c5409",
   "metadata": {},
   "source": [
    "<img src=\"https://pynative.com/wp-content/uploads/2021/03/python_hybrid_inheritance.png\" />"
   ]
  },
  {
   "cell_type": "code",
   "execution_count": 12,
   "id": "2e620e33",
   "metadata": {},
   "outputs": [
    {
     "name": "stdout",
     "output_type": "stream",
     "text": [
      "Inside Vehicle class\n",
      "Inside Car class\n",
      "Inside SportsCar class\n"
     ]
    }
   ],
   "source": [
    "#hierarchical inheritance\n",
    "class Vehicle:\n",
    "    def vehicle_info(self):\n",
    "        print(\"Inside Vehicle class\")\n",
    "\n",
    "#hierarchical inheritance\n",
    "class Car(Vehicle):\n",
    "    def car_info(self):\n",
    "        print(\"Inside Car class\")\n",
    "        \n",
    "#hierarchical inheritance\n",
    "class Truck(Vehicle):\n",
    "    def truck_info(self):\n",
    "        print(\"Inside Truck class\")\n",
    "        \n",
    "#multiple inheritance\n",
    "class SportsCar(Car, Vehicle):\n",
    "    def sportscar_info(self):\n",
    "        print(\"Inside SportsCar class\")\n",
    "        \n",
    "        \n",
    "#object of SportsCar\n",
    "s_car = SportsCar()\n",
    "\n",
    "s_car.vehicle_info()\n",
    "s_car.car_info()\n",
    "s_car.sportscar_info()\n",
    "\n",
    "#s_car.truck_info() #it will gives an error"
   ]
  },
  {
   "cell_type": "markdown",
   "id": "583c55de",
   "metadata": {},
   "source": [
    "# super() function"
   ]
  },
  {
   "cell_type": "markdown",
   "id": "914ddb32",
   "metadata": {},
   "source": [
    "The super function returns a <b>temporary object</b> of the parent class that allows us to call a parent class method inside a child class method."
   ]
  },
  {
   "cell_type": "markdown",
   "id": "82036f68",
   "metadata": {},
   "source": [
    "- We are not required to remember or specify the parent class name to access its methods.\n",
    "- We can use the super() function in both <b>single</b> and <b>multiple</b> inheritances.\n",
    "- The super() function support code <b>reusability</b> as there is no need to write the entire function"
   ]
  },
  {
   "cell_type": "code",
   "execution_count": 20,
   "id": "dc8be12c",
   "metadata": {},
   "outputs": [
    {
     "name": "stdout",
     "output_type": "stream",
     "text": [
      "Emma works at Google\n"
     ]
    }
   ],
   "source": [
    "class Company:\n",
    "    def company_info(self):\n",
    "        return \"Google\"\n",
    "    \n",
    "class Employee(Company):\n",
    "    def employee_info(self, name):\n",
    "        #using super() call superclass method\n",
    "        com_name = super().company_info()\n",
    "        print(f\"{name} works at {com_name}\")\n",
    "        \n",
    "        \n",
    "#object of child class\n",
    "emp1 = Employee()\n",
    "emp1.employee_info(\"Emma\")"
   ]
  },
  {
   "cell_type": "markdown",
   "id": "92a856e5",
   "metadata": {},
   "source": [
    "## issubclass()\n",
    "\n",
    "- This function returns True if the given class is the subclass of the specified class. Otherwise, it returns False.\n",
    "- Syntax: <b>issubclass(class, classinfo)</b> <br>\n",
    "Where,<br>\n",
    "class: class to be checked.<br>\n",
    "classinfo: a class, type, or a tuple of classes or data types."
   ]
  },
  {
   "cell_type": "code",
   "execution_count": 21,
   "id": "c66dd2a2",
   "metadata": {},
   "outputs": [
    {
     "name": "stdout",
     "output_type": "stream",
     "text": [
      "True\n",
      "False\n",
      "False\n",
      "True\n",
      "True\n"
     ]
    }
   ],
   "source": [
    "class Company:\n",
    "    def fun1(self):\n",
    "        print(\"Inside parent class\")\n",
    "\n",
    "class Employee(Company):\n",
    "    def fun2(self):\n",
    "        print(\"Inside child class.\")\n",
    "\n",
    "class Player:\n",
    "    def fun3(self):\n",
    "        print(\"Inside Player class.\")\n",
    "\n",
    "# Result True\n",
    "print(issubclass(Employee, Company))\n",
    "\n",
    "# Result False\n",
    "print(issubclass(Employee, list))\n",
    "\n",
    "# Result False\n",
    "print(issubclass(Player, Company))\n",
    "\n",
    "# Result True\n",
    "print(issubclass(Employee, (list, Company)))\n",
    "\n",
    "# Result True\n",
    "print(issubclass(Company, (list, Company)))"
   ]
  },
  {
   "cell_type": "markdown",
   "id": "70c6377d",
   "metadata": {},
   "source": [
    "## Method Overriding\n",
    "\n",
    "- In inheritance, all members available in the parent class are by default available in the child class.\n",
    "- When a child class method has the <b>same name, same parameters, and same return type as a method in its superclass</b>, then the method in the child is said to override the method in the parent class."
   ]
  },
  {
   "cell_type": "code",
   "execution_count": 23,
   "id": "a565ebe8",
   "metadata": {},
   "outputs": [
    {
     "name": "stdout",
     "output_type": "stream",
     "text": [
      "Inside max_speed() of Car class\n"
     ]
    }
   ],
   "source": [
    "class Vehicle:\n",
    "    def max_speed(self):\n",
    "        print(\"Inside max_speed() of Vehicle class\")\n",
    "        \n",
    "class Car(Vehicle):\n",
    "    def max_speed(self):\n",
    "        print(\"Inside max_speed() of Car class\")\n",
    "        \n",
    "cr1 = Car()\n",
    "cr1.max_speed()"
   ]
  },
  {
   "cell_type": "code",
   "execution_count": null,
   "id": "667b0c2d",
   "metadata": {},
   "outputs": [],
   "source": []
  }
 ],
 "metadata": {
  "kernelspec": {
   "display_name": "Python 3",
   "language": "python",
   "name": "python3"
  },
  "language_info": {
   "codemirror_mode": {
    "name": "ipython",
    "version": 3
   },
   "file_extension": ".py",
   "mimetype": "text/x-python",
   "name": "python",
   "nbconvert_exporter": "python",
   "pygments_lexer": "ipython3",
   "version": "3.8.8"
  }
 },
 "nbformat": 4,
 "nbformat_minor": 5
}
