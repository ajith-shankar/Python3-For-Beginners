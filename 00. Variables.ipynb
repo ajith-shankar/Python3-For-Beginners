{
 "cells": [
  {
   "cell_type": "markdown",
   "id": "b9844ad0",
   "metadata": {},
   "source": [
    "# <font color=Blue>Variables</font>"
   ]
  },
  {
   "cell_type": "markdown",
   "id": "a4135349",
   "metadata": {},
   "source": [
    "Use a lower case single letter, word, or words. Separate words by underscores to improve readability <br>Example: <b>my_variable</b>, or <b>x</b>, or <b>var</b>"
   ]
  },
  {
   "cell_type": "code",
   "execution_count": null,
   "id": "e411dede",
   "metadata": {},
   "outputs": [],
   "source": [
    "a=6\n",
    "var=10.5\n",
    "my_name=\"Ajith\""
   ]
  },
  {
   "cell_type": "code",
   "execution_count": null,
   "id": "ef16634a",
   "metadata": {},
   "outputs": [],
   "source": [
    "a"
   ]
  },
  {
   "cell_type": "code",
   "execution_count": null,
   "id": "f0f43912",
   "metadata": {},
   "outputs": [],
   "source": [
    "print(my_name)"
   ]
  },
  {
   "cell_type": "code",
   "execution_count": null,
   "id": "3eb3cef5",
   "metadata": {},
   "outputs": [],
   "source": [
    "print(var)"
   ]
  },
  {
   "cell_type": "code",
   "execution_count": null,
   "id": "fb157b24",
   "metadata": {},
   "outputs": [],
   "source": [
    "a=b=c=10\n",
    "print(b)"
   ]
  },
  {
   "cell_type": "code",
   "execution_count": null,
   "id": "9c30e43f",
   "metadata": {},
   "outputs": [],
   "source": [
    "a, flt_num, stng = 3, 23.6, \"Ajith\"\n",
    "print(a)\n",
    "print(flt_num)\n",
    "print(stng)"
   ]
  },
  {
   "cell_type": "code",
   "execution_count": 1,
   "id": "ef112faf",
   "metadata": {},
   "outputs": [
    {
     "name": "stdout",
     "output_type": "stream",
     "text": [
      "Apple\n",
      "Banana\n",
      "Orange\n"
     ]
    }
   ],
   "source": [
    "fruits=[\"Apple\", \"Banana\", \"Orange\"]\n",
    "x, y, z = fruits\n",
    "print(x)\n",
    "print(y)\n",
    "print(z)"
   ]
  },
  {
   "cell_type": "code",
   "execution_count": 2,
   "id": "be549d11",
   "metadata": {},
   "outputs": [
    {
     "name": "stdout",
     "output_type": "stream",
     "text": [
      "Apple Banana Orange\n"
     ]
    }
   ],
   "source": [
    "print(x, y, z)"
   ]
  },
  {
   "cell_type": "code",
   "execution_count": null,
   "id": "e8988f5e",
   "metadata": {},
   "outputs": [],
   "source": []
  }
 ],
 "metadata": {
  "kernelspec": {
   "display_name": "Python 3",
   "language": "python",
   "name": "python3"
  },
  "language_info": {
   "codemirror_mode": {
    "name": "ipython",
    "version": 3
   },
   "file_extension": ".py",
   "mimetype": "text/x-python",
   "name": "python",
   "nbconvert_exporter": "python",
   "pygments_lexer": "ipython3",
   "version": "3.8.8"
  }
 },
 "nbformat": 4,
 "nbformat_minor": 5
}
