{
 "cells": [
  {
   "cell_type": "markdown",
   "id": "398b501b",
   "metadata": {},
   "source": [
    "# <font color=Blue>Tuple</font>"
   ]
  },
  {
   "cell_type": "markdown",
   "id": "b83b0d7d",
   "metadata": {},
   "source": [
    "A tuple is a collection of objects which is ordered and <font color=Orange><b>immutable</b></font>. Tuples are similar to lists, the main difference is the immutability.\n",
    "\n",
    "Tuple items separated by commas and enclosed within ( ) brackets."
   ]
  },
  {
   "cell_type": "markdown",
   "id": "e418bd99",
   "metadata": {},
   "source": [
    "<font color=Orange>Tuple is <b>immutable</b> which means we <b>can't</b> add the elements or delete the elements or modify the elements</font>"
   ]
  },
  {
   "cell_type": "code",
   "execution_count": 3,
   "id": "d4b99fa0",
   "metadata": {},
   "outputs": [
    {
     "name": "stdout",
     "output_type": "stream",
     "text": [
      "('Apple', 'Banana', 'Orange', 'Apple')\n",
      "<class 'tuple'>\n",
      "(10, 20.5, (30+4j), 'Hello', True)\n",
      "<class 'tuple'>\n"
     ]
    }
   ],
   "source": [
    "var=(\"Apple\", \"Banana\", \"Orange\", \"Apple\") #homogeneous tuple\n",
    "print(var)\n",
    "print(type(var))\n",
    "\n",
    "tup=(10, 20.5, 30+4j, \"Hello\", True) #heterogeneous tuple\n",
    "print(tup)\n",
    "print(type(tup))"
   ]
  },
  {
   "cell_type": "code",
   "execution_count": 7,
   "id": "a6fe8214",
   "metadata": {},
   "outputs": [
    {
     "name": "stdout",
     "output_type": "stream",
     "text": [
      "25\n",
      "<class 'int'>\n",
      "(25,)\n",
      "<class 'tuple'>\n",
      "(1, 2, 3, [4, 5])\n",
      "<class 'tuple'>\n"
     ]
    }
   ],
   "source": [
    "tup1=(25)\n",
    "print(tup1)\n",
    "print(type(tup1))\n",
    "\n",
    "tup2=(25,) #a tuple with only one element needs to have a comma at the end comma \",\"\n",
    "print(tup2) #otherwise it is not recognized as tuple\n",
    "print(type(tup2))\n",
    "\n",
    "tup3=tuple([1,2,3,[4,5]])\n",
    "print(tup3)\n",
    "print(type(tup3))"
   ]
  },
  {
   "cell_type": "markdown",
   "id": "0193ef88",
   "metadata": {},
   "source": [
    "## 4.1. Accessing elemnets in a Tuple"
   ]
  },
  {
   "cell_type": "code",
   "execution_count": 7,
   "id": "3f45c433",
   "metadata": {},
   "outputs": [
    {
     "name": "stdout",
     "output_type": "stream",
     "text": [
      "10\n",
      "20.5\n",
      "(30+4j)\n",
      "True\n"
     ]
    }
   ],
   "source": [
    "tup=(10, 20.5, 30+4j, \"Hello\", True)\n",
    "print(tup[0])\n",
    "print(tup[1])\n",
    "print(tup[2])\n",
    "print(tup[-1])"
   ]
  },
  {
   "cell_type": "markdown",
   "id": "2df6533c",
   "metadata": {},
   "source": [
    "## 4.2. Add or Change element in a Tuple "
   ]
  },
  {
   "cell_type": "code",
   "execution_count": 9,
   "id": "ecd65d51",
   "metadata": {},
   "outputs": [
    {
     "ename": "TypeError",
     "evalue": "'tuple' object does not support item assignment",
     "output_type": "error",
     "traceback": [
      "\u001b[1;31m---------------------------------------------------------------------------\u001b[0m",
      "\u001b[1;31mTypeError\u001b[0m                                 Traceback (most recent call last)",
      "\u001b[1;32m<ipython-input-9-196a1c44fc68>\u001b[0m in \u001b[0;36m<module>\u001b[1;34m\u001b[0m\n\u001b[1;32m----> 1\u001b[1;33m \u001b[0mtup\u001b[0m\u001b[1;33m[\u001b[0m\u001b[1;36m1\u001b[0m\u001b[1;33m]\u001b[0m\u001b[1;33m=\u001b[0m\u001b[1;36m25.6\u001b[0m \u001b[1;31m#tuple is immutable so it will throw an error\u001b[0m\u001b[1;33m\u001b[0m\u001b[1;33m\u001b[0m\u001b[0m\n\u001b[0m\u001b[0;32m      2\u001b[0m \u001b[0mprint\u001b[0m\u001b[1;33m(\u001b[0m\u001b[0mtup\u001b[0m\u001b[1;33m[\u001b[0m\u001b[1;36m1\u001b[0m\u001b[1;33m]\u001b[0m\u001b[1;33m)\u001b[0m\u001b[1;33m\u001b[0m\u001b[1;33m\u001b[0m\u001b[0m\n",
      "\u001b[1;31mTypeError\u001b[0m: 'tuple' object does not support item assignment"
     ]
    }
   ],
   "source": [
    "tup[1]=25.6 #tuple is immutable so it will throw an error\n",
    "print(tup[1]) "
   ]
  },
  {
   "cell_type": "markdown",
   "id": "a97d34e6",
   "metadata": {},
   "source": [
    "## 4.3. Delete a Tuple"
   ]
  },
  {
   "cell_type": "code",
   "execution_count": 11,
   "id": "81102665",
   "metadata": {},
   "outputs": [],
   "source": [
    "var=(\"Apple\", \"Banana\", \"Orange\", \"Apple\")\n",
    "del var"
   ]
  },
  {
   "cell_type": "code",
   "execution_count": 13,
   "id": "dba78b73",
   "metadata": {},
   "outputs": [
    {
     "ename": "NameError",
     "evalue": "name 'var' is not defined",
     "output_type": "error",
     "traceback": [
      "\u001b[1;31m---------------------------------------------------------------------------\u001b[0m",
      "\u001b[1;31mNameError\u001b[0m                                 Traceback (most recent call last)",
      "\u001b[1;32m<ipython-input-13-d4635780efd4>\u001b[0m in \u001b[0;36m<module>\u001b[1;34m\u001b[0m\n\u001b[1;32m----> 1\u001b[1;33m \u001b[0mprint\u001b[0m\u001b[1;33m(\u001b[0m\u001b[0mvar\u001b[0m\u001b[1;33m)\u001b[0m \u001b[1;31m#NameError 'var' means tuple var is deleted\u001b[0m\u001b[1;33m\u001b[0m\u001b[1;33m\u001b[0m\u001b[0m\n\u001b[0m",
      "\u001b[1;31mNameError\u001b[0m: name 'var' is not defined"
     ]
    }
   ],
   "source": [
    "print(var) #NameError 'var' means tuple var is deleted"
   ]
  },
  {
   "cell_type": "markdown",
   "id": "1bfa4af9",
   "metadata": {},
   "source": [
    "## 4.4. Looping through Tuple"
   ]
  },
  {
   "cell_type": "code",
   "execution_count": 14,
   "id": "aa3e2b96",
   "metadata": {},
   "outputs": [
    {
     "name": "stdout",
     "output_type": "stream",
     "text": [
      "10\n",
      "20.5\n",
      "(30+4j)\n",
      "Hello\n",
      "True\n"
     ]
    }
   ],
   "source": [
    "tup=(10, 20.5, 30+4j, \"Hello\", True)\n",
    "for i in tup:\n",
    "    print(i)"
   ]
  },
  {
   "cell_type": "markdown",
   "id": "ad858a10",
   "metadata": {},
   "source": [
    "## 4.5. Packing and Unpacking a Tuple"
   ]
  },
  {
   "cell_type": "code",
   "execution_count": 18,
   "id": "a41fb251",
   "metadata": {
    "scrolled": true
   },
   "outputs": [
    {
     "name": "stdout",
     "output_type": "stream",
     "text": [
      "Max\n"
     ]
    }
   ],
   "source": [
    "#number of variables have to match number of tuple elements\n",
    "\n",
    "tuple_1 = (\"Max\", 28, \"New York\") #Tuple Packing\n",
    "name, age, city = tuple_1 #Tuple Unpacking\n",
    "print(name)"
   ]
  },
  {
   "cell_type": "markdown",
   "id": "59e62114",
   "metadata": {},
   "source": [
    "## 4.6. Comparing Tuples\n",
    "\n",
    "- The comparison starts with a <b>first</b> element of each tuple.\n",
    "- If they do not compare to =, <, > then it proceed to the <b>second</b> element and so on."
   ]
  },
  {
   "cell_type": "code",
   "execution_count": 19,
   "id": "1e064d55",
   "metadata": {},
   "outputs": [
    {
     "name": "stdout",
     "output_type": "stream",
     "text": [
      "a is bigger\n"
     ]
    }
   ],
   "source": [
    "a=(5,6)\n",
    "b=(1,4)\n",
    "if (a>b): #here 5>1 \n",
    "    print(\"a is bigger\")\n",
    "else:\n",
    "    print(\"b is bigger\")"
   ]
  },
  {
   "cell_type": "code",
   "execution_count": 23,
   "id": "8381ff72",
   "metadata": {},
   "outputs": [
    {
     "name": "stdout",
     "output_type": "stream",
     "text": [
      "a is bigger\n"
     ]
    }
   ],
   "source": [
    "a=(5,6)\n",
    "b=(5,4)\n",
    "if (a>b): #here 5>5 is not possible so proceed to next element i.e. 6>4\n",
    "    print(\"a is bigger\")\n",
    "else:\n",
    "    print (\"b is bigger\")"
   ]
  },
  {
   "cell_type": "code",
   "execution_count": 24,
   "id": "4733c0f5",
   "metadata": {},
   "outputs": [
    {
     "name": "stdout",
     "output_type": "stream",
     "text": [
      "b is bigger\n"
     ]
    }
   ],
   "source": [
    "a=(5,6)\n",
    "b=(6,4)\n",
    "if (a>b): #here 5>6 is false so prints else part\n",
    "    print(\"a is bigger\")\n",
    "else:\n",
    "    print(\"b is bigger\")"
   ]
  },
  {
   "cell_type": "markdown",
   "id": "505ef34d",
   "metadata": {},
   "source": [
    "## 4.7. len()"
   ]
  },
  {
   "cell_type": "code",
   "execution_count": 25,
   "id": "69d5dbf6",
   "metadata": {},
   "outputs": [
    {
     "name": "stdout",
     "output_type": "stream",
     "text": [
      "5\n"
     ]
    }
   ],
   "source": [
    "tup=(10, 20.5, 30+4j, \"Hello\", True)\n",
    "print(len(tup)) #retuens the no of elements in a tuple"
   ]
  },
  {
   "cell_type": "markdown",
   "id": "0115baa4",
   "metadata": {},
   "source": [
    "## 4.8. max()"
   ]
  },
  {
   "cell_type": "code",
   "execution_count": 28,
   "id": "01ab2871",
   "metadata": {},
   "outputs": [
    {
     "name": "stdout",
     "output_type": "stream",
     "text": [
      "3467\n"
     ]
    }
   ],
   "source": [
    "tup=(10, 20.5, 100, 3467, True) #complex and str are not supported here\n",
    "print(max(tup))"
   ]
  },
  {
   "cell_type": "code",
   "execution_count": 29,
   "id": "55d4f888",
   "metadata": {},
   "outputs": [
    {
     "name": "stdout",
     "output_type": "stream",
     "text": [
      "Orange\n"
     ]
    }
   ],
   "source": [
    "var=(\"Apple\", \"Banana\", \"Orange\", \"Apple\") #str and int can't be used together in max()\n",
    "print(max(var))"
   ]
  },
  {
   "cell_type": "markdown",
   "id": "32b10ae9",
   "metadata": {},
   "source": [
    "## 4.9. min()"
   ]
  },
  {
   "cell_type": "code",
   "execution_count": 30,
   "id": "fc270e55",
   "metadata": {},
   "outputs": [
    {
     "name": "stdout",
     "output_type": "stream",
     "text": [
      "True\n"
     ]
    }
   ],
   "source": [
    "tup=(10, 20.5, 100, 3467, True) #complex and str are not supported here\n",
    "print(min(tup))"
   ]
  },
  {
   "cell_type": "code",
   "execution_count": 32,
   "id": "0f1e1a52",
   "metadata": {},
   "outputs": [
    {
     "name": "stdout",
     "output_type": "stream",
     "text": [
      "Apple\n"
     ]
    }
   ],
   "source": [
    "var=(\"Apple\", \"Banana\", \"Orange\", \"Apple\") #str and int can't be used together in min()\n",
    "print(min(var))"
   ]
  },
  {
   "cell_type": "markdown",
   "id": "fe86e82c",
   "metadata": {},
   "source": [
    "## 4.10. count()"
   ]
  },
  {
   "cell_type": "code",
   "execution_count": 33,
   "id": "48a1a936",
   "metadata": {},
   "outputs": [
    {
     "name": "stdout",
     "output_type": "stream",
     "text": [
      "2\n"
     ]
    }
   ],
   "source": [
    "tup=(10, 20.5, 30+4j, \"Hello\", True, 10)\n",
    "print(tup.count(10)) #Returns the no of items that is equal to passing value"
   ]
  },
  {
   "cell_type": "markdown",
   "id": "335371ad",
   "metadata": {},
   "source": [
    "## 4.11. index()"
   ]
  },
  {
   "cell_type": "code",
   "execution_count": 36,
   "id": "bbcf3269",
   "metadata": {},
   "outputs": [
    {
     "name": "stdout",
     "output_type": "stream",
     "text": [
      "1\n"
     ]
    }
   ],
   "source": [
    "tup=(10, 20.5, 30+4j, \"Hello\", True, 10)\n",
    "print(tup.index(20.5))"
   ]
  },
  {
   "cell_type": "markdown",
   "id": "12863ecc",
   "metadata": {},
   "source": [
    "## 4.12. Tuple Concatination"
   ]
  },
  {
   "cell_type": "code",
   "execution_count": 37,
   "id": "da300102",
   "metadata": {},
   "outputs": [
    {
     "name": "stdout",
     "output_type": "stream",
     "text": [
      "(1, 2, 3, 4.5)\n"
     ]
    }
   ],
   "source": [
    "a=(1,2)\n",
    "b=(3,4.5)\n",
    "c=a+b\n",
    "print(c)"
   ]
  },
  {
   "cell_type": "markdown",
   "id": "7f1a9e38",
   "metadata": {},
   "source": [
    "## 4.13. tuple(list) & tuple(string)"
   ]
  },
  {
   "cell_type": "code",
   "execution_count": 39,
   "id": "28417085",
   "metadata": {},
   "outputs": [
    {
     "name": "stdout",
     "output_type": "stream",
     "text": [
      "('a', 'b', 'c', 'd')\n",
      "('H', 'e', 'l', 'l', 'o', ' ', 'W', 'o', 'r', 'l', 'd')\n"
     ]
    }
   ],
   "source": [
    "lst1=['a', 'b', 'c', 'd']\n",
    "tup1=tuple(lst1)\n",
    "print(tup1)\n",
    "\n",
    "str1=\"Hello World\"\n",
    "tup2=tuple(str1)\n",
    "print(tup2)"
   ]
  },
  {
   "cell_type": "markdown",
   "id": "9b3a3468",
   "metadata": {},
   "source": [
    "## 4.14. Tuple Slicing"
   ]
  },
  {
   "cell_type": "code",
   "execution_count": 48,
   "id": "81c4384f",
   "metadata": {},
   "outputs": [
    {
     "name": "stdout",
     "output_type": "stream",
     "text": [
      "(20.5, (30+4j))\n",
      "(20.5, (30+4j), 'Hello', True)\n",
      "(10, 20.5, (30+4j))\n",
      "(10, (30+4j), True)\n",
      "(True, 'Hello', (30+4j), 20.5, 10)\n"
     ]
    }
   ],
   "source": [
    "tup=(10, 20.5, 30+4j, \"Hello\", True) #(0, 1, 2, 3, 4)\n",
    "\n",
    "tup1=tup[1:3] #index 1 to index 3(excluded)\n",
    "print(tup1)\n",
    "\n",
    "tup1=tup[1:] #index 1 to till the end\n",
    "print(tup1) \n",
    "\n",
    "tup1=tup[:3] #index 0 to 2\n",
    "print(tup1)\n",
    "\n",
    "tup1=tup[::2] #start to end with step 2\n",
    "print(tup1)\n",
    "\n",
    "tup1=tup[::-1] #reverse tuple items\n",
    "print(tup1)"
   ]
  },
  {
   "cell_type": "markdown",
   "id": "f7ea0be7",
   "metadata": {},
   "source": [
    "## 4.15. Nested tuples"
   ]
  },
  {
   "cell_type": "code",
   "execution_count": 49,
   "id": "b09f7063",
   "metadata": {},
   "outputs": [
    {
     "name": "stdout",
     "output_type": "stream",
     "text": [
      "((0, 1), ('age', 'height'))\n",
      "(0, 1)\n"
     ]
    }
   ],
   "source": [
    "a = ((0, 1), ('age', 'height'))\n",
    "print(a)\n",
    "print(a[0])"
   ]
  },
  {
   "cell_type": "markdown",
   "id": "6f9dfa3a",
   "metadata": {},
   "source": [
    "## 4.16. Compare Tuple and List"
   ]
  },
  {
   "cell_type": "code",
   "execution_count": 53,
   "id": "947dd59c",
   "metadata": {},
   "outputs": [
    {
     "name": "stdout",
     "output_type": "stream",
     "text": [
      "80 bytes\n",
      "96 bytes\n"
     ]
    }
   ],
   "source": [
    "#to compare the size\n",
    "\n",
    "import sys\n",
    "\n",
    "tup=(10, 20.5, 30+4j, \"Hello\", True)\n",
    "lst=[10, 20.5, 30+4j, \"Hello\", True]\n",
    "\n",
    "print(sys.getsizeof(tup), \"bytes\") \n",
    "print(sys.getsizeof(lst), \"bytes\")"
   ]
  },
  {
   "cell_type": "code",
   "execution_count": 59,
   "id": "e6e0614e",
   "metadata": {},
   "outputs": [
    {
     "name": "stdout",
     "output_type": "stream",
     "text": [
      "0.031887899996945634\n",
      "0.15693790000659646\n"
     ]
    }
   ],
   "source": [
    "#to compare execution time\n",
    "\n",
    "import timeit\n",
    "\n",
    "print(timeit.timeit(stmt=\"(10, 20.5, 30+4j, \\\"Hello\\\", True)\", number=1000000))\n",
    "print(timeit.timeit(stmt=\"[10, 20.5, 30+4j, \\\"Hello\\\", True]\", number=1000000))"
   ]
  },
  {
   "cell_type": "code",
   "execution_count": null,
   "id": "17b471c3",
   "metadata": {},
   "outputs": [],
   "source": []
  }
 ],
 "metadata": {
  "kernelspec": {
   "display_name": "Python 3",
   "language": "python",
   "name": "python3"
  },
  "language_info": {
   "codemirror_mode": {
    "name": "ipython",
    "version": 3
   },
   "file_extension": ".py",
   "mimetype": "text/x-python",
   "name": "python",
   "nbconvert_exporter": "python",
   "pygments_lexer": "ipython3",
   "version": "3.8.8"
  }
 },
 "nbformat": 4,
 "nbformat_minor": 5
}
