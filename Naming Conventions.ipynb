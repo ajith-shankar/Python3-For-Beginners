{
 "cells": [
  {
   "cell_type": "markdown",
   "id": "996a0104",
   "metadata": {},
   "source": [
    "# <font color=Blue>Naming Conventions In Python</font>"
   ]
  },
  {
   "cell_type": "markdown",
   "id": "762064fd",
   "metadata": {},
   "source": [
    "# 1. Function\n",
    "\n",
    "Use a lower case word or words. Separate words by underscores to improve readability <br>Example: <b>my_function</b>, or <b>car</b>"
   ]
  },
  {
   "cell_type": "markdown",
   "id": "e0a6c9ca",
   "metadata": {},
   "source": [
    "# 2. Variable\n",
    "\n",
    "Use a lower case single letter, word, or words. Separate words by underscores to improve readability <br>Example: <b>my_variable</b>, or <b>x</b>, or <b>var</b>"
   ]
  },
  {
   "cell_type": "markdown",
   "id": "401df7ab",
   "metadata": {},
   "source": [
    "# 3. Class\n",
    "\n",
    "Start each word with a capital letter. Do not separate words with underscores. This style is called as Camel case or Pascal case.<br>Example: <b>MyClass</b>, or <b>Vehicle</b>"
   ]
  },
  {
   "cell_type": "markdown",
   "id": "456d4321",
   "metadata": {},
   "source": [
    "# 4. Method\n",
    "\n",
    "Use a lower case word or words. Separate words by underscores to improve readability <br>Example: <b>my_method</b>, or <b>vehicle_method</b>"
   ]
  },
  {
   "cell_type": "markdown",
   "id": "e8e8b26f",
   "metadata": {},
   "source": [
    "# 5. Constant\n",
    "\n",
    "Use a upper case single letter, word or words. Separate words by underscores to improve readability <br>Example: <b>CONSTANT</b>, or <b>MY_CONSTANT</b>"
   ]
  },
  {
   "cell_type": "markdown",
   "id": "ae793fec",
   "metadata": {},
   "source": [
    "# 6. Module\n",
    "\n",
    "Use a short lower case word or words. Separate words by underscores to improve readability <br>Example: <b>module.py</b>, or <b>my_module.py</b>"
   ]
  },
  {
   "cell_type": "markdown",
   "id": "fb97a75b",
   "metadata": {},
   "source": [
    "# 7. Package\n",
    "\n",
    "Use a short lower case word or words. Do not separate words with underscores <br>Example: <b>package</b>, or <b>mypackage</b>"
   ]
  },
  {
   "cell_type": "code",
   "execution_count": null,
   "id": "ccec504c",
   "metadata": {},
   "outputs": [],
   "source": []
  }
 ],
 "metadata": {
  "kernelspec": {
   "display_name": "Python 3",
   "language": "python",
   "name": "python3"
  },
  "language_info": {
   "codemirror_mode": {
    "name": "ipython",
    "version": 3
   },
   "file_extension": ".py",
   "mimetype": "text/x-python",
   "name": "python",
   "nbconvert_exporter": "python",
   "pygments_lexer": "ipython3",
   "version": "3.8.8"
  }
 },
 "nbformat": 4,
 "nbformat_minor": 5
}
