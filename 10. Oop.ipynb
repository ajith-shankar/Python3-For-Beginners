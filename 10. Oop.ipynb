{
 "cells": [
  {
   "cell_type": "markdown",
   "id": "47ce9ed1",
   "metadata": {},
   "source": [
    "# <font color=Blue>Oop</font>"
   ]
  },
  {
   "cell_type": "markdown",
   "id": "30adc8bd",
   "metadata": {},
   "source": [
    "- Everything in Python is an object. An object has a state and behaviors. \n",
    "- To create an object, you define a class first. And then, from the class, you can create one or more objects. \n",
    "- The objects are instances of a class."
   ]
  },
  {
   "cell_type": "markdown",
   "id": "776c5240",
   "metadata": {},
   "source": [
    "## Class\n",
    "\n",
    "- A Class in Python is a <b>logical grouping</b> of data and functions.\n",
    "- To define a class, you use the <b>class</b> keyword followed by the class name.\n",
    "- Inside classes, you can define <b>functions or methods</b> that are part of the class"
   ]
  },
  {
   "cell_type": "code",
   "execution_count": null,
   "id": "f46fe4f5",
   "metadata": {},
   "outputs": [],
   "source": [
    "class MyClass:\n",
    "    pass"
   ]
  },
  {
   "cell_type": "markdown",
   "id": "3fe0146f",
   "metadata": {},
   "source": [
    "## Objects\n",
    "\n",
    "- An Object is an <b>instance</b> of a class\n",
    "- To create an <b>object</b> from the class, you use the <b>class name</b> followed by <b>parentheses ()</b>, like calling a function\n",
    "- When an <b>object</b> of the class is created, the class is said to be <b>instantiated</b>."
   ]
  },
  {
   "cell_type": "code",
   "execution_count": null,
   "id": "cb8a6181",
   "metadata": {},
   "outputs": [],
   "source": [
    "my=MyClass()"
   ]
  },
  {
   "cell_type": "markdown",
   "id": "b29662c0",
   "metadata": {},
   "source": [
    "## Class variables VS Instance variables\n",
    "\n",
    "- Class variables are declared <b>inside a class</b> but <b>ouside of any function</b>.\n",
    "- Instance variables are declared <b>inside the constructor</b> which is the <b>\\__init__</b> method. "
   ]
  },
  {
   "cell_type": "code",
   "execution_count": null,
   "id": "54f8f480",
   "metadata": {},
   "outputs": [],
   "source": [
    "class Book():\n",
    "    #class variables\n",
    "    fontsize = 9 \n",
    "    page_width = 15\n",
    "    \n",
    "    #constructor\n",
    "    def __init__(self, name, writer):\n",
    "        #instance variables\n",
    "        self.name = name\n",
    "        self.writer = writer"
   ]
  },
  {
   "cell_type": "markdown",
   "id": "c3a71a58",
   "metadata": {},
   "source": [
    "## Creating Object & accessing class variables and instance variables"
   ]
  },
  {
   "cell_type": "code",
   "execution_count": null,
   "id": "ddbf96a4",
   "metadata": {},
   "outputs": [],
   "source": [
    "#object creation\n",
    "book1=Book()\n",
    "\n",
    "#accessing Class variables\n",
    "print(book1.fontsize)\n",
    "\n",
    "#accessing instance varibales\n",
    "#first we have to create an object/instance and setup instance variables\n",
    "book1=Book(\"Half Girlfriend\", \"Chetan Bhagat\")\n",
    "print(book1.writer)"
   ]
  },
  {
   "cell_type": "markdown",
   "id": "a37c61a2",
   "metadata": {},
   "source": [
    "#### Example:"
   ]
  },
  {
   "cell_type": "code",
   "execution_count": 3,
   "id": "348dfd51",
   "metadata": {},
   "outputs": [
    {
     "name": "stdout",
     "output_type": "stream",
     "text": [
      "Chetan Bhagat\n",
      "Gitanjali\n",
      "15\n",
      "15\n"
     ]
    }
   ],
   "source": [
    "class Book():\n",
    "    fontsize = 9 \n",
    "    page_width = 15\n",
    "    \n",
    "    \n",
    "    def __init__(self, name, writer, length):\n",
    "        self.name = name\n",
    "        self.writer = writer\n",
    "        self.length = length\n",
    "        \n",
    "book1=Book(\"Half Girlfriend\", \"Chetan Bhagat\", 50000) \n",
    "print(book1.writer)\n",
    "\n",
    "book2=Book(\"Gitanjali\", \"Rabindranath Tagore\", 23000)\n",
    "print(book2.name)\n",
    "print(Book.page_width) \n",
    "print(book2.page_width)"
   ]
  },
  {
   "cell_type": "markdown",
   "id": "14a399b9",
   "metadata": {},
   "source": [
    "## Override Class variables\n",
    "\n",
    "- We can change the value of class variables for any instance."
   ]
  },
  {
   "cell_type": "code",
   "execution_count": 33,
   "id": "dfd41bcd",
   "metadata": {},
   "outputs": [
    {
     "name": "stdout",
     "output_type": "stream",
     "text": [
      "20\n",
      "15\n",
      "15\n"
     ]
    }
   ],
   "source": [
    "book1.page_width = 20\n",
    "\n",
    "print(book1.page_width)\n",
    "print(book2.page_width)\n",
    "print(Book.page_width)"
   ]
  },
  {
   "cell_type": "markdown",
   "id": "74e2a330",
   "metadata": {},
   "source": [
    "## Instance Methods\n",
    "\n",
    "- You can declare Instance Methods <b>inside the class</b> like a normal functions using <b>def</b> keyword with the first argument as <b>self</b>. \n",
    "- To <b>call</b> instance methods we need to use <b>dot notation</b>\n",
    "- Instance method used to <b>access or modify</b> the <b>object</b> state."
   ]
  },
  {
   "cell_type": "code",
   "execution_count": 21,
   "id": "98b04bb4",
   "metadata": {},
   "outputs": [],
   "source": [
    "class Book():\n",
    "    fontsize = 9 \n",
    "    page_width = 15\n",
    "    \n",
    "    \n",
    "    def __init__(self, name, writer, length):\n",
    "        self.name = name\n",
    "        self.writer = writer\n",
    "        self.length = length\n",
    "        \n",
    "        \n",
    "    #instance method\n",
    "    def number_of_pages(self):\n",
    "        pass\n",
    "    \n",
    "    \n",
    "book1=Book(\"Half Girlfriend\", \"Chetan Bhagat\", 50000)\n",
    "\n",
    "#calling instance method\n",
    "book1.number_of_pages()"
   ]
  },
  {
   "cell_type": "markdown",
   "id": "81d2d1e9",
   "metadata": {},
   "source": [
    "## Accessing Class variables inside Instance method\n",
    "\n",
    "- Class variables can be accessed <b>within the class</b> including all the methods\n",
    "- By using <b>classname.variablename</b>\n",
    "- By using <b>self.variablename</b>\n",
    "- Without self or classname it will result in error"
   ]
  },
  {
   "cell_type": "code",
   "execution_count": 22,
   "id": "814cc420",
   "metadata": {},
   "outputs": [
    {
     "name": "stdout",
     "output_type": "stream",
     "text": [
      "Font size of the book: 9\n",
      "Page width of the book: 15\n"
     ]
    }
   ],
   "source": [
    "class Book():\n",
    "    fontsize = 9 \n",
    "    page_width = 15\n",
    "    \n",
    "    \n",
    "    def __init__(self, name, writer, length):\n",
    "        self.name = name\n",
    "        self.writer = writer\n",
    "        self.length = length\n",
    "        \n",
    "        \n",
    "    def number_of_pages(self):\n",
    "        print(f\"Font size of the book: {Book.fontsize}\") #accessing class variables\n",
    "        print(f\"Page width of the book: {self.page_width}\") #accessing class variables\n",
    "        \n",
    "        \n",
    "book1 = Book(\"Half Girlfriend\", \"Chetan Bhagat\", 50000)\n",
    "book1.number_of_pages()"
   ]
  },
  {
   "cell_type": "markdown",
   "id": "5403d608",
   "metadata": {},
   "source": [
    "#### Example"
   ]
  },
  {
   "cell_type": "code",
   "execution_count": 32,
   "id": "679d0b88",
   "metadata": {},
   "outputs": [
    {
     "name": "stdout",
     "output_type": "stream",
     "text": [
      "Total pages using self: 300.0\n",
      "Total pages using classname: 300.0 \n"
     ]
    }
   ],
   "source": [
    "class Book:\n",
    "    fontsize = 9\n",
    "    page_width = 15\n",
    "    \n",
    "    \n",
    "    def __init__(self, name, writer, length):\n",
    "        self.name = name\n",
    "        self.writer = writer\n",
    "        self.length = length\n",
    "        \n",
    "        \n",
    "    def number_of_pages(self):\n",
    "        #using self\n",
    "        pages = (self.length * self.fontsize) / (self.page_width * 100)\n",
    "        return pages\n",
    "        \n",
    "    def no_of_pages(self):\n",
    "        #using classname\n",
    "        total_pages = (self.length * Book.fontsize) / (Book.page_width * 100)\n",
    "        return total_pages\n",
    "\n",
    "    \n",
    "book1 = Book(\"Half Girlfriend\", \"Chetan Bhagat\", 50000)\n",
    "print(f\"Total pages using self: {book1.number_of_pages()}\")\n",
    "print(f\"Total pages using classname: {book1.no_of_pages()} \")"
   ]
  },
  {
   "cell_type": "markdown",
   "id": "ac3e8d73",
   "metadata": {},
   "source": [
    "## Class Methods\n",
    "\n",
    "- Like a class attribute, a class method is shared by <b>all instances</b> of the class.\n",
    "- Class methods used to <b>access or modify</b> the <b>class</b> state.\n",
    "- The <b>first argument</b> of a class method is the class itself. By convention, its name is <b>cls</b>.\n",
    "- It can access only <b>class variables</b>.\n",
    "- To define a class method we use the <b>@classmethod</b> decorator.\n",
    "- To <b>call</b> a class method, you use the <b>ClassName.class_method_name()</b> syntax. "
   ]
  },
  {
   "cell_type": "code",
   "execution_count": 63,
   "id": "86f169bf",
   "metadata": {},
   "outputs": [
    {
     "name": "stdout",
     "output_type": "stream",
     "text": [
      "Accessing class variable fontsize: 9\n",
      "After modifying class variable fontsize is : 3\n"
     ]
    }
   ],
   "source": [
    "class Book:\n",
    "    fontsize = 9\n",
    "    page_width = 15\n",
    "    \n",
    "    \n",
    "    def __init__(self, name, writer, length):\n",
    "        self.name = name\n",
    "        self.writer = writer\n",
    "        self.length = length\n",
    "        \n",
    "        \n",
    "    def number_of_pages(self):\n",
    "        pages = (self.length * self.fontsize) / (self.page_width * 100)\n",
    "        return pages\n",
    "    \n",
    "    \n",
    "    @classmethod\n",
    "    def change_fontsize(cls, size):\n",
    "        #access class variables\n",
    "        print(f\"Accessing class variable fontsize: {cls.fontsize}\")\n",
    "        \n",
    "        #modify class variables\n",
    "        cls.fontsize = size\n",
    "        print(f\"After modifying class variable fontsize is : {cls.fontsize}\")\n",
    "        \n",
    "        \n",
    "book1 = Book(\"Half Girlfriend\", \"Chetan Bhagat\", 50000)\n",
    "\n",
    "#call class method\n",
    "Book.change_fontsize(3)"
   ]
  },
  {
   "cell_type": "markdown",
   "id": "d0508180",
   "metadata": {},
   "source": [
    "## Static Method\n",
    "\n",
    "- A static method is <b>not bound</b> to a class or any instances of the class.\n",
    "- We use static methods to <b>group logically related functions</b> in a class.\n",
    "- Static method <b>doesn't have access</b> to class or instance variables.\n",
    "- Static method <b>doesn't take</b> any parameters like <b>self</b> and <b>cls</b>.\n",
    "- To define a static method we use the <b>@staticmethod</b> decorator.\n",
    "- To <b>call</b> a static method, you use the <b>ClassName.static_method_name()</b> syntax. "
   ]
  },
  {
   "cell_type": "code",
   "execution_count": 75,
   "id": "1618d73e",
   "metadata": {},
   "outputs": [
    {
     "name": "stdout",
     "output_type": "stream",
     "text": [
      "86.0\n",
      "30.0\n"
     ]
    }
   ],
   "source": [
    "class TemperatureConverter:\n",
    "    \n",
    "    @staticmethod\n",
    "    def celsius_to_fahrenheit(c):\n",
    "        return 9 * c / 5 + 32\n",
    "    \n",
    "    @staticmethod\n",
    "    def fahrenheit_to_celsius(f):\n",
    "        return 5 * (f - 32) / 9\n",
    "    \n",
    "    \n",
    "temp=TemperatureConverter.celsius_to_fahrenheit(30)\n",
    "print(temp)\n",
    "\n",
    "temp=TemperatureConverter.fahrenheit_to_celsius(86)\n",
    "print(temp)"
   ]
  },
  {
   "cell_type": "markdown",
   "id": "dfe1eb0d",
   "metadata": {},
   "source": [
    "#### Example that includes all the above topics"
   ]
  },
  {
   "cell_type": "code",
   "execution_count": 9,
   "id": "4fe74214",
   "metadata": {},
   "outputs": [
    {
     "name": "stdout",
     "output_type": "stream",
     "text": [
      "Student name: Harry, Student age: 15, Student school: ABC School\n",
      "Student name: Harry, Student age: 12, Student school: XYZ School\n"
     ]
    }
   ],
   "source": [
    "class Student:\n",
    "    #class variable\n",
    "    school_name = \"ABC School\"\n",
    "    \n",
    "    #constructor\n",
    "    def __init__(self, name, age):\n",
    "        #instance variables\n",
    "        self.name = name\n",
    "        self.age = age\n",
    "        \n",
    "    #instance method\n",
    "    def show(self):\n",
    "        #access instance varibles and class variables\n",
    "        print(f\"Student name: {self.name}, Student age: {self.age}, Student school: {Student.school_name}\")\n",
    "        \n",
    "    #instance method\n",
    "    def change_age(self, new_age):\n",
    "        #modify instance variables\n",
    "        self.age = new_age\n",
    "        \n",
    "    @classmethod\n",
    "    def modify_school_name(cls, new_name):\n",
    "        #modify class variables\n",
    "        cls.school_name = new_name\n",
    "        \n",
    "        \n",
    "#object creation\n",
    "stud1 = Student(\"Harry\", 15)\n",
    "\n",
    "#calling instance method\n",
    "stud1.show()\n",
    "stud1.change_age(12)\n",
    "\n",
    "#calling class method\n",
    "Student.modify_school_name(\"XYZ School\")\n",
    "\n",
    "#calling instance method\n",
    "stud1.show()"
   ]
  },
  {
   "cell_type": "code",
   "execution_count": null,
   "id": "27ce6d55",
   "metadata": {},
   "outputs": [],
   "source": []
  }
 ],
 "metadata": {
  "kernelspec": {
   "display_name": "Python 3",
   "language": "python",
   "name": "python3"
  },
  "language_info": {
   "codemirror_mode": {
    "name": "ipython",
    "version": 3
   },
   "file_extension": ".py",
   "mimetype": "text/x-python",
   "name": "python",
   "nbconvert_exporter": "python",
   "pygments_lexer": "ipython3",
   "version": "3.8.8"
  }
 },
 "nbformat": 4,
 "nbformat_minor": 5
}
