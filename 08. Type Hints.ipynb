{
 "cells": [
  {
   "cell_type": "markdown",
   "id": "1e3be949",
   "metadata": {},
   "source": [
    "# <font color=Blue>Type Hints</font>"
   ]
  },
  {
   "cell_type": "markdown",
   "id": "5b7a2325",
   "metadata": {},
   "source": [
    "- Python’s type hints provide you with optional static typing to leverage the best of both static and dynamic typing.\n",
    "- Python interpreter <b>ignores</b> type hints completely.\n",
    "\n",
    "Syntax: <b>def func_name(parameter: type) -> returntype :</b>"
   ]
  },
  {
   "cell_type": "code",
   "execution_count": 1,
   "id": "99901d01",
   "metadata": {},
   "outputs": [
    {
     "name": "stdout",
     "output_type": "stream",
     "text": [
      "Hi John\n"
     ]
    }
   ],
   "source": [
    "def say_hi(name: str) -> str:\n",
    "    return f\"Hi {name}\"\n",
    "\n",
    "greeting=say_hi(\"John\")\n",
    "print(greeting)"
   ]
  },
  {
   "cell_type": "code",
   "execution_count": 2,
   "id": "b5443f20",
   "metadata": {},
   "outputs": [
    {
     "name": "stdout",
     "output_type": "stream",
     "text": [
      "Hi 123\n"
     ]
    }
   ],
   "source": [
    "def say_hi(name: str) -> str:\n",
    "    return f\"Hi {name}\"\n",
    "\n",
    "greeting=say_hi(123)\n",
    "print(greeting)"
   ]
  },
  {
   "cell_type": "markdown",
   "id": "8b886e3a",
   "metadata": {},
   "source": [
    "## Type hints for multiple types\n",
    "\n",
    "- To set type hints for multiple types, you can use <b>Union</b> from the <b>typing</b> module."
   ]
  },
  {
   "cell_type": "code",
   "execution_count": 4,
   "id": "4e71a5f9",
   "metadata": {},
   "outputs": [
    {
     "name": "stdout",
     "output_type": "stream",
     "text": [
      "6.6\n"
     ]
    }
   ],
   "source": [
    "from typing import Union\n",
    "\n",
    "def add(x: Union[int, float], y:[int, float]) -> Union[int, float]:\n",
    "    return x+y\n",
    "\n",
    "print(add(1, 5.6))"
   ]
  },
  {
   "cell_type": "markdown",
   "id": "78ad6437",
   "metadata": {},
   "source": [
    "## Type aliases"
   ]
  },
  {
   "cell_type": "code",
   "execution_count": 10,
   "id": "4b12027e",
   "metadata": {},
   "outputs": [
    {
     "name": "stdout",
     "output_type": "stream",
     "text": [
      "7\n"
     ]
    }
   ],
   "source": [
    "from typing import Union\n",
    "\n",
    "number = Union[int, float]\n",
    "\n",
    "\n",
    "def add(x: number, y: number) -> number:\n",
    "    return x + y\n",
    "\n",
    "print(add(2, 5))"
   ]
  },
  {
   "cell_type": "markdown",
   "id": "f03f7f87",
   "metadata": {},
   "source": [
    "## None type\n",
    "\n",
    "- If a function <b>doesn’t explicitly returns</b> a value, you can use <b>None</b> to type hint the return value."
   ]
  },
  {
   "cell_type": "code",
   "execution_count": 12,
   "id": "72f0866c",
   "metadata": {},
   "outputs": [
    {
     "name": "stdout",
     "output_type": "stream",
     "text": [
      "Hello World\n"
     ]
    }
   ],
   "source": [
    "def log(message: str) -> None:\n",
    "    print(message)\n",
    "    \n",
    "log(\"Hello World\")"
   ]
  },
  {
   "cell_type": "code",
   "execution_count": null,
   "id": "fd6d5015",
   "metadata": {},
   "outputs": [],
   "source": []
  }
 ],
 "metadata": {
  "kernelspec": {
   "display_name": "Python 3",
   "language": "python",
   "name": "python3"
  },
  "language_info": {
   "codemirror_mode": {
    "name": "ipython",
    "version": 3
   },
   "file_extension": ".py",
   "mimetype": "text/x-python",
   "name": "python",
   "nbconvert_exporter": "python",
   "pygments_lexer": "ipython3",
   "version": "3.8.8"
  }
 },
 "nbformat": 4,
 "nbformat_minor": 5
}
