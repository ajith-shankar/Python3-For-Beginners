{
 "cells": [
  {
   "cell_type": "markdown",
   "id": "eca740ac",
   "metadata": {},
   "source": [
    "# <font color=Blue>Set</font>"
   ]
  },
  {
   "cell_type": "markdown",
   "id": "21e283a3",
   "metadata": {},
   "source": [
    "Set is an <b>unordered</b> collection of <b>immutable</b> elements.\n",
    "- Elements in a set are <b>unordered</b>.\n",
    "- Elements in a set are <b>unique</b>. A set doesn’t allow duplicate elements.\n",
    "- Elements in a set <b>can't</b> be changed. For example, they can be numbers, strings, and tuples, but cannot be lists or dictionaries.\n",
    "\n",
    "Set in Python, you use the curly brace <b>{}</b>"
   ]
  },
  {
   "cell_type": "code",
   "execution_count": 33,
   "id": "5605e156",
   "metadata": {},
   "outputs": [
    {
     "name": "stdout",
     "output_type": "stream",
     "text": [
      "{}\n",
      "set()\n"
     ]
    }
   ],
   "source": [
    "empty_dict={} #empty dictionary\n",
    "empty_set=set() #empty set\n",
    "print(empty_dict)\n",
    "print(empty_set)"
   ]
  },
  {
   "cell_type": "code",
   "execution_count": 27,
   "id": "7915dcb8",
   "metadata": {},
   "outputs": [
    {
     "name": "stdout",
     "output_type": "stream",
     "text": [
      "{'Watermelon', 'strawberry', 'apple', 'Orange', 'grapes'}\n",
      "<class 'set'>\n"
     ]
    }
   ],
   "source": [
    "#Unordered\n",
    "\n",
    "fruits=set([\"apple\", \"Watermelon\", \"Orange\", \"grapes\", \"strawberry\"])\n",
    "print(fruits) #Order may not be preserved\n",
    "print(type(fruits))"
   ]
  },
  {
   "cell_type": "code",
   "execution_count": 24,
   "id": "c2c36118",
   "metadata": {},
   "outputs": [
    {
     "name": "stdout",
     "output_type": "stream",
     "text": [
      "{'Watermelon', 'strawberry', 'apple', 'Orange', 'grapes'}\n",
      "<class 'set'>\n"
     ]
    }
   ],
   "source": [
    "fruits={\"apple\", \"Watermelon\", \"Orange\", \"grapes\", \"strawberry\"}\n",
    "print(fruits)\n",
    "print(type(fruits))"
   ]
  },
  {
   "cell_type": "code",
   "execution_count": 5,
   "id": "4aaf5d90",
   "metadata": {},
   "outputs": [
    {
     "name": "stdout",
     "output_type": "stream",
     "text": [
      "{'r', 't', 'e', 'L'}\n"
     ]
    }
   ],
   "source": [
    "#removes duplicates\n",
    "\n",
    "char=set(\"Letter\")\n",
    "print(char)"
   ]
  },
  {
   "cell_type": "markdown",
   "id": "75c51781",
   "metadata": {},
   "source": [
    "## 6.1. Adding elements to a Set"
   ]
  },
  {
   "cell_type": "code",
   "execution_count": 16,
   "id": "0751d1f5",
   "metadata": {},
   "outputs": [
    {
     "name": "stdout",
     "output_type": "stream",
     "text": [
      "{True, 420, 'Hello', (3+4j)}\n",
      "\n",
      "{'Watermelon', 'strawberry', 'apple', 'Orange', ' ', 'grapes'}\n"
     ]
    }
   ],
   "source": [
    "#add() method\n",
    "\n",
    "my_set=set()\n",
    "\n",
    "my_set.add(420)\n",
    "my_set.add(3+4j)\n",
    "my_set.add(True)\n",
    "my_set.add(\"Hello\")\n",
    "print(my_set)\n",
    "\n",
    "print()\n",
    "\n",
    "fruits=set([\"apple\", \"Watermelon\", \"Orange\", \"grapes\", \"strawberry\"])\n",
    "fruits.add(\" \")\n",
    "print(fruits)"
   ]
  },
  {
   "cell_type": "markdown",
   "id": "1e8c69ba",
   "metadata": {},
   "source": [
    "## 6.2. Remove an element from a Set\n",
    "\n",
    "- By using <b>remove()</b> method\n",
    "- By using <b>discard()</b> mehtod\n",
    "- By using <b>pop()</b> method\n",
    "- By using <b>clear()</b> method"
   ]
  },
  {
   "cell_type": "code",
   "execution_count": 26,
   "id": "d5f9b7b7",
   "metadata": {},
   "outputs": [
    {
     "name": "stdout",
     "output_type": "stream",
     "text": [
      "{'Watermelon', 'strawberry', 'apple', 'Orange', 'grapes'}\n",
      "{'Watermelon', 'strawberry', 'apple', 'grapes'}\n"
     ]
    }
   ],
   "source": [
    "#By using remove() method\n",
    "\n",
    "fruits={\"apple\", \"Watermelon\", \"Orange\", \"grapes\", \"strawberry\"}\n",
    "print(fruits)\n",
    "fruits.remove(\"Orange\")\n",
    "print(fruits)"
   ]
  },
  {
   "cell_type": "code",
   "execution_count": 22,
   "id": "91a213b4",
   "metadata": {},
   "outputs": [
    {
     "ename": "KeyError",
     "evalue": "'Potato'",
     "output_type": "error",
     "traceback": [
      "\u001b[1;31m---------------------------------------------------------------------------\u001b[0m",
      "\u001b[1;31mKeyError\u001b[0m                                  Traceback (most recent call last)",
      "\u001b[1;32m<ipython-input-22-7642350af2ef>\u001b[0m in \u001b[0;36m<module>\u001b[1;34m\u001b[0m\n\u001b[0;32m      1\u001b[0m \u001b[0mfruits\u001b[0m\u001b[1;33m=\u001b[0m\u001b[1;33m{\u001b[0m\u001b[1;34m\"apple\"\u001b[0m\u001b[1;33m,\u001b[0m \u001b[1;34m\"Watermelon\"\u001b[0m\u001b[1;33m,\u001b[0m \u001b[1;34m\"Orange\"\u001b[0m\u001b[1;33m,\u001b[0m \u001b[1;34m\"grapes\"\u001b[0m\u001b[1;33m,\u001b[0m \u001b[1;34m\"strawberry\"\u001b[0m\u001b[1;33m}\u001b[0m\u001b[1;33m\u001b[0m\u001b[1;33m\u001b[0m\u001b[0m\n\u001b[1;32m----> 2\u001b[1;33m \u001b[0mfruits\u001b[0m\u001b[1;33m.\u001b[0m\u001b[0mremove\u001b[0m\u001b[1;33m(\u001b[0m\u001b[1;34m\"Potato\"\u001b[0m\u001b[1;33m)\u001b[0m\u001b[1;33m\u001b[0m\u001b[1;33m\u001b[0m\u001b[0m\n\u001b[0m",
      "\u001b[1;31mKeyError\u001b[0m: 'Potato'"
     ]
    }
   ],
   "source": [
    "fruits={\"apple\", \"Watermelon\", \"Orange\", \"grapes\", \"strawberry\"}\n",
    "fruits.remove(\"Potato\") #remove() throws error if the element not present in the set"
   ]
  },
  {
   "cell_type": "code",
   "execution_count": 28,
   "id": "3d37c788",
   "metadata": {},
   "outputs": [
    {
     "name": "stdout",
     "output_type": "stream",
     "text": [
      "{'Watermelon', 'strawberry', 'apple', 'grapes'}\n"
     ]
    }
   ],
   "source": [
    "#By using discard() mehtod\n",
    "\n",
    "fruits={\"apple\", \"Watermelon\", \"Orange\", \"grapes\", \"strawberry\"}\n",
    "fruits.discard(\"Orange\")\n",
    "print(fruits)"
   ]
  },
  {
   "cell_type": "code",
   "execution_count": 29,
   "id": "4cfa0e21",
   "metadata": {},
   "outputs": [
    {
     "name": "stdout",
     "output_type": "stream",
     "text": [
      "{'Watermelon', 'strawberry', 'apple', 'Orange', 'grapes'}\n"
     ]
    }
   ],
   "source": [
    "fruits={\"apple\", \"Watermelon\", \"Orange\", \"grapes\", \"strawberry\"}\n",
    "fruits.discard(\"Potato\")\n",
    "print(fruits) #discard() will not throw error if the element not present in the set"
   ]
  },
  {
   "cell_type": "code",
   "execution_count": 30,
   "id": "9b3f34be",
   "metadata": {},
   "outputs": [
    {
     "name": "stdout",
     "output_type": "stream",
     "text": [
      "{'strawberry', 'apple', 'Orange', 'grapes'}\n"
     ]
    }
   ],
   "source": [
    "#By using pop() method\n",
    "\n",
    "fruits={\"apple\", \"Watermelon\", \"Orange\", \"grapes\", \"strawberry\"}\n",
    "fruits.pop()\n",
    "print(fruits) #pop() will remove a random element"
   ]
  },
  {
   "cell_type": "code",
   "execution_count": 31,
   "id": "94f84702",
   "metadata": {},
   "outputs": [
    {
     "name": "stdout",
     "output_type": "stream",
     "text": [
      "set()\n"
     ]
    }
   ],
   "source": [
    "#By using clear() method\n",
    "\n",
    "fruits={\"apple\", \"Watermelon\", \"Orange\", \"grapes\", \"strawberry\"}\n",
    "fruits.clear() #clear() to remove all the elements\n",
    "print(fruits)"
   ]
  },
  {
   "cell_type": "markdown",
   "id": "9652d748",
   "metadata": {},
   "source": [
    "## 6.3. Looping through a Set\n",
    "\n",
    "- By using <b>for</b> loop\n",
    "- By using <b>enumerate</b> to access the index of the element"
   ]
  },
  {
   "cell_type": "code",
   "execution_count": 7,
   "id": "373d3360",
   "metadata": {},
   "outputs": [
    {
     "name": "stdout",
     "output_type": "stream",
     "text": [
      "Orange\n",
      "apple\n",
      "grapes\n",
      "strawberry\n",
      "Watermelon\n"
     ]
    }
   ],
   "source": [
    "#By using for loop\n",
    "\n",
    "fruits={\"apple\", \"Watermelon\", \"Orange\", \"grapes\", \"strawberry\"}\n",
    "for i in fruits:\n",
    "    print(i)"
   ]
  },
  {
   "cell_type": "code",
   "execution_count": 15,
   "id": "4d57d3b2",
   "metadata": {},
   "outputs": [
    {
     "name": "stdout",
     "output_type": "stream",
     "text": [
      "0.Orange\n",
      "1.apple\n",
      "2.grapes\n",
      "3.strawberry\n",
      "4.Watermelon\n"
     ]
    }
   ],
   "source": [
    "#By using enumerate()\n",
    "\n",
    "fruits={\"apple\", \"Watermelon\", \"Orange\", \"grapes\", \"strawberry\"}\n",
    "for index,fruitname in enumerate(fruits):\n",
    "    print(\"{}.{}\".format(index,fruitname))\n",
    "    #print(f\"{index}.{fruitname}\")"
   ]
  },
  {
   "cell_type": "code",
   "execution_count": 18,
   "id": "84e6889a",
   "metadata": {},
   "outputs": [
    {
     "name": "stdout",
     "output_type": "stream",
     "text": [
      "1.Orange\n",
      "2.apple\n",
      "3.grapes\n",
      "4.strawberry\n",
      "5.Watermelon\n"
     ]
    }
   ],
   "source": [
    "#By using enumerate()\n",
    "\n",
    "fruits={\"apple\", \"Watermelon\", \"Orange\", \"grapes\", \"strawberry\"}\n",
    "for index,fruitname in enumerate(fruits, 1): #By default index start from 0. To change that pass any value\n",
    "    print(\"{}.{}\".format(index,fruitname))"
   ]
  },
  {
   "cell_type": "markdown",
   "id": "252bc8aa",
   "metadata": {},
   "source": [
    "## 6.4. Set Comprehension"
   ]
  },
  {
   "cell_type": "code",
   "execution_count": 21,
   "id": "1bcde209",
   "metadata": {},
   "outputs": [
    {
     "name": "stdout",
     "output_type": "stream",
     "text": [
      "{'APPLE', 'ORANGE', 'STRAWBERRY', 'GRAPES', 'WATERMELON'}\n"
     ]
    }
   ],
   "source": [
    "#without set comprehension\n",
    "\n",
    "fruits={\"apple\", \"Watermelon\", \"Orange\", \"grapes\", \"strawberry\"}\n",
    "\n",
    "upper_fruits=set()\n",
    "for i in fruits:\n",
    "    upper_fruits.add(i.upper())\n",
    "    \n",
    "print(upper_fruits)"
   ]
  },
  {
   "cell_type": "code",
   "execution_count": 1,
   "id": "4b357be9",
   "metadata": {},
   "outputs": [
    {
     "name": "stdout",
     "output_type": "stream",
     "text": [
      "{'STRAWBERRY', 'WATERMELON', 'GRAPES', 'APPLE', 'ORANGE'}\n"
     ]
    }
   ],
   "source": [
    "#with set comprehension\n",
    "\n",
    "fruits={\"apple\", \"Watermelon\", \"Orange\", \"grapes\", \"strawberry\"}\n",
    "upper_fruits={i.upper() for i in fruits}\n",
    "print(upper_fruits)"
   ]
  },
  {
   "cell_type": "code",
   "execution_count": 2,
   "id": "dbd2ee72",
   "metadata": {},
   "outputs": [
    {
     "name": "stdout",
     "output_type": "stream",
     "text": [
      "{'GRAPES', 'ORANGE', 'STRAWBERRY', 'WATERMELON'}\n"
     ]
    }
   ],
   "source": [
    "#with set comprehension\n",
    "\n",
    "fruits={\"apple\", \"Watermelon\", \"Orange\", \"grapes\", \"strawberry\"}\n",
    "upper_fruits={i.upper() for i in fruits if i!=\"apple\"}\n",
    "print(upper_fruits)"
   ]
  },
  {
   "cell_type": "markdown",
   "id": "88091fe6",
   "metadata": {},
   "source": [
    "## 6.5. Set Union\n",
    "\n",
    "Here you will learn how to union two or more sets\n",
    "- By using <b>union()</b>\n",
    "- By using set union operator (<b>|</b>)\n",
    "\n",
    "The union of two sets returns a <b>new set</b> that contains <b>distinct</b> elements from <b>both</b> sets."
   ]
  },
  {
   "cell_type": "code",
   "execution_count": 8,
   "id": "2756a273",
   "metadata": {},
   "outputs": [
    {
     "name": "stdout",
     "output_type": "stream",
     "text": [
      "{'c++', 'Java', 'Python', 'C#'}\n"
     ]
    }
   ],
   "source": [
    "#By using union()\n",
    "\n",
    "s1 = {'Python', 'Java', 'c++'}\n",
    "s2 = {'C#', 'Java', 'c++'}\n",
    "s=s1.union(s2) #union() accepts set, strings, list and dictionary\n",
    "print(s)"
   ]
  },
  {
   "cell_type": "code",
   "execution_count": 7,
   "id": "af362708",
   "metadata": {},
   "outputs": [
    {
     "name": "stdout",
     "output_type": "stream",
     "text": [
      "{'c++', 'Java', 'Python', 'C#'}\n"
     ]
    }
   ],
   "source": [
    "#By usnig | \n",
    "\n",
    "s1 = {'Python', 'Java', 'c++'}\n",
    "s2 = {'C#', 'Java', 'c++'}\n",
    "s=s1|s2 #operator | accepts only set\n",
    "print(s)"
   ]
  },
  {
   "cell_type": "markdown",
   "id": "53314430",
   "metadata": {},
   "source": [
    "## 6.6. Set Intersection\n",
    "\n",
    "When intersecting two or more sets, you’ll get a <b>new set</b> consisting of elements that <b>exist</b> in <b>all sets</b>.\n",
    "\n",
    "- By using <b>intersection()</b>\n",
    "- By using set intersection operator (<b>&</b>)"
   ]
  },
  {
   "cell_type": "code",
   "execution_count": 9,
   "id": "6b935bb3",
   "metadata": {},
   "outputs": [
    {
     "name": "stdout",
     "output_type": "stream",
     "text": [
      "{'C++', 'Java'}\n"
     ]
    }
   ],
   "source": [
    "#By using intersection()\n",
    "\n",
    "s1 = {'Python', 'Java','C++'}\n",
    "s2 = {'C#', 'Java', 'C++' }\n",
    "s=s1.intersection(s2) #intersection() accepts set, strings, list and dictionary\n",
    "print(s)"
   ]
  },
  {
   "cell_type": "code",
   "execution_count": 10,
   "id": "71c043d3",
   "metadata": {},
   "outputs": [
    {
     "name": "stdout",
     "output_type": "stream",
     "text": [
      "{'C++', 'Java'}\n"
     ]
    }
   ],
   "source": [
    "#By using &\n",
    "\n",
    "s1 = {'Python', 'Java','C++'}\n",
    "s2 = {'C#', 'Java', 'C++' }\n",
    "s=s1&s2 #operator & accepts only set\n",
    "print(s)"
   ]
  },
  {
   "cell_type": "markdown",
   "id": "c632d334",
   "metadata": {},
   "source": [
    "## 6.7. Set Difference\n",
    "\n",
    "The difference between the two sets results in a <b>new set</b> that has elements from the <b>first set which aren’t present in the second set</b>.\n",
    "- By using <b>difference()</b>\n",
    "- By using set difference operator (<b>-</b>)"
   ]
  },
  {
   "cell_type": "code",
   "execution_count": 13,
   "id": "5d1b0fb0",
   "metadata": {},
   "outputs": [
    {
     "name": "stdout",
     "output_type": "stream",
     "text": [
      "{'Python'}\n"
     ]
    }
   ],
   "source": [
    "#By using difference() \n",
    "\n",
    "s1 = {'Python', 'Java', 'C++'}\n",
    "s2 = {'C#', 'Java', 'C++'}\n",
    "s=s1.difference(s2) #difference() accepts set, strings, list and dictionary\n",
    "print(s)"
   ]
  },
  {
   "cell_type": "code",
   "execution_count": 16,
   "id": "c024664a",
   "metadata": {},
   "outputs": [
    {
     "name": "stdout",
     "output_type": "stream",
     "text": [
      "{'C#'}\n"
     ]
    }
   ],
   "source": [
    "#By using difference() \n",
    "\n",
    "s1 = {'Python', 'Java', 'C++'}\n",
    "s2 = {'C#', 'Java', 'C++'}\n",
    "s=s2.difference(s1)\n",
    "print(s)"
   ]
  },
  {
   "cell_type": "code",
   "execution_count": 20,
   "id": "fe53517a",
   "metadata": {},
   "outputs": [
    {
     "name": "stdout",
     "output_type": "stream",
     "text": [
      "{'Python'}\n"
     ]
    }
   ],
   "source": [
    "#By using (-)\n",
    "\n",
    "s1 = {'Python', 'Java', 'C++'}\n",
    "s2 = {'C#', 'Java', 'C++'}\n",
    "s=s1-s2 #operator - accepts only set\n",
    "print(s)"
   ]
  },
  {
   "cell_type": "code",
   "execution_count": 18,
   "id": "4e44555a",
   "metadata": {},
   "outputs": [
    {
     "name": "stdout",
     "output_type": "stream",
     "text": [
      "{'C#'}\n"
     ]
    }
   ],
   "source": [
    "#By using (-)\n",
    "\n",
    "s1 = {'Python', 'Java', 'C++'}\n",
    "s2 = {'C#', 'Java', 'C++'}\n",
    "s=s2-s1\n",
    "print(s)"
   ]
  },
  {
   "cell_type": "markdown",
   "id": "559a2e23",
   "metadata": {},
   "source": [
    "## 6.8. Set Symmetric Difference\n",
    "\n",
    "The symmetric difference between two sets is a set of elements that are in either set, but not in their intersection.\n",
    "\n",
    "- By using <b>symmetric_difference()</b>\n",
    "- By using set symmetric difference operator (<b>^</b>)"
   ]
  },
  {
   "cell_type": "code",
   "execution_count": 24,
   "id": "1e5b82c8",
   "metadata": {},
   "outputs": [
    {
     "name": "stdout",
     "output_type": "stream",
     "text": [
      "{'C#', 'Python'}\n"
     ]
    }
   ],
   "source": [
    "#By using symmetric_difference()\n",
    "\n",
    "s1 = {'Python', 'Java', 'C++'}\n",
    "s2 = {'C#', 'Java', 'C++'}\n",
    "s=s1.symmetric_difference(s2) #symmetric_difference() accepts set, strings, list and dictionary\n",
    "print(s)"
   ]
  },
  {
   "cell_type": "code",
   "execution_count": 25,
   "id": "6901eff5",
   "metadata": {},
   "outputs": [
    {
     "name": "stdout",
     "output_type": "stream",
     "text": [
      "{'C#', 'Python'}\n"
     ]
    }
   ],
   "source": [
    "#By using (^)\n",
    "\n",
    "s1 = {'Python', 'Java', 'C++'}\n",
    "s2 = {'C#', 'Java', 'C++'}\n",
    "s=s1^s2 #operator ^ accepts only set\n",
    "print(s)"
   ]
  },
  {
   "cell_type": "markdown",
   "id": "741d3a7e",
   "metadata": {},
   "source": [
    "## 6.9. Subset\n",
    "\n",
    "You have two sets A and B. Set A is a subset of set B if all elements of A are also elements of B. Then, set B is a superset of set A.\n",
    "\n",
    "- By using <b>issubset()</b> method is used to check if a set is a subset of another set. If yes it returns <b>True</b> otherwise <b>False</b>.\n",
    "- By using subset operator (<b><=</b>)"
   ]
  },
  {
   "cell_type": "code",
   "execution_count": 29,
   "id": "1753a526",
   "metadata": {},
   "outputs": [
    {
     "name": "stdout",
     "output_type": "stream",
     "text": [
      "True\n",
      "False\n"
     ]
    }
   ],
   "source": [
    "#By using issubset()\n",
    "\n",
    "setA = {1, 2, 3, 4, 5, 6}\n",
    "setB = {1, 2, 3}\n",
    "print(setB.issubset(setA)) #to check setB is a subset of setA\n",
    "\n",
    "print(setA.issubset(setB)) #to check setA is a subset of setB"
   ]
  },
  {
   "cell_type": "code",
   "execution_count": 33,
   "id": "f85968e9",
   "metadata": {},
   "outputs": [
    {
     "name": "stdout",
     "output_type": "stream",
     "text": [
      "True\n",
      "False\n"
     ]
    }
   ],
   "source": [
    "#By using (<=)\n",
    "\n",
    "setA = {1, 2, 3, 4, 5, 6}\n",
    "setB = {1, 2, 3}\n",
    "print(setB<=setA) #to check setB is a subset of setA\n",
    "\n",
    "print(setA<=setB) #to check setA is a subset of setB"
   ]
  },
  {
   "cell_type": "markdown",
   "id": "824b2d0f",
   "metadata": {},
   "source": [
    "## 6.10. Superset\n",
    "\n",
    "You have two sets: A and B. Set A is a superset of set B if all elements of set B are elements of set A.\n",
    "\n",
    "- By using <b>issuperset()</b>\n",
    "- By using set superset operatpor (<b>>=</b>).\n"
   ]
  },
  {
   "cell_type": "code",
   "execution_count": 2,
   "id": "a7a7f0d2",
   "metadata": {},
   "outputs": [
    {
     "name": "stdout",
     "output_type": "stream",
     "text": [
      "True\n",
      "False\n"
     ]
    }
   ],
   "source": [
    "#By using issuperset()\n",
    "\n",
    "setA = {1, 2, 3, 4, 5, 6}\n",
    "setB = {1, 2, 3}\n",
    "print(setA.issuperset(setB)) #to check setA is superset of setB\n",
    "print(setB.issuperset(setA)) #to check setB is superset of setA"
   ]
  },
  {
   "cell_type": "code",
   "execution_count": 10,
   "id": "0bfd2f2f",
   "metadata": {},
   "outputs": [
    {
     "name": "stdout",
     "output_type": "stream",
     "text": [
      "True\n",
      "False\n",
      "True\n"
     ]
    }
   ],
   "source": [
    "#By using (>=)\n",
    "\n",
    "setA = {1, 2, 3, 4, 5, 6}\n",
    "setB = {1, 2, 3}\n",
    "print(setA>=setB) #to check setA is a superset of setB\n",
    "print(setB>=setA) #to check setB is a superset of setA\n",
    "print(setA>=setA) #to check setA is a superset of setA"
   ]
  },
  {
   "cell_type": "code",
   "execution_count": 9,
   "id": "b25daa24",
   "metadata": {},
   "outputs": [
    {
     "name": "stdout",
     "output_type": "stream",
     "text": [
      "True\n",
      "False\n",
      "False\n"
     ]
    }
   ],
   "source": [
    "#To check proper superset use >\n",
    "\n",
    "setA = {1, 2, 3, 4, 5, 6}\n",
    "setB = {1, 2, 3}\n",
    "print(setA>setB)\n",
    "print(setB>setA)\n",
    "print(setA>setA)"
   ]
  },
  {
   "cell_type": "markdown",
   "id": "b549dbab",
   "metadata": {},
   "source": [
    "## 6.11. Disjoint Set\n",
    "\n",
    "Two sets are disjoint when they have <b>no elements in common</b>. In other words, two disjoint sets are sets whose intersection is an empty set.\n",
    "\n",
    "- By using <b>isdisjoint()</b>"
   ]
  },
  {
   "cell_type": "code",
   "execution_count": 11,
   "id": "6eb6bb51",
   "metadata": {},
   "outputs": [
    {
     "name": "stdout",
     "output_type": "stream",
     "text": [
      "True\n"
     ]
    }
   ],
   "source": [
    "#By using isdisjoint()\n",
    "\n",
    "odd={1, 3, 5}\n",
    "even={2, 4, 6}\n",
    "result=odd.isdisjoint(even) #isdisjoint() accepts sets, lists, strings and dictionary\n",
    "print(result)"
   ]
  },
  {
   "cell_type": "code",
   "execution_count": 12,
   "id": "43253e27",
   "metadata": {},
   "outputs": [
    {
     "name": "stdout",
     "output_type": "stream",
     "text": [
      "True\n"
     ]
    }
   ],
   "source": [
    "letters={\"a\", \"b\", \"c\"}\n",
    "result=letters.isdisjoint([1,2,\"3\"])\n",
    "print(result)"
   ]
  },
  {
   "cell_type": "markdown",
   "id": "1522fa22",
   "metadata": {},
   "source": [
    "## 6.12. Frozen Set\n",
    "\n",
    "- Frozen set is just an <b>immutable</b> version of normal set. To make a set immutable, you use the built-in function called <b>frozenset()</b>. The frozenset() returns a new immutable set from an existing one."
   ]
  },
  {
   "cell_type": "code",
   "execution_count": 2,
   "id": "5ec3686a",
   "metadata": {},
   "outputs": [
    {
     "name": "stdout",
     "output_type": "stream",
     "text": [
      "frozenset({'apple', 'Watermelon', 'strawberry', 'grapes', 'Orange'})\n"
     ]
    }
   ],
   "source": [
    "fruits=frozenset([\"apple\", \"Watermelon\", \"Orange\", \"grapes\", \"strawberry\"])\n",
    "print(fruits)"
   ]
  },
  {
   "cell_type": "code",
   "execution_count": 6,
   "id": "a5ba451a",
   "metadata": {},
   "outputs": [
    {
     "ename": "AttributeError",
     "evalue": "'frozenset' object has no attribute 'add'",
     "output_type": "error",
     "traceback": [
      "\u001b[1;31m---------------------------------------------------------------------------\u001b[0m",
      "\u001b[1;31mAttributeError\u001b[0m                            Traceback (most recent call last)",
      "\u001b[1;32m<ipython-input-6-9560c2ce03b2>\u001b[0m in \u001b[0;36m<module>\u001b[1;34m\u001b[0m\n\u001b[1;32m----> 1\u001b[1;33m \u001b[0mfruits\u001b[0m\u001b[1;33m.\u001b[0m\u001b[0madd\u001b[0m\u001b[1;33m(\u001b[0m\u001b[1;34m\"Mango\"\u001b[0m\u001b[1;33m)\u001b[0m\u001b[1;33m\u001b[0m\u001b[1;33m\u001b[0m\u001b[0m\n\u001b[0m\u001b[0;32m      2\u001b[0m \u001b[0mprint\u001b[0m\u001b[1;33m(\u001b[0m\u001b[0mfruits\u001b[0m\u001b[1;33m)\u001b[0m\u001b[1;33m\u001b[0m\u001b[1;33m\u001b[0m\u001b[0m\n",
      "\u001b[1;31mAttributeError\u001b[0m: 'frozenset' object has no attribute 'add'"
     ]
    }
   ],
   "source": [
    "fruits.add(\"Mango\")\n",
    "print(fruits) #adding, modifying, deleteing not possible"
   ]
  },
  {
   "cell_type": "markdown",
   "id": "d40c67e5",
   "metadata": {},
   "source": [
    "## 6.13. Updating Set\n",
    "\n",
    "- By using <b>update()</b>. Update the set by adding elements from another set.\n",
    "- By using <b>intersection_update()</b>. Update the set by keeping only the elements found in both\n",
    "- By using <b>difference_update()</b>. Update the set by removing elements found in another set.\n",
    "- By using <b>symmetric_difference_update()</b>. Update the set by only keeping the elements found in either set, but not in both"
   ]
  },
  {
   "cell_type": "code",
   "execution_count": 20,
   "id": "4d766449",
   "metadata": {},
   "outputs": [
    {
     "name": "stdout",
     "output_type": "stream",
     "text": [
      "{1, 2, 3, 4, 5, 6, 7, 8, 9, 10, 11, 12}\n",
      "None\n"
     ]
    }
   ],
   "source": [
    "#By using update()\n",
    "\n",
    "setA = {1, 2, 3, 4, 5, 6, 7, 8, 9}\n",
    "setB = {1, 2, 3, 10, 11, 12}\n",
    "setA.update(setB) #Update the set by adding elements from another set\n",
    "print(setA)\n",
    "setC=setA.update(setB) #returns None, bcz update() will not return a new set\n",
    "print(setC)"
   ]
  },
  {
   "cell_type": "code",
   "execution_count": 28,
   "id": "943421f6",
   "metadata": {},
   "outputs": [
    {
     "name": "stdout",
     "output_type": "stream",
     "text": [
      "{1, 2, 3}\n"
     ]
    }
   ],
   "source": [
    "#By using intersection_update()\n",
    "\n",
    "setA = {1, 2, 3, 4, 5, 6, 7, 8, 9}\n",
    "setB = {1, 2, 3, 10, 11, 12}\n",
    "setA.intersection_update(setB) #Update the set by keeping only the elements found in both\n",
    "print(setA)"
   ]
  },
  {
   "cell_type": "code",
   "execution_count": 29,
   "id": "aa459907",
   "metadata": {},
   "outputs": [
    {
     "name": "stdout",
     "output_type": "stream",
     "text": [
      "{4, 5, 6, 7, 8, 9}\n"
     ]
    }
   ],
   "source": [
    "#By using difference_update()\n",
    "\n",
    "setA = {1, 2, 3, 4, 5, 6, 7, 8, 9}\n",
    "setB = {1, 2, 3, 10, 11, 12}\n",
    "setA.difference_update(setB) #Update the set by removing elements found in another set\n",
    "print(setA)"
   ]
  },
  {
   "cell_type": "code",
   "execution_count": 23,
   "id": "bdc5adbd",
   "metadata": {},
   "outputs": [
    {
     "name": "stdout",
     "output_type": "stream",
     "text": [
      "{4, 5, 6, 7, 8, 9, 10, 11, 12}\n"
     ]
    }
   ],
   "source": [
    "#By using symmetric_difference_update()\n",
    "\n",
    "setA = {1, 2, 3, 4, 5, 6, 7, 8, 9}\n",
    "setB = {1, 2, 3, 10, 11, 12}\n",
    "setA.symmetric_difference_update(setB) #Update the set by only keeping the elements found in either set, but not in both\n",
    "print(setA)"
   ]
  },
  {
   "cell_type": "markdown",
   "id": "c03e4ee7",
   "metadata": {},
   "source": [
    "## 6.14. Copying a Set\n",
    "\n",
    "- By using <b>copy()</b>"
   ]
  },
  {
   "cell_type": "code",
   "execution_count": 30,
   "id": "8101a67e",
   "metadata": {},
   "outputs": [
    {
     "name": "stdout",
     "output_type": "stream",
     "text": [
      "{1, 2, 3, 4, 5, 6, 7}\n",
      "{1, 2, 3, 4, 5, 6, 7}\n"
     ]
    }
   ],
   "source": [
    "set_org = {1, 2, 3, 4, 5}\n",
    "set_copy = set_org #this is just copies the reference to the set, so be careful\n",
    "\n",
    "# now modifying the copy also affects the original\n",
    "set_copy.update([3, 4, 5, 6, 7])\n",
    "print(set_copy)\n",
    "print(set_org)"
   ]
  },
  {
   "cell_type": "code",
   "execution_count": 31,
   "id": "ada3bdf0",
   "metadata": {},
   "outputs": [
    {
     "name": "stdout",
     "output_type": "stream",
     "text": [
      "{1, 2, 3, 4, 5, 6, 7}\n",
      "{1, 2, 3, 4, 5}\n"
     ]
    }
   ],
   "source": [
    "#By using copy()\n",
    "\n",
    "set_org={1,2,3,4,5}\n",
    "set_copy=set_org.copy()\n",
    "\n",
    "# now modifying the copy does not affect the original\n",
    "set_copy.update([3, 4, 5, 6, 7])\n",
    "print(set_copy)\n",
    "print(set_org)"
   ]
  },
  {
   "cell_type": "code",
   "execution_count": null,
   "id": "2814ca13",
   "metadata": {},
   "outputs": [],
   "source": []
  }
 ],
 "metadata": {
  "kernelspec": {
   "display_name": "Python 3",
   "language": "python",
   "name": "python3"
  },
  "language_info": {
   "codemirror_mode": {
    "name": "ipython",
    "version": 3
   },
   "file_extension": ".py",
   "mimetype": "text/x-python",
   "name": "python",
   "nbconvert_exporter": "python",
   "pygments_lexer": "ipython3",
   "version": "3.8.8"
  }
 },
 "nbformat": 4,
 "nbformat_minor": 5
}
