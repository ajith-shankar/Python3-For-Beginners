{
 "cells": [
  {
   "cell_type": "markdown",
   "id": "988f1546",
   "metadata": {},
   "source": [
    "# <font color=Blue>Dictionary</font>"
   ]
  },
  {
   "cell_type": "markdown",
   "id": "aaeedb7c",
   "metadata": {},
   "source": [
    "Python dictionary is a collection of <b>key-value pairs</b> which are unordered, changeable and indexed. Each key-value pair in the dictionary maps the key to its associated value. <br>Python uses curly braces <b>{}</b> to define a dictionary. Inside the curly braces, you can place zero, one, or many key-value pairs. <br>Each <b>key</b> is separated from its value by a colon <b>(:)</b> and the <b>items</b> are separated by commas <b>(,)</b>. <br>A value in the key-value pair can be a number, a string, a list, a tuple, or even another dictionary."
   ]
  },
  {
   "cell_type": "code",
   "execution_count": 1,
   "id": "de79727d",
   "metadata": {},
   "outputs": [
    {
     "name": "stdout",
     "output_type": "stream",
     "text": [
      "<class 'dict'>\n"
     ]
    }
   ],
   "source": [
    "empty_dict = {} #empty dictionary\n",
    "print(type(empty_dict))"
   ]
  },
  {
   "cell_type": "code",
   "execution_count": 17,
   "id": "6db270c2",
   "metadata": {},
   "outputs": [
    {
     "name": "stdout",
     "output_type": "stream",
     "text": [
      "{'name': 'Max', 'age': 28, 'city': 'New York', 1: 2047.58}\n"
     ]
    }
   ],
   "source": [
    "my_dict = {\"name\":\"Max\", \"age\":28, \"city\":\"New York\", 1:2047.58}\n",
    "print(my_dict)"
   ]
  },
  {
   "cell_type": "code",
   "execution_count": 18,
   "id": "52c71901",
   "metadata": {},
   "outputs": [
    {
     "name": "stdout",
     "output_type": "stream",
     "text": [
      "{'name': 'Max', 'age': 28, 'city': 'New York', 1: 2047.58, 'Name': 'Katy'}\n"
     ]
    }
   ],
   "source": [
    "my_dict = {\"name\":\"Max\", \"age\":28, \"city\":\"New York\", 1:2047.58, \"Name\":\"Katy\"} #keys are case-sensitive\n",
    "print(my_dict) "
   ]
  },
  {
   "cell_type": "markdown",
   "id": "5c45b41b",
   "metadata": {},
   "source": [
    "## 5.1. Accessing elements in Dictionary\n",
    "\n",
    "- By using Square bracket notation [ ]\n",
    "- By using get() method"
   ]
  },
  {
   "cell_type": "code",
   "execution_count": 19,
   "id": "63a56b75",
   "metadata": {},
   "outputs": [
    {
     "name": "stdout",
     "output_type": "stream",
     "text": [
      "Max\n"
     ]
    }
   ],
   "source": [
    "#By using Square bracket [] notation\n",
    "\n",
    "my_dict = {\"name\":\"Max\", \"age\":28, \"city\":\"New York\", 1:2047.58}\n",
    "print(my_dict[\"name\"])"
   ]
  },
  {
   "cell_type": "code",
   "execution_count": 20,
   "id": "48bb0ebc",
   "metadata": {},
   "outputs": [
    {
     "ename": "KeyError",
     "evalue": "'country'",
     "output_type": "error",
     "traceback": [
      "\u001b[1;31m---------------------------------------------------------------------------\u001b[0m",
      "\u001b[1;31mKeyError\u001b[0m                                  Traceback (most recent call last)",
      "\u001b[1;32m<ipython-input-20-cf1e830becb3>\u001b[0m in \u001b[0;36m<module>\u001b[1;34m\u001b[0m\n\u001b[0;32m      2\u001b[0m \u001b[1;33m\u001b[0m\u001b[0m\n\u001b[0;32m      3\u001b[0m \u001b[0mmy_dict\u001b[0m \u001b[1;33m=\u001b[0m \u001b[1;33m{\u001b[0m\u001b[1;34m\"name\"\u001b[0m\u001b[1;33m:\u001b[0m\u001b[1;34m\"Max\"\u001b[0m\u001b[1;33m,\u001b[0m \u001b[1;34m\"age\"\u001b[0m\u001b[1;33m:\u001b[0m\u001b[1;36m28\u001b[0m\u001b[1;33m,\u001b[0m \u001b[1;34m\"city\"\u001b[0m\u001b[1;33m:\u001b[0m\u001b[1;34m\"New York\"\u001b[0m\u001b[1;33m,\u001b[0m \u001b[1;36m1\u001b[0m\u001b[1;33m:\u001b[0m\u001b[1;36m2047.58\u001b[0m\u001b[1;33m}\u001b[0m\u001b[1;33m\u001b[0m\u001b[1;33m\u001b[0m\u001b[0m\n\u001b[1;32m----> 4\u001b[1;33m \u001b[0mprint\u001b[0m\u001b[1;33m(\u001b[0m\u001b[0mmy_dict\u001b[0m\u001b[1;33m[\u001b[0m\u001b[1;34m\"country\"\u001b[0m\u001b[1;33m]\u001b[0m\u001b[1;33m)\u001b[0m \u001b[1;31m#if key doesn't exist it will throw an error\u001b[0m\u001b[1;33m\u001b[0m\u001b[1;33m\u001b[0m\u001b[0m\n\u001b[0m",
      "\u001b[1;31mKeyError\u001b[0m: 'country'"
     ]
    }
   ],
   "source": [
    "#By using Square bracket [] notation\n",
    "\n",
    "my_dict = {\"name\":\"Max\", \"age\":28, \"city\":\"New York\", 1:2047.58}\n",
    "print(my_dict[\"country\"]) #if key doesn't exist it will throw an error"
   ]
  },
  {
   "cell_type": "code",
   "execution_count": 24,
   "id": "438c9656",
   "metadata": {},
   "outputs": [
    {
     "name": "stdout",
     "output_type": "stream",
     "text": [
      "Max\n"
     ]
    }
   ],
   "source": [
    "#By using get() mehtod\n",
    "\n",
    "my_dict = {\"name\":\"Max\", \"age\":28, \"city\":\"New York\", 1:2047.58}\n",
    "print(my_dict.get(\"name\"))"
   ]
  },
  {
   "cell_type": "code",
   "execution_count": 22,
   "id": "0c573d84",
   "metadata": {},
   "outputs": [
    {
     "name": "stdout",
     "output_type": "stream",
     "text": [
      "None\n"
     ]
    }
   ],
   "source": [
    "#By using get() mehtod\n",
    "\n",
    "my_dict = {\"name\":\"Max\", \"age\":28, \"city\":\"New York\", 1:2047.58}\n",
    "print(my_dict.get(\"country\")) #if key doesn't exist get() method will return None"
   ]
  },
  {
   "cell_type": "code",
   "execution_count": 25,
   "id": "b82c0876",
   "metadata": {},
   "outputs": [
    {
     "name": "stdout",
     "output_type": "stream",
     "text": [
      "India\n"
     ]
    }
   ],
   "source": [
    "#By using get() mehtod\n",
    "\n",
    "my_dict = {\"name\":\"Max\", \"age\":28, \"city\":\"New York\", 1:2047.58}\n",
    "print(my_dict.get(\"country\", \"India\")) #get() returns default value if key doesn't exist"
   ]
  },
  {
   "cell_type": "markdown",
   "id": "c47b4a6a",
   "metadata": {},
   "source": [
    "## 5.2. Adding new key-value pair"
   ]
  },
  {
   "cell_type": "code",
   "execution_count": 26,
   "id": "1ac818ed",
   "metadata": {},
   "outputs": [
    {
     "name": "stdout",
     "output_type": "stream",
     "text": [
      "{'name': 'Max', 'age': 28, 'city': 'New York', 1: 2047.58}\n",
      "{'name': 'Max', 'age': 28, 'city': 'New York', 1: 2047.58, 'gender': 'Male'}\n"
     ]
    }
   ],
   "source": [
    "my_dict = {\"name\":\"Max\", \"age\":28, \"city\":\"New York\", 1:2047.58}\n",
    "print(my_dict)\n",
    "my_dict[\"gender\"]=\"Male\" #dict[key]=value\n",
    "print(my_dict)"
   ]
  },
  {
   "cell_type": "markdown",
   "id": "8a9070ae",
   "metadata": {},
   "source": [
    "## 5.3. Modifying values in a key-value pair"
   ]
  },
  {
   "cell_type": "code",
   "execution_count": 28,
   "id": "b87ce3e0",
   "metadata": {},
   "outputs": [
    {
     "name": "stdout",
     "output_type": "stream",
     "text": [
      "{'name': 'Max', 'age': 28, 'city': 'New York', 1: 2047.58, 'gender': 'Male'}\n",
      "{'name': 'Max', 'age': 30, 'city': 'New York', 1: 2047.58, 'gender': 'Male'}\n"
     ]
    }
   ],
   "source": [
    "my_dict = {\"name\":\"Max\", \"age\":28, \"city\":\"New York\", 1:2047.58, \"gender\":\"Male\"}\n",
    "print(my_dict)\n",
    "my_dict[\"age\"]=30 #dict[key]=new value\n",
    "print(my_dict)"
   ]
  },
  {
   "cell_type": "markdown",
   "id": "29be7bd7",
   "metadata": {},
   "source": [
    "## 5.4. Removing key-value pair\n",
    "\n",
    "- By using <b>del</b> statement\n",
    "- By using <b>pop()</b> method\n",
    "- By uisng <b>popitem()</b> method\n",
    "- By using <b>clear()</b> method"
   ]
  },
  {
   "cell_type": "code",
   "execution_count": 31,
   "id": "359c0087",
   "metadata": {},
   "outputs": [
    {
     "name": "stdout",
     "output_type": "stream",
     "text": [
      "{'name': 'Max', 'age': 28, 'city': 'New York', 1: 2047.58, 'gender': 'Male'}\n",
      "{'name': 'Max', 'age': 28, 'city': 'New York', 'gender': 'Male'}\n",
      "{'name': 'Max', 'age': 28, 'city': 'New York'}\n"
     ]
    }
   ],
   "source": [
    "#By using del statement\n",
    "\n",
    "my_dict = {\"name\":\"Max\", \"age\":28, \"city\":\"New York\", 1:2047.58, \"gender\":\"Male\"}\n",
    "print(my_dict)\n",
    "\n",
    "del my_dict[1] #del dict[key]\n",
    "print(my_dict)\n",
    "\n",
    "del my_dict[\"gender\"]\n",
    "print(my_dict)"
   ]
  },
  {
   "cell_type": "code",
   "execution_count": 36,
   "id": "eee01bbd",
   "metadata": {},
   "outputs": [
    {
     "name": "stdout",
     "output_type": "stream",
     "text": [
      "{'name': 'Max', 'age': 28, 'city': 'New York', 1: 2047.58, 'gender': 'Male'}\n",
      "\n",
      "2047.58\n",
      "\n",
      "Male\n"
     ]
    }
   ],
   "source": [
    "#By using pop() method\n",
    "\n",
    "my_dict = {\"name\":\"Max\", \"age\":28, \"city\":\"New York\", 1:2047.58, \"gender\":\"Male\"}\n",
    "print(my_dict)\n",
    "print()\n",
    "print(my_dict.pop(1)) #deletes the key-value pair and returns the value\n",
    "print()\n",
    "print(my_dict.pop(\"gender\"))"
   ]
  },
  {
   "cell_type": "code",
   "execution_count": 37,
   "id": "83ddcc1b",
   "metadata": {},
   "outputs": [
    {
     "name": "stdout",
     "output_type": "stream",
     "text": [
      "{'name': 'Max', 'age': 28, 'city': 'New York', 1: 2047.58, 'gender': 'Male'}\n",
      "\n",
      "('gender', 'Male')\n",
      "\n",
      "(1, 2047.58)\n"
     ]
    }
   ],
   "source": [
    "#By using popitem() method\n",
    "\n",
    "my_dict = {\"name\":\"Max\", \"age\":28, \"city\":\"New York\", 1:2047.58, \"gender\":\"Male\"}\n",
    "print(my_dict)\n",
    "print()\n",
    "print(my_dict.popitem()) #deletes the last key-value pair\n",
    "print()\n",
    "print(my_dict.popitem())"
   ]
  },
  {
   "cell_type": "code",
   "execution_count": 40,
   "id": "fc9661e6",
   "metadata": {},
   "outputs": [
    {
     "name": "stdout",
     "output_type": "stream",
     "text": [
      "{'name': 'Max', 'age': 28, 'city': 'New York', 1: 2047.58, 'gender': 'Male'}\n",
      "\n",
      "None\n"
     ]
    }
   ],
   "source": [
    "#By using clear() method\n",
    "\n",
    "my_dict = {\"name\":\"Max\", \"age\":28, \"city\":\"New York\", 1:2047.58, \"gender\":\"Male\"}\n",
    "print(my_dict)\n",
    "print()\n",
    "print(my_dict.clear()) #removes all pairs"
   ]
  },
  {
   "cell_type": "markdown",
   "id": "590d6aea",
   "metadata": {},
   "source": [
    "## 5.5. Looping through Dictionary\n",
    "\n",
    "- Looping through all keys (<b>for</b> loop and <b>keys()</b> method)\n",
    "- Looping through all value (<b>for</b> loop and <b>values()</b> method)\n",
    "- Looping through all key-value pairs (<b>for</b> loop and <b>items()</b> method)"
   ]
  },
  {
   "cell_type": "code",
   "execution_count": 44,
   "id": "f0a16b7e",
   "metadata": {},
   "outputs": [
    {
     "name": "stdout",
     "output_type": "stream",
     "text": [
      "name\n",
      "age\n",
      "city\n",
      "1\n",
      "gender\n",
      "\n",
      "name\n",
      "age\n",
      "city\n",
      "1\n",
      "gender\n"
     ]
    }
   ],
   "source": [
    "#Looping through all keys \n",
    "#for loop and keys() method\n",
    "\n",
    "my_dict = {\"name\":\"Max\", \"age\":28, \"city\":\"New York\", 1:2047.58, \"gender\":\"Male\"}\n",
    "for i in my_dict.keys(): #with keys() method\n",
    "    print(i)\n",
    "    \n",
    "print()\n",
    "\n",
    "for j in my_dict: #without keys() method\n",
    "    print(j)"
   ]
  },
  {
   "cell_type": "code",
   "execution_count": 46,
   "id": "4afec992",
   "metadata": {},
   "outputs": [
    {
     "name": "stdout",
     "output_type": "stream",
     "text": [
      "Max\n",
      "28\n",
      "New York\n",
      "2047.58\n",
      "Male\n"
     ]
    }
   ],
   "source": [
    "#Looping through all values \n",
    "#for loop and values() method\n",
    "\n",
    "my_dict = {\"name\":\"Max\", \"age\":28, \"city\":\"New York\", 1:2047.58, \"gender\":\"Male\"}\n",
    "for i in my_dict.values(): #with values() method\n",
    "    print(i)"
   ]
  },
  {
   "cell_type": "code",
   "execution_count": 49,
   "id": "bea5b12e",
   "metadata": {},
   "outputs": [
    {
     "name": "stdout",
     "output_type": "stream",
     "text": [
      "dict_items([('name', 'Max'), ('age', 28), ('city', 'New York'), (1, 2047.58), ('gender', 'Male')])\n",
      "\n",
      "name: Max\n",
      "age: 28\n",
      "city: New York\n",
      "1: 2047.58\n",
      "gender: Male\n"
     ]
    }
   ],
   "source": [
    "#Looping through all key-value pairs\n",
    "#for loop and items() method\n",
    "\n",
    "my_dict = {\"name\":\"Max\", \"age\":28, \"city\":\"New York\", 1:2047.58, \"gender\":\"Male\"}\n",
    "print(my_dict.items()) #with items() method\n",
    "\n",
    "#item() method returns an object which contains a list of key-value pairs as tuples in a list.\n",
    "\n",
    "print()\n",
    "\n",
    "for i, j in my_dict.items(): #with items() method\n",
    "    print(f\"{i}: {j}\") #to unpack each tuple of the list"
   ]
  },
  {
   "cell_type": "markdown",
   "id": "097de2fd",
   "metadata": {},
   "source": [
    "## 5.6. Copy a Dictionary\n",
    "\n",
    "- By using <b>copy()</b> method\n",
    "- By using <b>dict()</b> method"
   ]
  },
  {
   "cell_type": "code",
   "execution_count": 1,
   "id": "67b5cda1",
   "metadata": {},
   "outputs": [
    {
     "name": "stdout",
     "output_type": "stream",
     "text": [
      "{'name': 'Lisa', 'age': '28', 'city': 'New York', 1: 2047.58, 'gender': 'Male'}\n",
      "{'name': 'Lisa', 'age': '28', 'city': 'New York', 1: 2047.58, 'gender': 'Male'}\n"
     ]
    }
   ],
   "source": [
    "dict_org={\"name\":\"Max\", \"age\":\"28\", \"city\":\"New York\", 1:2047.58, \"gender\":\"Male\"}\n",
    "\n",
    "dict_copy=dict_org # this just copies the reference to the dict, so be careful\n",
    "\n",
    "# now modifying the copy also affects the original\n",
    "dict_copy[\"name\"] = \"Lisa\"\n",
    "print(dict_org)\n",
    "print(dict_copy)"
   ]
  },
  {
   "cell_type": "code",
   "execution_count": 2,
   "id": "a9ca1f00",
   "metadata": {},
   "outputs": [
    {
     "name": "stdout",
     "output_type": "stream",
     "text": [
      "{'name': 'Max', 'age': '28', 'city': 'New York', 1: 2047.58, 'gender': 'Male'}\n",
      "{'name': 'Lisa', 'age': '28', 'city': 'New York', 1: 2047.58, 'gender': 'Male'}\n"
     ]
    }
   ],
   "source": [
    "#By using copy() method\n",
    "\n",
    "dict_org={\"name\":\"Max\", \"age\":\"28\", \"city\":\"New York\", 1:2047.58, \"gender\":\"Male\"}\n",
    "\n",
    "dict_copy=dict_org.copy() #use copy() to actually copy the dict\n",
    "\n",
    "# now modifying the copy does not affect the original\n",
    "dict_copy[\"name\"]=\"Lisa\"\n",
    "print(dict_org)\n",
    "print(dict_copy)"
   ]
  },
  {
   "cell_type": "code",
   "execution_count": 3,
   "id": "275f0835",
   "metadata": {},
   "outputs": [
    {
     "name": "stdout",
     "output_type": "stream",
     "text": [
      "{'name': 'Max', 'age': '28', 'city': 'New York', 1: 2047.58, 'gender': 'Male'}\n",
      "{'name': 'Lisa', 'age': '28', 'city': 'New York', 1: 2047.58, 'gender': 'Male'}\n"
     ]
    }
   ],
   "source": [
    "#By using dict() method\n",
    "\n",
    "dict_org={\"name\":\"Max\", \"age\":\"28\", \"city\":\"New York\", 1:2047.58, \"gender\":\"Male\"}\n",
    "\n",
    "dict_copy=dict(dict_org) #use dict() to actually copy the dictx\n",
    "\n",
    "# now modifying the copy does not affect the original\n",
    "dict_copy[\"name\"]=\"Lisa\"\n",
    "print(dict_org)\n",
    "print(dict_copy)"
   ]
  },
  {
   "cell_type": "markdown",
   "id": "4981f557",
   "metadata": {},
   "source": [
    "## 5.7. Merging Dictionaries\n",
    "\n",
    "- By using <b>update()</b> method\n",
    "- By using <b>Kwargs **</b>"
   ]
  },
  {
   "cell_type": "code",
   "execution_count": 16,
   "id": "3a05380b",
   "metadata": {},
   "outputs": [
    {
     "name": "stdout",
     "output_type": "stream",
     "text": [
      "{'name': 'Lisa', 'age': '28', 'city': 'New York', 1: 2047.58, 'gender': 'Male'}\n"
     ]
    }
   ],
   "source": [
    "#By using update() method\n",
    "\n",
    "my_dict={\"name\":\"Max\", \"age\":\"28\", \"city\":\"New York\", 1:2047.58, \"gender\":\"Male\"}\n",
    "my_dict.update({\"name\":\"Lisa\"}) #dict.update({key:value})\n",
    "print(my_dict)"
   ]
  },
  {
   "cell_type": "code",
   "execution_count": 17,
   "id": "264e9c82",
   "metadata": {},
   "outputs": [
    {
     "name": "stdout",
     "output_type": "stream",
     "text": [
      "{'name': 'Lisa', 'age': 27, 'city': 'New York', 1: 2047.58, 'gender': 'Male'}\n"
     ]
    }
   ],
   "source": [
    "my_dict={\"name\":\"Max\", \"age\":\"28\", \"city\":\"New York\", 1:2047.58, \"gender\":\"Male\"}\n",
    "my_dict2={\"name\":\"Lisa\", \"age\":27}\n",
    "\n",
    "my_dict.update(my_dict2) \n",
    "print(my_dict) #bcz more than one value per key not allowed (\"name\" & \"age\")"
   ]
  },
  {
   "cell_type": "code",
   "execution_count": 18,
   "id": "b33b4b94",
   "metadata": {},
   "outputs": [
    {
     "name": "stdout",
     "output_type": "stream",
     "text": [
      "{'name': 'Lisa', 'age': 27, 'city': 'New York', 1: 2047.58, 'gender': 'Male'}\n"
     ]
    }
   ],
   "source": [
    "#By using Kwargs\n",
    "\n",
    "my_dict={\"name\":\"Max\", \"age\":\"28\", \"city\":\"New York\", 1:2047.58, \"gender\":\"Male\"}\n",
    "my_dict2={\"name\":\"Lisa\", \"age\":27}\n",
    "my_dict3={**my_dict, **my_dict2}\n",
    "print(my_dict3)"
   ]
  },
  {
   "cell_type": "markdown",
   "id": "6b3a6604",
   "metadata": {},
   "source": [
    "## 5.8. sorted()"
   ]
  },
  {
   "cell_type": "code",
   "execution_count": 11,
   "id": "6d7a3962",
   "metadata": {},
   "outputs": [
    {
     "name": "stdout",
     "output_type": "stream",
     "text": [
      "{'age': '28', 'city': 'New York', 'gender': 'Male', 'name': 'Max'}\n"
     ]
    }
   ],
   "source": [
    "my_dict={\"name\":\"Max\", \"age\":\"28\", \"city\":\"New York\", \"gender\":\"Male\"}\n",
    "dict1=dict(sorted(my_dict.items())) #str & int together not possible\n",
    "print(dict1)"
   ]
  },
  {
   "cell_type": "markdown",
   "id": "3b8161da",
   "metadata": {},
   "source": [
    "## 5.9. len()"
   ]
  },
  {
   "cell_type": "code",
   "execution_count": 12,
   "id": "fb7db578",
   "metadata": {},
   "outputs": [
    {
     "name": "stdout",
     "output_type": "stream",
     "text": [
      "5\n",
      "Length : 5\n"
     ]
    }
   ],
   "source": [
    "my_dict={\"name\":\"Max\", \"age\":\"28\", \"city\":\"New York\", 1:2047.58, \"gender\":\"Male\"}\n",
    "print(len(my_dict))\n",
    "print(\"Length : {}\".format(len(my_dict)))"
   ]
  },
  {
   "cell_type": "code",
   "execution_count": 10,
   "id": "c80b90e0",
   "metadata": {},
   "outputs": [
    {
     "name": "stdout",
     "output_type": "stream",
     "text": [
      "Length : 4\n"
     ]
    }
   ],
   "source": [
    "Dict = {'Tim': 18,'Charlie':12,'Tiffany':22,'Robert':25}\n",
    "print(\"Length : %d\" %len (Dict))"
   ]
  },
  {
   "cell_type": "markdown",
   "id": "c85dc664",
   "metadata": {},
   "source": [
    "## 5.10. Dictionary Comprehension\n",
    "\n",
    "- Dictionary comprehension to transform a dictionary\n",
    "- Dictionary comprehension to filter a dictionary"
   ]
  },
  {
   "cell_type": "code",
   "execution_count": 22,
   "id": "158e11b8",
   "metadata": {},
   "outputs": [
    {
     "name": "stdout",
     "output_type": "stream",
     "text": [
      "{'AAPL': 123.42, 'AMZN': 3447.6, 'MSFT': 223.38, 'BIIB': 285.6, 'QDEL': 271.32, 'LVGO': 146.88}\n"
     ]
    }
   ],
   "source": [
    "#Dictionary comprehension to transform a dictionary\n",
    "\n",
    "stocks = {'AAPL': 121, 'AMZN': 3380, 'MSFT': 219, 'BIIB': 280, 'QDEL': 266, 'LVGO': 144}\n",
    "\n",
    "'''''new_stocks = {}\n",
    "for symbol, price in stocks.items():\n",
    "    new_stocks[symbol] = price*1.02\n",
    "print(new_stocks)'''''\n",
    "\n",
    "new_stocks={symbol:price*1.02 for(symbol, price) in stocks.items()} #increase the price by 2% and add them to the new dictionary\n",
    "print(new_stocks)"
   ]
  },
  {
   "cell_type": "code",
   "execution_count": 2,
   "id": "857f79b9",
   "metadata": {},
   "outputs": [
    {
     "name": "stdout",
     "output_type": "stream",
     "text": [
      "{'AMZN': 3380, 'MSFT': 219, 'BIIB': 280, 'QDEL': 266}\n"
     ]
    }
   ],
   "source": [
    "#Dictionary comprehension to filter a dictionary\n",
    "\n",
    "stocks = {'AAPL': 121, 'AMZN': 3380, 'MSFT': 219, 'BIIB': 280, 'QDEL': 266, 'LVGO': 144}\n",
    "\n",
    "''''new_stocks = {}\n",
    "for symbol, price in stocks.items():\n",
    "    if price>200:\n",
    "        new_stocks[symbol] = price\n",
    "print(new_stocks)'''''\n",
    "\n",
    "new_stocks={sym:pri for(sym, pri) in stocks.items() if pri>200}\n",
    "print(new_stocks)"
   ]
  },
  {
   "cell_type": "markdown",
   "id": "dc0563d9",
   "metadata": {},
   "source": [
    "## 5.11. Possible Key types"
   ]
  },
  {
   "cell_type": "code",
   "execution_count": 3,
   "id": "3a2210d8",
   "metadata": {},
   "outputs": [
    {
     "name": "stdout",
     "output_type": "stream",
     "text": [
      "9 81\n"
     ]
    }
   ],
   "source": [
    "# use numbers as key, but be careful\n",
    "\n",
    "my_dict = {3: 9, 6: 36, 9:81}\n",
    "print(my_dict[3], my_dict[9]) #dict[key] #prints value of that key"
   ]
  },
  {
   "cell_type": "code",
   "execution_count": 6,
   "id": "02cf3498",
   "metadata": {},
   "outputs": [
    {
     "name": "stdout",
     "output_type": "stream",
     "text": [
      "{(8, 7): 15}\n",
      "15\n",
      "15\n"
     ]
    }
   ],
   "source": [
    "# use a tuple with immutable elements (e.g. number, string)\n",
    "\n",
    "my_tuple = (8, 7)\n",
    "my_dict = {my_tuple: 15}\n",
    "print(my_dict)\n",
    "print(my_dict[my_tuple])\n",
    "print(my_dict[8,7])"
   ]
  },
  {
   "cell_type": "code",
   "execution_count": 7,
   "id": "bb16d2a3",
   "metadata": {},
   "outputs": [
    {
     "ename": "TypeError",
     "evalue": "unhashable type: 'list'",
     "output_type": "error",
     "traceback": [
      "\u001b[1;31m---------------------------------------------------------------------------\u001b[0m",
      "\u001b[1;31mTypeError\u001b[0m                                 Traceback (most recent call last)",
      "\u001b[1;32m<ipython-input-7-73b18675042e>\u001b[0m in \u001b[0;36m<module>\u001b[1;34m\u001b[0m\n\u001b[0;32m      3\u001b[0m \u001b[1;33m\u001b[0m\u001b[0m\n\u001b[0;32m      4\u001b[0m \u001b[0mmy_list\u001b[0m \u001b[1;33m=\u001b[0m \u001b[1;33m[\u001b[0m\u001b[1;36m8\u001b[0m\u001b[1;33m,\u001b[0m \u001b[1;36m7\u001b[0m\u001b[1;33m]\u001b[0m\u001b[1;33m\u001b[0m\u001b[1;33m\u001b[0m\u001b[0m\n\u001b[1;32m----> 5\u001b[1;33m \u001b[0mmy_dict\u001b[0m \u001b[1;33m=\u001b[0m \u001b[1;33m{\u001b[0m\u001b[0mmy_list\u001b[0m\u001b[1;33m:\u001b[0m \u001b[1;36m15\u001b[0m\u001b[1;33m}\u001b[0m\u001b[1;33m\u001b[0m\u001b[1;33m\u001b[0m\u001b[0m\n\u001b[0m\u001b[0;32m      6\u001b[0m \u001b[0mprint\u001b[0m\u001b[1;33m(\u001b[0m\u001b[0mmy_dict\u001b[0m\u001b[1;33m)\u001b[0m\u001b[1;33m\u001b[0m\u001b[1;33m\u001b[0m\u001b[0m\n",
      "\u001b[1;31mTypeError\u001b[0m: unhashable type: 'list'"
     ]
    }
   ],
   "source": [
    "# list is not possible because list is mutable\n",
    "# this will raise an Error:\n",
    "\n",
    "my_list = [8, 7]\n",
    "my_dict = {my_list: 15}\n",
    "print(my_dict)"
   ]
  },
  {
   "cell_type": "markdown",
   "id": "4e0ce67c",
   "metadata": {},
   "source": [
    "## 5.12. Nested Dictionary"
   ]
  },
  {
   "cell_type": "code",
   "execution_count": 11,
   "id": "b3716e10",
   "metadata": {},
   "outputs": [
    {
     "name": "stdout",
     "output_type": "stream",
     "text": [
      "{'dictA': {'name': 'Max', 'age': 28}, 'dictB': {'name': 'Lisa', 'age': 15, 'city': 'New York'}}\n"
     ]
    }
   ],
   "source": [
    "my_dict_1 = {\"name\":\"Max\", \"age\":28}\n",
    "my_dict_2 = {\"name\":\"Lisa\", \"age\":15, \"city\":\"New York\"}\n",
    "nested_dict = {\"dictA\": my_dict_1, \"dictB\": my_dict_2}\n",
    "print(nested_dict)"
   ]
  },
  {
   "cell_type": "code",
   "execution_count": null,
   "id": "b7a17a84",
   "metadata": {},
   "outputs": [],
   "source": []
  }
 ],
 "metadata": {
  "kernelspec": {
   "display_name": "Python 3",
   "language": "python",
   "name": "python3"
  },
  "language_info": {
   "codemirror_mode": {
    "name": "ipython",
    "version": 3
   },
   "file_extension": ".py",
   "mimetype": "text/x-python",
   "name": "python",
   "nbconvert_exporter": "python",
   "pygments_lexer": "ipython3",
   "version": "3.8.8"
  }
 },
 "nbformat": 4,
 "nbformat_minor": 5
}
