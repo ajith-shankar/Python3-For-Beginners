{
 "cells": [
  {
   "cell_type": "markdown",
   "id": "92f97ca9",
   "metadata": {},
   "source": [
    "# <font color=Blue>List</font>"
   ]
  },
  {
   "cell_type": "markdown",
   "id": "7ac04748",
   "metadata": {},
   "source": [
    "List is an ordered collection of similar or different types of items separated by commas and enclosed within [ ] brackets.\n",
    "<br>\n",
    "Creating a List\n",
    "\n",
    "- Time Complexity: O(1)\n",
    "- Space Complexity: O(n)"
   ]
  },
  {
   "cell_type": "code",
   "execution_count": 1,
   "id": "2d927426",
   "metadata": {},
   "outputs": [
    {
     "name": "stdout",
     "output_type": "stream",
     "text": [
      "['Apple', 'Banana', 'Orange', 'Apple']\n",
      "<class 'list'>\n",
      "[10, 20.5, (30+4j), 'Hello', True]\n",
      "<class 'list'>\n",
      "[[0, 0], [10, 3.7], [100, 50]]\n",
      "<class 'list'>\n"
     ]
    }
   ],
   "source": [
    "var=[\"Apple\", \"Banana\", \"Orange\", \"Apple\"] #homogeneous list\n",
    "print(var)\n",
    "print(type(var))\n",
    "\n",
    "efg=[10, 20.5, 30+4j, \"Hello\", True] #heterogeneous list\n",
    "print(efg)\n",
    "print(type(efg))\n",
    "\n",
    "coordinates=[[0,0], [10,3.7], [100,50]] #A list can contains other lists\n",
    "print(coordinates)\n",
    "print(type(coordinates))"
   ]
  },
  {
   "cell_type": "markdown",
   "id": "6989d963",
   "metadata": {},
   "source": [
    "<font color=Orange>List is <b>mutable</b> which means we can add the elements or delete the elements or modify the elements</font>"
   ]
  },
  {
   "cell_type": "markdown",
   "id": "f0f542b7",
   "metadata": {},
   "source": [
    "## 3.1. Accessing elements in a list\n",
    "\n",
    "- Time Complexity: O(1)\n",
    "- Space Complexity: O(1)"
   ]
  },
  {
   "cell_type": "code",
   "execution_count": 8,
   "id": "457db665",
   "metadata": {},
   "outputs": [
    {
     "name": "stdout",
     "output_type": "stream",
     "text": [
      "20.5\n",
      "True\n",
      "For\n",
      "Geeks\n"
     ]
    }
   ],
   "source": [
    "lst1=[10, 20.5, 30+4j, \"Hello\", True]\n",
    "print(lst1[1])\n",
    "print(lst1[-1])\n",
    "\n",
    "lst2=[['Geeks', 'For'], ['Geeks']]\n",
    "print(lst2[0][1])\n",
    "print(lst2[1][0])"
   ]
  },
  {
   "cell_type": "markdown",
   "id": "e91e56b4",
   "metadata": {},
   "source": [
    "## 3.2. List Slicing"
   ]
  },
  {
   "cell_type": "code",
   "execution_count": 9,
   "id": "9f88903d",
   "metadata": {},
   "outputs": [
    {
     "name": "stdout",
     "output_type": "stream",
     "text": [
      "[10, 20.5, (30+4j), 'Hello', True]\n",
      "[10, 20.5, (30+4j)]\n",
      "[20.5, (30+4j), 'Hello', True]\n",
      "[20.5, (30+4j), 'Hello']\n"
     ]
    }
   ],
   "source": [
    "lst1=[10, 20.5, 30+4j, \"Hello\", True]\n",
    "print(lst1[:]) #all members\n",
    "print(lst1[:3]) #index 0 to 3(excluded)\n",
    "print(lst1[1:]) #index 1 to till end\n",
    "print(lst1[1:-1]) #index 1 to index -1(excluded)"
   ]
  },
  {
   "cell_type": "markdown",
   "id": "7e1ece29",
   "metadata": {},
   "source": [
    "## 3.3. Updating elements in a List"
   ]
  },
  {
   "cell_type": "code",
   "execution_count": 3,
   "id": "78d701df",
   "metadata": {},
   "outputs": [
    {
     "name": "stdout",
     "output_type": "stream",
     "text": [
      "[10, 20.5, (30+4j), 'Hello', 'False']\n",
      "\n",
      "[2.0, 20.5, (30+4j), 'Hello', 'False']\n"
     ]
    }
   ],
   "source": [
    "lst1=[10, 20.5, 30+4j, \"Hello\", True]\n",
    "lst1[-1]=\"False\"\n",
    "print(lst1)\n",
    "\n",
    "print()\n",
    "\n",
    "lst1[0]=lst1[0]/5\n",
    "print(lst1)"
   ]
  },
  {
   "cell_type": "markdown",
   "id": "00c660f6",
   "metadata": {},
   "source": [
    "## 3.4. Adding elements to the list \n",
    "\n",
    "- The <b>append()</b> method appends an element to the <b>end</b> of a list\n",
    "    - Time Complexity: O(1)\n",
    "    - Space Complexity: O(1)\n",
    "    \n",
    " \n",
    "- The <b>insert()</b> method adds a new element at <b>any position</b> in the list.\n",
    "    - Time Complexity: O(n)\n",
    "    - Space Complexity: O(1)\n",
    "    \n",
    "    \n",
    "- The <b>extend()</b> method appends <b>multiple</b> elemens to the <b>end</b> of the list\n",
    "    - Time Complexity: O(n)\n",
    "    - Space Complexity: O(1)"
   ]
  },
  {
   "cell_type": "code",
   "execution_count": 9,
   "id": "0ee5bc43",
   "metadata": {},
   "outputs": [
    {
     "name": "stdout",
     "output_type": "stream",
     "text": [
      "[10, 20.5, (30+4j), 'Hello', True]\n",
      "[10, 20.5, (30+4j), 'Hello', True, 7890]\n",
      "[10, 20.5, (30+4j), 'Hello', True, 7890, 'World']\n",
      "[10, 20.5, (30+4j), 'Hello', True, 7890, 'World', 1, 2, 3]\n"
     ]
    }
   ],
   "source": [
    "# By using append() method\n",
    "\n",
    "lst1=[10, 20.5, 30+4j, \"Hello\", True]\n",
    "print(lst1)\n",
    "\n",
    "lst1.append(7890) #append()\n",
    "print(lst1)\n",
    "\n",
    "lst1.append(\"World\")\n",
    "print(lst1)\n",
    "\n",
    "for i in range(1, 4): # 1, 2, 3\n",
    "    lst1.append(i)\n",
    "print(lst1)"
   ]
  },
  {
   "cell_type": "code",
   "execution_count": 31,
   "id": "65fee52d",
   "metadata": {},
   "outputs": [
    {
     "name": "stdout",
     "output_type": "stream",
     "text": [
      "[10, 20.5, (30+4j), 'Hello', True]\n",
      "[10, 20.5, 100, (30+4j), 'Hello', True]\n",
      "[10, 20.5, 100, (30+4j), 'Hello', 'World', True]\n"
     ]
    }
   ],
   "source": [
    "# By using insert() method\n",
    "\n",
    "lst1=[10, 20.5, 30+4j, \"Hello\", True]\n",
    "print(lst1)\n",
    "\n",
    "lst1.insert(2,100) #insert(index, value) insert number 100 at index 0\n",
    "print(lst1)\n",
    "\n",
    "lst1.insert(-1, \"World\") #-1 working as -2 here\n",
    "print(lst1)"
   ]
  },
  {
   "cell_type": "code",
   "execution_count": 10,
   "id": "581ae172",
   "metadata": {},
   "outputs": [
    {
     "name": "stdout",
     "output_type": "stream",
     "text": [
      "[10, 20.5, (30+4j), 'Hello', True]\n",
      "[10, 20.5, (30+4j), 'Hello', True, 'Geeks', 8, 'Always', 22.45]\n"
     ]
    }
   ],
   "source": [
    "# By using extend() method\n",
    "\n",
    "lst1=[10, 20.5, 30+4j, \"Hello\", True]\n",
    "print(lst1)\n",
    "\n",
    "lst1.extend([\"Geeks\", 8, \"Always\", 22.45])\n",
    "print(lst1)"
   ]
  },
  {
   "cell_type": "markdown",
   "id": "6b7e13bc",
   "metadata": {},
   "source": [
    "## 3.5. Removing elements from a list\n",
    "\n",
    "- The <b>remove()</b> method takes the particular <b>element</b> to be removed as an argument.\n",
    "    - Time Complexity: O(n)\n",
    "    - Space Complexity: O(1)\n",
    "\n",
    "\n",
    "- The <b>pop()</b> and <b>del</b> take the <b>index</b> of the element to be removed as an argument.\n",
    "    - Time Complexity: O(1) for removing last element and O(n) for removing first & middle element\n",
    "    - Space Complexity: O(1)"
   ]
  },
  {
   "cell_type": "code",
   "execution_count": 11,
   "id": "49fd5684",
   "metadata": {},
   "outputs": [
    {
     "name": "stdout",
     "output_type": "stream",
     "text": [
      "[10, 20.5, (30+4j), 'Hello', True]\n",
      "[20.5, (30+4j), 'Hello', True]\n",
      "[20.5, (30+4j), True]\n"
     ]
    }
   ],
   "source": [
    "#to remove an element by value use remvoe() method\n",
    "\n",
    "lst1=[10, 20.5, 30+4j, \"Hello\", True]\n",
    "print(lst1)\n",
    "\n",
    "lst1.remove(10) #remove() to remove value 10\n",
    "print(lst1)\n",
    "\n",
    "lst1.remove(\"Hello\") #When the list has duplicate elements, the very first element that matches the given element will be removed from the list.\n",
    "print(lst1)"
   ]
  },
  {
   "cell_type": "code",
   "execution_count": 42,
   "id": "241e412a",
   "metadata": {},
   "outputs": [
    {
     "name": "stdout",
     "output_type": "stream",
     "text": [
      "[10, 20.5, (30+4j), 'Hello', True]\n",
      "[20.5, (30+4j), 'Hello', True]\n",
      "[20.5, (30+4j), 'Hello']\n"
     ]
    }
   ],
   "source": [
    "#del statement allows you to remove an element from a list by specifying the position of the element.\n",
    "\n",
    "lst1=[10, 20.5, 30+4j, \"Hello\", True]\n",
    "print(lst1)\n",
    "\n",
    "del lst1[0] #del to remove an element at index 0\n",
    "print(lst1)\n",
    "\n",
    "del lst1[-1] #del to remove an element at index -1 \n",
    "print(lst1) "
   ]
  },
  {
   "cell_type": "code",
   "execution_count": 2,
   "id": "732fd2f0",
   "metadata": {},
   "outputs": [
    {
     "name": "stdout",
     "output_type": "stream",
     "text": [
      "[10, 20.5, (30+4j), 'Hello', True]\n",
      "True\n",
      "[10, 20.5, (30+4j), 'Hello']\n",
      "Hello\n",
      "[10, 20.5, (30+4j)]\n",
      "10\n",
      "[20.5, (30+4j)]\n"
     ]
    }
   ],
   "source": [
    "#The pop() method removes the last element from a list and returns that element\n",
    "\n",
    "lst1=[10, 20.5, 30+4j, \"Hello\", True]\n",
    "print(lst1)\n",
    "\n",
    "last=lst1.pop() #pop() to remove last element, default -1\n",
    "print(last)\n",
    "print(lst1)\n",
    "\n",
    "last=lst1.pop(-1) #pop() to remove last element\n",
    "print(last)\n",
    "print(lst1)\n",
    "\n",
    "first=lst1.pop(0) #pop() to remove an element using index\n",
    "print(first)\n",
    "print(lst1)"
   ]
  },
  {
   "cell_type": "code",
   "execution_count": 35,
   "id": "0c196502",
   "metadata": {},
   "outputs": [
    {
     "name": "stdout",
     "output_type": "stream",
     "text": [
      "[]\n"
     ]
    }
   ],
   "source": [
    "lst1=[10, 20.5, 30+4j, \"Hello\", True]\n",
    "lst1.clear() #to remove all the elements\n",
    "print(lst1)"
   ]
  },
  {
   "cell_type": "markdown",
   "id": "62b3d955",
   "metadata": {},
   "source": [
    "## 3.6. len()"
   ]
  },
  {
   "cell_type": "code",
   "execution_count": 50,
   "id": "4c17bc21",
   "metadata": {},
   "outputs": [
    {
     "name": "stdout",
     "output_type": "stream",
     "text": [
      "5\n"
     ]
    }
   ],
   "source": [
    "lst1=[10, 20.5, 30+4j, \"Hello\", True]\n",
    "print(len(lst1)) #returns the length of the list"
   ]
  },
  {
   "cell_type": "markdown",
   "id": "0a4cc77c",
   "metadata": {},
   "source": [
    "## 3.7. max() "
   ]
  },
  {
   "cell_type": "code",
   "execution_count": 54,
   "id": "0e8edd19",
   "metadata": {},
   "outputs": [
    {
     "name": "stdout",
     "output_type": "stream",
     "text": [
      "373\n"
     ]
    }
   ],
   "source": [
    "lst2=[10, 373, 15, 20.5, True] #str and complex not working here\n",
    "print(max(lst2)) #returns the maximum value"
   ]
  },
  {
   "cell_type": "code",
   "execution_count": 1,
   "id": "d3f041f5",
   "metadata": {},
   "outputs": [
    {
     "name": "stdout",
     "output_type": "stream",
     "text": [
      "Orange\n"
     ]
    }
   ],
   "source": [
    "var=[\"Apple\", \"Banana\", \"Orange\", \"Apple\"] #str and int can't be used together in max()\n",
    "print(max(var))"
   ]
  },
  {
   "cell_type": "markdown",
   "id": "b8476b6c",
   "metadata": {},
   "source": [
    "## 3.8. min()"
   ]
  },
  {
   "cell_type": "code",
   "execution_count": 55,
   "id": "d48f4d66",
   "metadata": {},
   "outputs": [
    {
     "name": "stdout",
     "output_type": "stream",
     "text": [
      "True\n"
     ]
    }
   ],
   "source": [
    "lst2=[10, 373, 15, 20.5, True] #str and complex not working here\n",
    "print(min(lst2)) #returns the manimum value"
   ]
  },
  {
   "cell_type": "code",
   "execution_count": 2,
   "id": "7c8ce1ca",
   "metadata": {},
   "outputs": [
    {
     "name": "stdout",
     "output_type": "stream",
     "text": [
      "Apple\n"
     ]
    }
   ],
   "source": [
    "var=[\"Apple\", \"Banana\", \"Orange\", \"Apple\"] #str and int can't be used together in min()\n",
    "print(min(var))"
   ]
  },
  {
   "cell_type": "markdown",
   "id": "0c4c49e5",
   "metadata": {},
   "source": [
    "## 3.9. list(tuple)"
   ]
  },
  {
   "cell_type": "code",
   "execution_count": 58,
   "id": "f01bcb8e",
   "metadata": {},
   "outputs": [
    {
     "name": "stdout",
     "output_type": "stream",
     "text": [
      "['cat', 'dog', 'fish', 'cow']\n"
     ]
    }
   ],
   "source": [
    "animals=(\"cat\", \"dog\", \"fish\", \"cow\")\n",
    "print(list(animals)) #converts tuple into list"
   ]
  },
  {
   "cell_type": "markdown",
   "id": "66f3e480",
   "metadata": {},
   "source": [
    "## 3.10. reverse()"
   ]
  },
  {
   "cell_type": "code",
   "execution_count": 62,
   "id": "c21d0d13",
   "metadata": {},
   "outputs": [
    {
     "name": "stdout",
     "output_type": "stream",
     "text": [
      "[True, 'Hello', (30+4j), 20.5, 10]\n"
     ]
    }
   ],
   "source": [
    "lst1=[10, 20.5, 30+4j, \"Hello\", True]\n",
    "lst1.reverse() #reverses the elements of the list\n",
    "print(lst1)"
   ]
  },
  {
   "cell_type": "markdown",
   "id": "dbd672f7",
   "metadata": {},
   "source": [
    "## 3.11. index()"
   ]
  },
  {
   "cell_type": "code",
   "execution_count": 2,
   "id": "57db8e6b",
   "metadata": {},
   "outputs": [
    {
     "name": "stdout",
     "output_type": "stream",
     "text": [
      "2\n",
      "3\n"
     ]
    }
   ],
   "source": [
    "lst1=[10, 20.5, 30+4j, \"Hello\", True]\n",
    "getIndex=lst1.index(30+4j) #to get index value of an element, index(element, start, end)\n",
    "print(getIndex) \n",
    "\n",
    "print(lst1.index(\"Hello\", 1,)) #index(element,start)"
   ]
  },
  {
   "cell_type": "markdown",
   "id": "5d558461",
   "metadata": {},
   "source": [
    "## 3.12. sum()"
   ]
  },
  {
   "cell_type": "code",
   "execution_count": 67,
   "id": "6fc60bd0",
   "metadata": {},
   "outputs": [
    {
     "name": "stdout",
     "output_type": "stream",
     "text": [
      "419.5\n"
     ]
    },
    {
     "ename": "TypeError",
     "evalue": "unsupported operand type(s) for +: 'complex' and 'str'",
     "output_type": "error",
     "traceback": [
      "\u001b[1;31m---------------------------------------------------------------------------\u001b[0m",
      "\u001b[1;31mTypeError\u001b[0m                                 Traceback (most recent call last)",
      "\u001b[1;32m<ipython-input-67-dafde0c9e09d>\u001b[0m in \u001b[0;36m<module>\u001b[1;34m\u001b[0m\n\u001b[0;32m      3\u001b[0m \u001b[1;33m\u001b[0m\u001b[0m\n\u001b[0;32m      4\u001b[0m \u001b[0mlst1\u001b[0m\u001b[1;33m=\u001b[0m\u001b[1;33m[\u001b[0m\u001b[1;36m10\u001b[0m\u001b[1;33m,\u001b[0m \u001b[1;36m20.5\u001b[0m\u001b[1;33m,\u001b[0m \u001b[1;36m30\u001b[0m\u001b[1;33m+\u001b[0m\u001b[1;36m4j\u001b[0m\u001b[1;33m,\u001b[0m \u001b[1;34m\"Hello\"\u001b[0m\u001b[1;33m,\u001b[0m \u001b[1;32mTrue\u001b[0m\u001b[1;33m]\u001b[0m\u001b[1;33m\u001b[0m\u001b[1;33m\u001b[0m\u001b[0m\n\u001b[1;32m----> 5\u001b[1;33m \u001b[0mprint\u001b[0m\u001b[1;33m(\u001b[0m\u001b[0msum\u001b[0m\u001b[1;33m(\u001b[0m\u001b[0mlst1\u001b[0m\u001b[1;33m)\u001b[0m\u001b[1;33m)\u001b[0m\u001b[1;33m\u001b[0m\u001b[1;33m\u001b[0m\u001b[0m\n\u001b[0m",
      "\u001b[1;31mTypeError\u001b[0m: unsupported operand type(s) for +: 'complex' and 'str'"
     ]
    }
   ],
   "source": [
    "lst2=[10, 373, 15, 20.5, True] #sum() only works for integers or decimals\n",
    "print(sum(lst2)) #to get the sum of all the values in the list, if the values are all numbers\n",
    "\n",
    "lst1=[10, 20.5, 30+4j, \"Hello\", True]\n",
    "print(sum(lst1)) #any element that is not a number, such as a string, the sum method would not work."
   ]
  },
  {
   "cell_type": "markdown",
   "id": "df32fab5",
   "metadata": {},
   "source": [
    "## 3.13. sort() "
   ]
  },
  {
   "cell_type": "code",
   "execution_count": 73,
   "id": "ddb3532c",
   "metadata": {},
   "outputs": [
    {
     "name": "stdout",
     "output_type": "stream",
     "text": [
      "[True, 10, 15, 20.5, 373]\n"
     ]
    }
   ],
   "source": [
    "lst2=[10, 373, 20.5, 15, True] \n",
    "lst2.sort() #to arrange a list of integers, floating point numbers, or strings, in ascending or descending order\n",
    "print(lst2)"
   ]
  },
  {
   "cell_type": "code",
   "execution_count": 3,
   "id": "71c4814f",
   "metadata": {},
   "outputs": [
    {
     "name": "stdout",
     "output_type": "stream",
     "text": [
      "[373, 20.5, 15, 10, True]\n"
     ]
    }
   ],
   "source": [
    "lst2=[10, 373, 20.5, 15, True] \n",
    "lst2.sort(reverse=True) #to sort in descending order\n",
    "print(lst2)"
   ]
  },
  {
   "cell_type": "code",
   "execution_count": 5,
   "id": "7174023e",
   "metadata": {},
   "outputs": [
    {
     "name": "stdout",
     "output_type": "stream",
     "text": [
      "['Elephant', 'Tiger', 'cat', 'dog', 'fish']\n",
      "['cat', 'dog', 'fish', 'Tiger', 'Elephant']\n"
     ]
    }
   ],
   "source": [
    "animals=[\"cat\", \"Elephant\" , \"fish\", \"Tiger\", \"dog\"]\n",
    "animals.sort() #sort by alphabet\n",
    "print(animals)\n",
    "\n",
    "animals.sort(key=len) #sort by length\n",
    "print(animals)"
   ]
  },
  {
   "cell_type": "markdown",
   "id": "3b44f828",
   "metadata": {},
   "source": [
    "## 3.14. Looping through list"
   ]
  },
  {
   "cell_type": "code",
   "execution_count": 6,
   "id": "60e92fe3",
   "metadata": {},
   "outputs": [
    {
     "name": "stdout",
     "output_type": "stream",
     "text": [
      "10\n",
      "20.5\n",
      "(30+4j)\n",
      "Hello\n",
      "True\n"
     ]
    }
   ],
   "source": [
    "lst1=[10, 20.5, 30+4j, \"Hello\", True]\n",
    "for elem in lst1:\n",
    "    print(elem)"
   ]
  },
  {
   "cell_type": "code",
   "execution_count": 13,
   "id": "59a08c6a",
   "metadata": {},
   "outputs": [
    {
     "name": "stdout",
     "output_type": "stream",
     "text": [
      "['Hello', True]\n"
     ]
    }
   ],
   "source": [
    "lst1=[10, 20.5, 30+4j, \"Hello\", True]\n",
    "for elem in lst1[:3]: #loop through the first three elements of the list, and delete all of them\n",
    "    lst1.remove(elem)\n",
    "    \n",
    "print(lst1)"
   ]
  },
  {
   "cell_type": "code",
   "execution_count": 29,
   "id": "a59e642a",
   "metadata": {},
   "outputs": [
    {
     "name": "stdout",
     "output_type": "stream",
     "text": [
      "New list: [(30+4j), 'Hello', True]\n"
     ]
    }
   ],
   "source": [
    "lst1=[10, 20.5, 30+4j, \"Hello\", True]\n",
    "new_lst=[] #empty list\n",
    "for elem in lst1[2:]: #loop through index 2 to last element and append them to new list\n",
    "    new_lst.append(elem)\n",
    "    \n",
    "print(\"New list: {}\".format(new_lst))"
   ]
  },
  {
   "cell_type": "markdown",
   "id": "99bbfd7a",
   "metadata": {},
   "source": [
    "## 3.15. List Comprehension"
   ]
  },
  {
   "cell_type": "code",
   "execution_count": 33,
   "id": "51a81d9e",
   "metadata": {},
   "outputs": [
    {
     "name": "stdout",
     "output_type": "stream",
     "text": [
      "[1, 4, 9, 16, 25, 36, 49, 64, 81]\n"
     ]
    }
   ],
   "source": [
    "#without list comprehension\n",
    "list_of_squares=[]\n",
    "for intg in range(1,10): #1,2,3,4,5,6,7,8,9\n",
    "    square=intg**2\n",
    "    list_of_squares.append(square)\n",
    "    \n",
    "print(list_of_squares)"
   ]
  },
  {
   "cell_type": "code",
   "execution_count": 34,
   "id": "221d048e",
   "metadata": {},
   "outputs": [
    {
     "name": "stdout",
     "output_type": "stream",
     "text": [
      "[1, 4, 9, 16, 25, 36, 49, 64, 81]\n"
     ]
    }
   ],
   "source": [
    "#with list comprehension\n",
    "lst_squares=[intg**2 for intg in range(1,10)]\n",
    "print(lst_squares)"
   ]
  },
  {
   "cell_type": "markdown",
   "id": "4c5fa730",
   "metadata": {},
   "source": [
    "## 3.16. Copy a List"
   ]
  },
  {
   "cell_type": "code",
   "execution_count": 36,
   "id": "cd390523",
   "metadata": {},
   "outputs": [
    {
     "name": "stdout",
     "output_type": "stream",
     "text": [
      "['banana', 'cherry', 'apple', 'Mango']\n",
      "['banana', 'cherry', 'apple', 'Mango']\n"
     ]
    }
   ],
   "source": [
    "list_org = [\"banana\", \"cherry\", \"apple\"]\n",
    "list_copy=list_org #this just copies the reference to the list, so be careful\n",
    "\n",
    "list_copy.append(\"Mango\") #now modifying the copy also affects the original\n",
    "print(list_copy)\n",
    "print(list_org)"
   ]
  },
  {
   "cell_type": "code",
   "execution_count": 37,
   "id": "fbe681c4",
   "metadata": {},
   "outputs": [
    {
     "name": "stdout",
     "output_type": "stream",
     "text": [
      "['banana', 'cherry', 'apple', 'Mango']\n",
      "['banana', 'cherry', 'apple']\n"
     ]
    }
   ],
   "source": [
    "indelist_org = [\"banana\", \"cherry\", \"apple\"]\n",
    "list_copy=list_org.copy() #now modifying the copy does not affect the original\n",
    "\n",
    "list_copy.append(\"Mango\")\n",
    "print(list_copy)\n",
    "print(list_org)"
   ]
  },
  {
   "cell_type": "markdown",
   "id": "c3985912",
   "metadata": {},
   "source": [
    "## 3.17. Nested List"
   ]
  },
  {
   "cell_type": "code",
   "execution_count": 42,
   "id": "214f174b",
   "metadata": {},
   "outputs": [
    {
     "name": "stdout",
     "output_type": "stream",
     "text": [
      "[3, 4]\n"
     ]
    }
   ],
   "source": [
    "abc=[[1,2], [3,4], [10, 20.5]]\n",
    "print(abc[1])"
   ]
  },
  {
   "cell_type": "markdown",
   "id": "9d74f150",
   "metadata": {},
   "source": [
    "## 3.18. List Average\n",
    "\n",
    "- By using the <b>loop</b>\n",
    "- By using <b>sum()</b> and <b>len()</b> built-in average function\n",
    "- By using <b>mean()</b> from the <b>statistics</b> module\n",
    "- By using <b>mean()</b> from <b>numpy</b> library"
   ]
  },
  {
   "cell_type": "code",
   "execution_count": 5,
   "id": "4fc2dc0f",
   "metadata": {},
   "outputs": [
    {
     "name": "stdout",
     "output_type": "stream",
     "text": [
      "The average is : 28.666666666666668\n"
     ]
    }
   ],
   "source": [
    "#By using the loop\n",
    "\n",
    "def cal_avg(num):\n",
    "    sum=0\n",
    "    for t in num:\n",
    "        sum=sum+t\n",
    "        \n",
    "    avg=sum/len(num)\n",
    "    return avg\n",
    "\n",
    "print(\"The average is :\", cal_avg([18,25,3,41,5,80]))"
   ]
  },
  {
   "cell_type": "code",
   "execution_count": 7,
   "id": "f9a8f14c",
   "metadata": {},
   "outputs": [
    {
     "name": "stdout",
     "output_type": "stream",
     "text": [
      "The average is : 28.666666666666668\n",
      "The average is : 28.67\n"
     ]
    }
   ],
   "source": [
    "#using sum() and len() built-in functions\n",
    "\n",
    "num_lst=[18,25,3,41,5,80]\n",
    "avg=sum(num_lst)/len(num_lst)\n",
    "print(\"The average is :\",avg)\n",
    "print(\"The average is :\",round(avg,2)) #round() "
   ]
  },
  {
   "cell_type": "code",
   "execution_count": 9,
   "id": "a6015a94",
   "metadata": {},
   "outputs": [
    {
     "name": "stdout",
     "output_type": "stream",
     "text": [
      "The average is : 28.67\n"
     ]
    }
   ],
   "source": [
    "#Using mean() from statistics module\n",
    "\n",
    "from statistics import mean\n",
    "\n",
    "num_lst=[18,25,3,41,5,80]\n",
    "avg=mean(num_lst)\n",
    "print(\"The average is :\",round(avg,2))"
   ]
  },
  {
   "cell_type": "code",
   "execution_count": 11,
   "id": "ba823796",
   "metadata": {},
   "outputs": [
    {
     "name": "stdout",
     "output_type": "stream",
     "text": [
      "The average is : 28.67\n"
     ]
    }
   ],
   "source": [
    "#using mean() from numpy library\n",
    "\n",
    "from numpy import mean\n",
    "\n",
    "num_lst=[18,25,3,41,5,80]\n",
    "avg=mean(num_lst)\n",
    "print(\"The average is :\",round(avg,2))"
   ]
  },
  {
   "cell_type": "markdown",
   "id": "a876ca2b",
   "metadata": {},
   "source": [
    "## 3.19. count()\n",
    "\n",
    "- The count() function is used to <b>count elements</b> on a list as well as a string.\n",
    "- It return an <b>integer</b> value, i.e., the count of the given element from the given list.\n",
    "- It returns a <b>0</b> if the value is <b>not found</b> in the given list."
   ]
  },
  {
   "cell_type": "code",
   "execution_count": 13,
   "id": "679092aa",
   "metadata": {},
   "outputs": [
    {
     "name": "stdout",
     "output_type": "stream",
     "text": [
      "The count of color: green is 3\n"
     ]
    }
   ],
   "source": [
    "lst1 = ['red', 'green', 'blue', 'orange', 'green', 'gray', 'green']\n",
    "color_count = lst1.count('green')\n",
    "print('The count of color: green is {}'.format(color_count))"
   ]
  },
  {
   "cell_type": "markdown",
   "id": "8b977809",
   "metadata": {},
   "source": [
    "## 3.20. Remove duplicates from a List\n",
    "\n",
    "- By using <b>Set</b>\n",
    "- By using the <b>Temporary List</b>\n",
    "- By using <b>Dict</b>\n",
    "- By using <b>for-loop</b>\n",
    "- By using <b>list comprehension</b>\n",
    "- By using Numpy <b>unique()</b> method\n",
    "- By using <b>Pandas</b> methods\n",
    "- By using <b>enumerate()</b>"
   ]
  },
  {
   "cell_type": "code",
   "execution_count": 1,
   "id": "7b06426b",
   "metadata": {},
   "outputs": [
    {
     "name": "stdout",
     "output_type": "stream",
     "text": [
      "[1, 2, 3, 4, 5, 6]\n"
     ]
    }
   ],
   "source": [
    "#Remove duplicates using Set\n",
    "\n",
    "lst=[1,1,2,3,2,2,4,5,6,2,1]\n",
    "new_lst=set(lst)\n",
    "print(list(new_lst))"
   ]
  },
  {
   "cell_type": "code",
   "execution_count": 4,
   "id": "c4a65cf3",
   "metadata": {},
   "outputs": [
    {
     "name": "stdout",
     "output_type": "stream",
     "text": [
      "[1, 2, 3, 4, 5, 6]\n"
     ]
    }
   ],
   "source": [
    "#Remove duplicates using the temporary list\n",
    "\n",
    "lst=[1,1,2,3,2,2,4,5,6,2,1]\n",
    "temp_lst=[]\n",
    "for i in lst:\n",
    "    if i not in temp_lst:\n",
    "        temp_lst.append(i)\n",
    "        \n",
    "print(temp_lst)"
   ]
  },
  {
   "cell_type": "code",
   "execution_count": 6,
   "id": "261f2f40",
   "metadata": {},
   "outputs": [
    {
     "name": "stdout",
     "output_type": "stream",
     "text": [
      "[1, 2, 3, 4, 5, 6]\n",
      "[1, 2, 3, 4, 5, 6]\n"
     ]
    }
   ],
   "source": [
    "#Remove duplicates using Dict\n",
    "\n",
    "from collections import OrderedDict #OrderedDict python2.7\n",
    "\n",
    "lst=[1,1,2,3,2,2,4,5,6,2,1]\n",
    "final_lst=OrderedDict.fromkeys(lst)\n",
    "print(list(final_lst))\n",
    "\n",
    "\n",
    "lst=[1,1,2,3,2,2,4,5,6,2,1]\n",
    "final_lst=dict.fromkeys(lst) #regular dict() python3+\n",
    "print(list(final_lst))"
   ]
  },
  {
   "cell_type": "code",
   "execution_count": 10,
   "id": "2ee8f4f5",
   "metadata": {},
   "outputs": [
    {
     "name": "stdout",
     "output_type": "stream",
     "text": [
      "[1, 2, 3, 4, 5, 6]\n"
     ]
    }
   ],
   "source": [
    "#Remove duplicates using for loop\n",
    "\n",
    "lst=[1,1,2,3,2,2,4,5,6,2,1]\n",
    "final_lst=[]\n",
    "for i in lst:\n",
    "    if i not in final_lst:\n",
    "        final_lst.append(i)\n",
    "        \n",
    "print(final_lst)"
   ]
  },
  {
   "cell_type": "code",
   "execution_count": 11,
   "id": "77f04fea",
   "metadata": {},
   "outputs": [
    {
     "name": "stdout",
     "output_type": "stream",
     "text": [
      "[1, 2, 3, 4, 5, 6]\n"
     ]
    }
   ],
   "source": [
    "#Remove duplicates using list comprehension\n",
    "\n",
    "lst=[1,1,2,3,2,2,4,5,6,2,1]\n",
    "final_lst=[]\n",
    "[final_lst.append(i) for i in lst if i not in final_lst]\n",
    "print(final_lst)"
   ]
  },
  {
   "cell_type": "code",
   "execution_count": 19,
   "id": "7800be49",
   "metadata": {},
   "outputs": [
    {
     "name": "stdout",
     "output_type": "stream",
     "text": [
      "[1, 2, 3, 4, 5, 6]\n"
     ]
    }
   ],
   "source": [
    "#Remove duplicates using Numpy unique() method\n",
    "\n",
    "import numpy as np\n",
    "\n",
    "lst=[1,1,2,3,2,2,4,5,6,2,1]\n",
    "final_lst=np.unique(lst).tolist() #to convert back output as list\n",
    "print(final_lst)"
   ]
  },
  {
   "cell_type": "code",
   "execution_count": 20,
   "id": "2ecf7b1e",
   "metadata": {},
   "outputs": [
    {
     "name": "stdout",
     "output_type": "stream",
     "text": [
      "[1, 2, 3, 4, 5, 6]\n"
     ]
    }
   ],
   "source": [
    "#Remove duplicates using Pandas method\n",
    "\n",
    "import pandas as pd\n",
    "\n",
    "lst=[1,1,2,3,2,2,4,5,6,2,1]\n",
    "final_lst=pd.unique(lst).tolist()\n",
    "print(final_lst)"
   ]
  },
  {
   "cell_type": "code",
   "execution_count": 1,
   "id": "e0ddedee",
   "metadata": {},
   "outputs": [
    {
     "name": "stdout",
     "output_type": "stream",
     "text": [
      "[1, 2, 3, 4, 5, 6]\n"
     ]
    }
   ],
   "source": [
    "#Remove duplicates using enumerate()\n",
    "#Enumerate returns an object with a counter to each element in the list.\n",
    "#For example (0,1), (1,2) etc. Here the first value is the index, and the second value is the list item.\n",
    "\n",
    "lst=[1,1,2,3,2,2,4,5,6,2,1]\n",
    "final_lst=[i for j, i in enumerate(lst) if i not in lst[:j]] #Each element is checked if it exists in the list, and if it does, it is removed from the list.\n",
    "print(final_lst)"
   ]
  },
  {
   "cell_type": "code",
   "execution_count": null,
   "id": "be351e34",
   "metadata": {},
   "outputs": [],
   "source": []
  }
 ],
 "metadata": {
  "kernelspec": {
   "display_name": "Python 3",
   "language": "python",
   "name": "python3"
  },
  "language_info": {
   "codemirror_mode": {
    "name": "ipython",
    "version": 3
   },
   "file_extension": ".py",
   "mimetype": "text/x-python",
   "name": "python",
   "nbconvert_exporter": "python",
   "pygments_lexer": "ipython3",
   "version": "3.8.8"
  }
 },
 "nbformat": 4,
 "nbformat_minor": 5
}
