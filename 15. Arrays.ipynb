{
 "cells": [
  {
   "cell_type": "markdown",
   "id": "364e4eed",
   "metadata": {},
   "source": [
    "# <font color=Blue>Array</font>"
   ]
  },
  {
   "cell_type": "markdown",
   "id": "00bc9028",
   "metadata": {},
   "source": [
    "An array is a <b>collection</b> of items stored at <b>contiguous memory</b> locations. The idea is to store <b>multiple items</b> of the <b>same type</b> together.\n",
    "- Array can be handled in Python by a <b>module named array</b>."
   ]
  },
  {
   "cell_type": "markdown",
   "id": "7c61f8e8",
   "metadata": {},
   "source": [
    "## Creating a Array\n",
    "\n",
    "- Array in Python can be created by importing <b>array</b> module.\n",
    "- Syntax: <b>array(typecode, value_list)</b>\n",
    "- Time Complexity: O(1)\n",
    "- Auxiliary Space: O(n)"
   ]
  },
  {
   "cell_type": "code",
   "execution_count": 11,
   "id": "c11dda71",
   "metadata": {},
   "outputs": [
    {
     "name": "stdout",
     "output_type": "stream",
     "text": [
      "Print an array: array('i', [1, 2, 3, 4])\n",
      "Print original array elements: 1 2 3 4 "
     ]
    }
   ],
   "source": [
    "#importing \"array\" module\n",
    "import array as arr\n",
    "\n",
    "#creating an array with integer type\n",
    "a = arr.array(\"i\", [1, 2, 3, 4])\n",
    "\n",
    "print(\"Print an array:\",a)\n",
    "\n",
    "#printing original array\n",
    "print(\"Print original array elements: \", end=\"\")\n",
    "for i in range(len(a)):\n",
    "    print(a[i], end=\" \")"
   ]
  },
  {
   "cell_type": "markdown",
   "id": "74d848a9",
   "metadata": {},
   "source": [
    "<font color=Red>Some of the data types are mentioned below which will help in creating an array of different data types</font>. "
   ]
  },
  {
   "cell_type": "markdown",
   "id": "10db5586",
   "metadata": {},
   "source": [
    "<img src=\"https://media.geeksforgeeks.org/wp-content/uploads/CommonArticleDesign2-min.png\" />"
   ]
  },
  {
   "cell_type": "markdown",
   "id": "948ce932",
   "metadata": {},
   "source": [
    "## Accessing Array elements\n",
    "\n",
    "- Time Complexity: O(1)\n",
    "- Space Complexity: O(1)"
   ]
  },
  {
   "cell_type": "code",
   "execution_count": 3,
   "id": "665e09c5",
   "metadata": {},
   "outputs": [
    {
     "name": "stdout",
     "output_type": "stream",
     "text": [
      "First element: 1\n",
      "Second element: 2\n",
      "Last element: 5\n"
     ]
    }
   ],
   "source": [
    "import array as arr\n",
    "\n",
    "a = arr.array(\"i\", [1, 2, 3, 4, 5])\n",
    "\n",
    "#accessing array elements\n",
    "print(\"First element:\", a[0])\n",
    "print(\"Second element:\", a[1])\n",
    "print(\"Last element:\", a[-1])"
   ]
  },
  {
   "cell_type": "markdown",
   "id": "7cb63828",
   "metadata": {},
   "source": [
    "# Basic Array Operations:"
   ]
  },
  {
   "cell_type": "markdown",
   "id": "e2954601",
   "metadata": {},
   "source": [
    "## 1. Adding Elements to a Array\n",
    "\n",
    "- Elements can be added to the Array by using built-in <b>insert()</b> function.\n",
    "- Insert is used to insert <b>one or more</b> data elements into an array.\n",
    "- Based on the requirement, a new element can be added at the <b>beginning, end, or any given index</b> of array.\n",
    "- <b>append()</b> is also used to add a <b>single</b> value at the <b>end</b> of the array.\n",
    "- <b>extend()</b> is also used to add <b>more than one</b> value at the <b>end</b> of the array. "
   ]
  },
  {
   "cell_type": "code",
   "execution_count": 24,
   "id": "eeb410ee",
   "metadata": {},
   "outputs": [
    {
     "name": "stdout",
     "output_type": "stream",
     "text": [
      "array('i', [1, 2, 6, 3, 4, 5])\n",
      "array('i', [1, 2, 6, 3, 4, 5, 7])\n",
      "array('i', [1, 2, 6, 3, 4, 5, 7, 8, 9, 10])\n"
     ]
    }
   ],
   "source": [
    "import array as arr\n",
    "\n",
    "a = arr.array(\"i\", [1, 2, 3, 4, 5])\n",
    "\n",
    "#inserting elements\n",
    "\n",
    "#using insert() method\n",
    "#Syntax: insert(index, value)\n",
    "a.insert(2, 6)\n",
    "print(a)\n",
    "\n",
    "#using append() method\n",
    "#Syntax: append(value)\n",
    "a.append(7)\n",
    "print(a)\n",
    "\n",
    "#using extend() method\n",
    "#Syntax: extend(values)\n",
    "a.extend([8, 9, 10])\n",
    "print(a)"
   ]
  },
  {
   "cell_type": "markdown",
   "id": "b8c497a2",
   "metadata": {},
   "source": [
    "## 2. Removing Elements from the Array\n",
    "\n",
    "- Elements can be removed from the array by using built-in <b>remove()</b> function. \n",
    "- remove() throws an <b>Error</b> if element <b>doesn’t exist</b>.\n",
    "- remove() method only removes <b>one element at a time</b>.\n",
    "- <b>pop()</b> function can also be used to <b>remove and returni</b> an element from the array.\n",
    "- pop() by default it removes only the <b>last element</b> of the array.\n",
    "- In pop() to remove element from a <b>specific position</b> of the array, <b>index</b> of the element is passed as an <b>argument</b>."
   ]
  },
  {
   "cell_type": "code",
   "execution_count": 11,
   "id": "570e4621",
   "metadata": {},
   "outputs": [
    {
     "name": "stdout",
     "output_type": "stream",
     "text": [
      "array('i', [2, 3, 4, 5, 1, 2])\n",
      "array('i', [2, 3, 4, 1, 2])\n",
      "array('i', [2, 3, 4, 1])\n",
      "1\n",
      "array('i', [2, 3, 4])\n",
      "3\n",
      "array('i', [2, 4])\n"
     ]
    }
   ],
   "source": [
    "import array as arr\n",
    "\n",
    "a = arr.array(\"i\", [1, 2, 3, 4, 5, 1, 2])\n",
    "\n",
    "#using remove()\n",
    "a.remove(1)\n",
    "print(a)\n",
    "\n",
    "a.remove(5)\n",
    "print(a)\n",
    "\n",
    "#using pop()\n",
    "a.pop()\n",
    "print(a)\n",
    "\n",
    "print(a.pop())\n",
    "print(a)\n",
    "\n",
    "print(a.pop(1)) #index\n",
    "print(a)"
   ]
  },
  {
   "cell_type": "markdown",
   "id": "1e69492a",
   "metadata": {},
   "source": [
    "## 3. Slicing of a Array"
   ]
  },
  {
   "cell_type": "code",
   "execution_count": 16,
   "id": "659df146",
   "metadata": {},
   "outputs": [
    {
     "name": "stdout",
     "output_type": "stream",
     "text": [
      "array('i', [1, 2, 3, 4, 5, 6, 7, 8, 9, 10])\n",
      "array('i', [4, 5, 6, 7, 8])\n",
      "array('i', [2, 3, 4, 5, 6, 7, 8, 9, 10])\n",
      "array('i', [1, 2, 3, 4, 5, 6, 7, 8, 9])\n",
      "array('i', [10, 9, 8, 7, 6, 5, 4, 3, 2, 1])\n"
     ]
    }
   ],
   "source": [
    "import array as arr\n",
    "\n",
    "num = [1, 2, 3, 4, 5, 6, 7, 8, 9, 10] \n",
    "a = arr.array(\"i\", num)\n",
    "print(a)\n",
    "\n",
    "print(a[3:8])\n",
    "print(a[1:])\n",
    "print(a[:-1])\n",
    "print(a[::-1])"
   ]
  },
  {
   "cell_type": "markdown",
   "id": "be7574d8",
   "metadata": {},
   "source": [
    "## 4. Looping through an Array"
   ]
  },
  {
   "cell_type": "code",
   "execution_count": 23,
   "id": "1b07177d",
   "metadata": {},
   "outputs": [
    {
     "name": "stdout",
     "output_type": "stream",
     "text": [
      "array('i', [1, 2, 3, 4, 5, 6, 7, 8, 9, 10])\n",
      "1\n",
      "2\n",
      "3\n",
      "4\n",
      "5\n",
      "6\n",
      "7\n",
      "8\n",
      "9\n",
      "10\n",
      "1 2 3 4 5 6 7 8 9 10 1\n",
      "2\n",
      "3\n",
      "4\n",
      "5\n",
      "6\n",
      "7\n",
      "8\n",
      "9\n",
      "10\n",
      "3 4 5 6 "
     ]
    }
   ],
   "source": [
    "import array as arr\n",
    "\n",
    "num = [1, 2, 3, 4, 5, 6, 7, 8, 9, 10] \n",
    "a = arr.array(\"i\", num)\n",
    "print(a)\n",
    "\n",
    "#looping\n",
    "for i in a:\n",
    "    print(i)\n",
    "    \n",
    "\n",
    "for i in a:\n",
    "    print(i, end=\" \")\n",
    "    \n",
    "    \n",
    "for i in range(len(a)):\n",
    "    print(a[i])\n",
    "    \n",
    "    \n",
    "for i in a[2:6]:\n",
    "    print(i, end=\" \")"
   ]
  },
  {
   "cell_type": "markdown",
   "id": "7279cc5a",
   "metadata": {},
   "source": [
    "## 5. Array Concatenation"
   ]
  },
  {
   "cell_type": "code",
   "execution_count": 32,
   "id": "348762b1",
   "metadata": {},
   "outputs": [
    {
     "name": "stdout",
     "output_type": "stream",
     "text": [
      "array('i', [1, 3, 5, 7, 9, 2, 4, 6, 8, 10])\n",
      "array('i', [11, 33, 55, 77, 99, 22, 44, 66, 88, 100])\n"
     ]
    }
   ],
   "source": [
    "import array as arr\n",
    "\n",
    "odd = arr.array(\"i\", [1,3,5, 7, 9]) \n",
    "even = arr.array(\"i\", [2, 4, 6, 8,10])\n",
    "num = odd + even\n",
    "print(num)\n",
    "\n",
    "\n",
    "odd = arr.array(\"i\", [11 ,33, 55, 77, 99]) \n",
    "even = arr.array(\"i\", [22, 44, 66, 88, 100])\n",
    "num = arr.array(\"i\") #creating an empty array of integer type\n",
    "num = odd + even\n",
    "print(num)"
   ]
  },
  {
   "cell_type": "markdown",
   "id": "3cf71b9a",
   "metadata": {},
   "source": [
    "## 6. Updating elements in a Array\n",
    "\n",
    "- In order to update an element in the array we simply <b>reassign a new value</b> to the desired index we want to update.\n",
    "- Time Complexity: O(n)\n",
    "- Space Complexity: O(1)"
   ]
  },
  {
   "cell_type": "code",
   "execution_count": 36,
   "id": "ca5277c0",
   "metadata": {},
   "outputs": [
    {
     "name": "stdout",
     "output_type": "stream",
     "text": [
      "array('i', [1, 2, 3, 4, 5, 6, 7, 8, 9, 10])\n",
      "array('i', [1, 2, 38, 4, 5, 6, 7, 8, 9, 10])\n",
      "array('i', [1, 2, 33, 44, 55, 66, 77, 8, 9, 10])\n"
     ]
    }
   ],
   "source": [
    "import array as arr\n",
    "\n",
    "a = arr.array(\"i\", [1, 2, 3, 4, 5, 6, 7, 8, 9, 10])\n",
    "print(a)\n",
    "\n",
    "#changing 3rd element\n",
    "a[2] = 38\n",
    "print(a)\n",
    "\n",
    "#changing 3rd to 7th elements\n",
    "a[2:7] = arr.array(\"i\", [33, 44, 55, 66, 77])\n",
    "print(a)"
   ]
  },
  {
   "cell_type": "markdown",
   "id": "97b181b0",
   "metadata": {},
   "source": [
    "## 7. Searching element in a Array\n",
    "\n",
    "- In order to search an element in the array we use a python in-built <b>index()</b> method.\n",
    "- This function returns the <b>index</b> of the <b>first occurrence</b> of value mentioned in arguments.\n",
    "- It will throws an <b>Error</b> if the element not present in the array.\n",
    "- Time Complexity: O(n)\n",
    "- Space Complexity: O(1)"
   ]
  },
  {
   "cell_type": "code",
   "execution_count": 39,
   "id": "24d6119e",
   "metadata": {},
   "outputs": [
    {
     "name": "stdout",
     "output_type": "stream",
     "text": [
      "1\n",
      "0\n"
     ]
    }
   ],
   "source": [
    "import array as arr\n",
    "\n",
    "a = arr.array(\"i\", [1, 4, 3, 2, 5, 1, 2])\n",
    "\n",
    "print(a.index(4)) #index(value)\n",
    "print(a.index(1)) "
   ]
  },
  {
   "cell_type": "code",
   "execution_count": null,
   "id": "de7dd261",
   "metadata": {},
   "outputs": [],
   "source": []
  }
 ],
 "metadata": {
  "kernelspec": {
   "display_name": "Python 3",
   "language": "python",
   "name": "python3"
  },
  "language_info": {
   "codemirror_mode": {
    "name": "ipython",
    "version": 3
   },
   "file_extension": ".py",
   "mimetype": "text/x-python",
   "name": "python",
   "nbconvert_exporter": "python",
   "pygments_lexer": "ipython3",
   "version": "3.8.8"
  }
 },
 "nbformat": 4,
 "nbformat_minor": 5
}
