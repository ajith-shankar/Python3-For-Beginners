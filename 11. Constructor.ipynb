{
 "cells": [
  {
   "cell_type": "markdown",
   "id": "fdfc306e",
   "metadata": {},
   "source": [
    "# Constructor"
   ]
  },
  {
   "cell_type": "markdown",
   "id": "e6bbcb14",
   "metadata": {},
   "source": [
    "- A constructor is a <b>special method</b> used to create and initialize an object of a class. This method is defined in the class.\n",
    "- The constructor is executed <b>automatically</b> at the time of <b>object creation</b>.\n",
    "- Internally, the <b>\\__new__</b> is the method that <b>creates</b> the object\n",
    "- Using the <b>\\__init__()</b> method we can implement constructor to <b>initialize</b> the object."
   ]
  },
  {
   "cell_type": "markdown",
   "id": "4ffb5bbb",
   "metadata": {},
   "source": [
    "## Types of Constructor\n",
    "\n",
    "In Python, we have the following three types of constructors.\n",
    "\n",
    "- <b>Default</b> constructor\n",
    "- <b>Non-parametrized</b> constructor\n",
    "- <b>Parameterized</b> constructor"
   ]
  },
  {
   "cell_type": "markdown",
   "id": "deb927b1",
   "metadata": {},
   "source": [
    "## Default Constructor\n",
    "\n",
    "- Python adds a default constructor when we do <b>not include</b> the constructor in the class or forget to declare it.\n",
    "- It does not perform any task but initializes the objects. It is an <b>empty constructor without a body</b>."
   ]
  },
  {
   "cell_type": "code",
   "execution_count": 1,
   "id": "e3a03ede",
   "metadata": {},
   "outputs": [
    {
     "name": "stdout",
     "output_type": "stream",
     "text": [
      "Inside Display\n"
     ]
    }
   ],
   "source": [
    "class Employee:\n",
    "    #instance method\n",
    "    def display(self):\n",
    "        print('Inside Display')\n",
    "\n",
    "emp = Employee()\n",
    "emp.display()"
   ]
  },
  {
   "cell_type": "markdown",
   "id": "2707d563",
   "metadata": {},
   "source": [
    "## Non-parametrized Constructor\n",
    "\n",
    "- A constructor <b>without any arguments</b> is called a non-parameterized constructor.\n",
    "- This type of constructor is used to <b>initialize</b> each object with <b>default values</b>.\n",
    "- This constructor <b>doesn’t accept</b> the arguments during object creation."
   ]
  },
  {
   "cell_type": "code",
   "execution_count": 10,
   "id": "21bba22b",
   "metadata": {},
   "outputs": [
    {
     "name": "stdout",
     "output_type": "stream",
     "text": [
      "Name : Merry and City : New York\n"
     ]
    }
   ],
   "source": [
    "class Company:\n",
    "    #non-parametrized constructor\n",
    "    def __init__(self):\n",
    "        self.name = \"Merry\"\n",
    "        self.city = \"New York\"\n",
    "        \n",
    "    def show(self):\n",
    "        print(\"Name :\",self.name, \"and City :\",self.city)\n",
    "        \n",
    "cmp = Company() \n",
    "cmp.show()"
   ]
  },
  {
   "cell_type": "markdown",
   "id": "454b5017",
   "metadata": {},
   "source": [
    "## Parametrized Constructor\n",
    "\n",
    "- A constructor with <b>defined parameters or arguments</b> is called a parameterized constructor.\n",
    "- A parameterized constructor can have <b>any</b> number of arguments."
   ]
  },
  {
   "cell_type": "code",
   "execution_count": 13,
   "id": "5b8ab819",
   "metadata": {},
   "outputs": [
    {
     "name": "stdout",
     "output_type": "stream",
     "text": [
      "NAME: Merry, AGE: 21, SALARY: 35000\n",
      "NAME: Kelly, AGE: 23, SALARY: 45000\n"
     ]
    }
   ],
   "source": [
    "class Company:\n",
    "    #parametrized constructor\n",
    "    def __init__(self, name, age, salary):\n",
    "        self.name = name\n",
    "        self.age = age\n",
    "        self.salary = salary\n",
    "        \n",
    "    def show(self):\n",
    "        print(f\"NAME: {self.name}, AGE: {self.age}, SALARY: {self.salary}\")\n",
    "        \n",
    "emp1 = Company(\"Merry\", 21, 35000)\n",
    "emp2 = Company(\"Kelly\", 23, 45000)\n",
    "emp1.show()\n",
    "emp2.show()"
   ]
  },
  {
   "cell_type": "markdown",
   "id": "4da96868",
   "metadata": {},
   "source": [
    "## Constructor with Default values\n",
    "\n",
    "- The default value will be used if we do not pass arguments to the constructor at the time of object creation."
   ]
  },
  {
   "cell_type": "code",
   "execution_count": 15,
   "id": "8e2743e2",
   "metadata": {},
   "outputs": [
    {
     "name": "stdout",
     "output_type": "stream",
     "text": [
      "NAME: Merry, AGE: 7, SALARY: 20456\n",
      "NAME: Kelly, AGE: 23, SALARY: 45000\n"
     ]
    }
   ],
   "source": [
    "class Company:\n",
    "    #parametrized constructor\n",
    "    def __init__(self, name, age = 7, salary = 20456):\n",
    "        self.name = name\n",
    "        self.age = age\n",
    "        self.salary = salary\n",
    "        \n",
    "    def show(self):\n",
    "        print(f\"NAME: {self.name}, AGE: {self.age}, SALARY: {self.salary}\")\n",
    "        \n",
    "emp1 = Company(\"Merry\")\n",
    "emp2 = Company(\"Kelly\", 23, 45000)\n",
    "emp1.show()\n",
    "emp2.show()"
   ]
  },
  {
   "cell_type": "markdown",
   "id": "1e7aaf33",
   "metadata": {},
   "source": [
    "## Constructor Overloading\n",
    "\n",
    "- Constructor overloading is a concept of <b>having more than one constructor with a different parameters</b> list in such a way so that each constructor can perform different tasks.\n",
    "- <b>Python does not support constructor overloading</b>.\n",
    "- If we define <b>multiple constructors</b> then, the interpreter will considers <b>only the last constructor</b> \n",
    "- and throws an <b>error</b> if the sequence of the arguments <b>doesn’t match</b> as per the last constructor."
   ]
  },
  {
   "cell_type": "code",
   "execution_count": 16,
   "id": "973fc7c1",
   "metadata": {},
   "outputs": [
    {
     "ename": "TypeError",
     "evalue": "__init__() missing 1 required positional argument: 'age'",
     "output_type": "error",
     "traceback": [
      "\u001b[1;31m---------------------------------------------------------------------------\u001b[0m",
      "\u001b[1;31mTypeError\u001b[0m                                 Traceback (most recent call last)",
      "\u001b[1;32m<ipython-input-16-44ec1259f972>\u001b[0m in \u001b[0;36m<module>\u001b[1;34m\u001b[0m\n\u001b[0;32m     12\u001b[0m \u001b[1;33m\u001b[0m\u001b[0m\n\u001b[0;32m     13\u001b[0m \u001b[1;33m\u001b[0m\u001b[0m\n\u001b[1;32m---> 14\u001b[1;33m \u001b[0mstud1\u001b[0m \u001b[1;33m=\u001b[0m \u001b[0mStudent\u001b[0m\u001b[1;33m(\u001b[0m\u001b[1;34m\"Kelly\"\u001b[0m\u001b[1;33m)\u001b[0m\u001b[1;33m\u001b[0m\u001b[1;33m\u001b[0m\u001b[0m\n\u001b[0m\u001b[0;32m     15\u001b[0m \u001b[0mstud2\u001b[0m \u001b[1;33m=\u001b[0m \u001b[0mStudent\u001b[0m\u001b[1;33m(\u001b[0m\u001b[1;34m\"Emma\"\u001b[0m\u001b[1;33m,\u001b[0m \u001b[1;36m13\u001b[0m\u001b[1;33m)\u001b[0m\u001b[1;33m\u001b[0m\u001b[1;33m\u001b[0m\u001b[0m\n",
      "\u001b[1;31mTypeError\u001b[0m: __init__() missing 1 required positional argument: 'age'"
     ]
    }
   ],
   "source": [
    "class Student:\n",
    "    #one argument constructor\n",
    "    def __init__(self, name):\n",
    "        print(\"One argument constructer\")\n",
    "        self.name = name\n",
    "        \n",
    "    #two argument constructer\n",
    "    def __init__(self, name, age):\n",
    "        print(\"Two argument constructer\")\n",
    "        self.name = name\n",
    "        self.age = age\n",
    "        \n",
    "        \n",
    "stud1 = Student(\"Kelly\")\n",
    "stud2 = Student(\"Emma\", 13)"
   ]
  },
  {
   "cell_type": "markdown",
   "id": "059a7ce1",
   "metadata": {},
   "source": [
    "## Constructor Chaining\n",
    "\n",
    "- Constructor chaining is the <b>process of calling one constructor from another constructor</b>.\n",
    "- Constructor chaining is useful when you want to invoke <b>multiple</b> constructors, one after another, by initializing <b>only one instance</b>.\n",
    "- Constructor chaining is convenient when we are dealing with <b>inheritance</b>.\n",
    "- When an <b>instance of a child class</b> is initialized, the constructors of <b>all the parent classes</b> are first invoked and then, in the end, the constructor of the child class is invoked.\n",
    "- If the parent class doesn’t have a default constructor, then the compiler would not insert a default constructor in the child class.\n",
    "- Using the <b>super()</b> method we can invoke the parent class constructor from a child class."
   ]
  },
  {
   "cell_type": "code",
   "execution_count": 4,
   "id": "97a5906f",
   "metadata": {},
   "outputs": [
    {
     "name": "stdout",
     "output_type": "stream",
     "text": [
      "Inside Vehicle Constructor\n",
      "Inside Car constructor\n",
      "Inside ElectricCar constructor\n",
      "Engine=1500cc, Max speed=240, KM Range=750\n"
     ]
    }
   ],
   "source": [
    "class Vehicle:\n",
    "    #vehicle constructor\n",
    "    def __init__(self, engine):\n",
    "        print('Inside Vehicle Constructor')\n",
    "        self.engine = engine\n",
    "        \n",
    "        \n",
    "class Car(Vehicle): #inheritance\n",
    "    #constructor of car\n",
    "    def __init__(self, engine, max_speed):\n",
    "        super().__init__(engine)\n",
    "        print(\"Inside Car constructor\")\n",
    "        self.max_speed = max_speed\n",
    "        \n",
    "        \n",
    "class ElectricCar(Car):\n",
    "    #constructor of Electric car\n",
    "    def __init__(self, engine, max_speed, km_range):\n",
    "        super().__init__(engine, max_speed)\n",
    "        print('Inside ElectricCar constructor')\n",
    "        self.km_range = km_range\n",
    "        \n",
    "\n",
    "#object of ElectricCar\n",
    "ev = ElectricCar('1500cc', 240, 750)\n",
    "print(f\"Engine={ev.engine}, Max speed={ev.max_speed}, KM Range={ev.km_range}\")"
   ]
  },
  {
   "cell_type": "markdown",
   "id": "b192672d",
   "metadata": {},
   "source": [
    "# <font color=Blue>Destructor</font>"
   ]
  },
  {
   "cell_type": "markdown",
   "id": "fb175f5e",
   "metadata": {},
   "source": [
    "Destructor is a special method that is called when an <b>object gets destroyed</b>. Destructor is used to perform the <b>clean-up activity</b> before destroying the object, such as closing database connections or filehandle."
   ]
  },
  {
   "cell_type": "markdown",
   "id": "14147acf",
   "metadata": {},
   "source": [
    "In Python, destructor is <b>not called manually</b> but completely automatic. destructor gets called in the following two cases\n",
    "\n",
    "- When an object goes <b>out of scope</b> or\n",
    "- The <b>reference counter</b> of the object reaches <b>0</b>."
   ]
  },
  {
   "cell_type": "markdown",
   "id": "039993af",
   "metadata": {},
   "source": [
    "The magic method <b>\\__del__()</b> is used as the destructor in Python. The \\__del__() method will be <b>implicitly</b> invoked when all references to the object have been <b>deleted</b>, i.e., is when an object is eligible for the garbage collector.\n",
    "\n",
    "<b>Syntax:</b>"
   ]
  },
  {
   "cell_type": "code",
   "execution_count": null,
   "id": "f8f37dd8",
   "metadata": {},
   "outputs": [],
   "source": [
    "def __del__(self):\n",
    "    # body of a destructor"
   ]
  },
  {
   "cell_type": "markdown",
   "id": "2972df69",
   "metadata": {},
   "source": [
    "#### Example:"
   ]
  },
  {
   "cell_type": "code",
   "execution_count": 1,
   "id": "8791ebf4",
   "metadata": {},
   "outputs": [
    {
     "name": "stdout",
     "output_type": "stream",
     "text": [
      "Inside Constructor\n",
      "Object initialized\n",
      "Hello, my name is Emma\n",
      "Inside destructor\n",
      "Object destroyed\n"
     ]
    }
   ],
   "source": [
    "class Student:\n",
    "\n",
    "    # constructor\n",
    "    def __init__(self, name):\n",
    "        print('Inside Constructor')\n",
    "        self.name = name\n",
    "        print('Object initialized')\n",
    "\n",
    "    def show(self):\n",
    "        print('Hello, my name is', self.name)\n",
    "\n",
    "    # destructor\n",
    "    def __del__(self):\n",
    "        print('Inside destructor')\n",
    "        print('Object destroyed')\n",
    "\n",
    "# create object\n",
    "s1 = Student('Emma')\n",
    "s1.show()\n",
    "\n",
    "# delete object\n",
    "del s1"
   ]
  },
  {
   "cell_type": "markdown",
   "id": "876be54a",
   "metadata": {},
   "source": [
    "## Cases when Destructor doesn’t work Correctly\n",
    "\n",
    "- <b>Circular referencing</b> when two objects refer to each other\n",
    "- <b>Exception</b> occured in <b>\\__init__()</b> method"
   ]
  },
  {
   "cell_type": "code",
   "execution_count": null,
   "id": "90e6ca75",
   "metadata": {},
   "outputs": [],
   "source": []
  }
 ],
 "metadata": {
  "kernelspec": {
   "display_name": "Python 3",
   "language": "python",
   "name": "python3"
  },
  "language_info": {
   "codemirror_mode": {
    "name": "ipython",
    "version": 3
   },
   "file_extension": ".py",
   "mimetype": "text/x-python",
   "name": "python",
   "nbconvert_exporter": "python",
   "pygments_lexer": "ipython3",
   "version": "3.8.8"
  }
 },
 "nbformat": 4,
 "nbformat_minor": 5
}
