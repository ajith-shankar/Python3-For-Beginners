{
 "cells": [
  {
   "cell_type": "markdown",
   "id": "37e836e7",
   "metadata": {},
   "source": [
    "# <font color=Blue>Exception Handling</font>"
   ]
  },
  {
   "cell_type": "markdown",
   "id": "b6fc9acf",
   "metadata": {},
   "source": [
    "An exception is an error which happens at the time of execution of a program. <br>\n",
    "\n",
    "<b>Common Examples of Exception:</b>\n",
    "- Division by Zero\n",
    "- Accessing a file which does not exist.\n",
    "- Addition of two incompatible types\n",
    "- Trying to access a nonexistent index of a sequence\n",
    "- Removing the table from the disconnected database server.\n",
    "- ATM withdrawal of more than the available amount"
   ]
  },
  {
   "cell_type": "markdown",
   "id": "b168ad61",
   "metadata": {},
   "source": [
    "## Rules of Exceptions\n",
    "\n",
    "- Exceptions must be class objects\n",
    "- For class exceptions, you can use try statement with an except clause which mentions a particular class.\n",
    "- Even if a statement or expression is syntactically correct, it may display an error when an attempt is made to execute it.\n",
    "- Errors found during execution are called exceptions, and they are not unconditionally fatal."
   ]
  },
  {
   "cell_type": "markdown",
   "id": "f7e4b779",
   "metadata": {},
   "source": [
    "## Exception Handling Mechanism\n",
    "\n",
    "- <b>try...except</b> statement\n",
    "- <b>try...except...finally</b>  statement\n",
    "- <b>try...except...else</b> statement\n"
   ]
  },
  {
   "cell_type": "markdown",
   "id": "97582e1d",
   "metadata": {},
   "source": [
    "## 1. try...except \n",
    "\n",
    "- The statements in the <b>try clause execute first</b>.\n",
    "- If <b>no exception</b> occurs, the except clause is <b>skipped</b> and the execution of the try statement is completed.\n",
    "- If <b>an exception</b> occurs at any statement in the <b>try</b> clause, the <b>rest of the try clause is skipped</b> and the <b>except clause is executed</b>."
   ]
  },
  {
   "cell_type": "code",
   "execution_count": null,
   "id": "735aad99",
   "metadata": {},
   "outputs": [],
   "source": [
    "try:\n",
    "    # code that may cause error\n",
    "except:\n",
    "    # handle errors"
   ]
  },
  {
   "cell_type": "code",
   "execution_count": 14,
   "id": "2d06c0d4",
   "metadata": {},
   "outputs": [
    {
     "name": "stdout",
     "output_type": "stream",
     "text": [
      "Enter the net sale for\n",
      "- previous sale: 100\n",
      "- current sale: 120\n",
      "sale increase 20.0%\n"
     ]
    }
   ],
   "source": [
    "try:\n",
    "    print(\"Enter the net sale for\")\n",
    "    previous=float(input(\"- previous sale: \"))\n",
    "    current=float(input(\"- current sale: \"))\n",
    "    \n",
    "    changes = (current - previous) * 100 / previous\n",
    "    \n",
    "    if changes > 0:\n",
    "        result = f\"sale increase {abs(changes)}%\"\n",
    "    else:\n",
    "        result = f\"sale decrease {abs(changes)}%\"\n",
    "        \n",
    "    print(result)\n",
    "except:\n",
    "    print(\"Error! please enter a number for net sale\")"
   ]
  },
  {
   "cell_type": "code",
   "execution_count": 15,
   "id": "3d26e1bf",
   "metadata": {},
   "outputs": [
    {
     "name": "stdout",
     "output_type": "stream",
     "text": [
      "Enter the net sale for\n",
      "- previous sale: 100\n",
      "- current sale: 120'\n",
      "Error! please enter a number for net sale\n"
     ]
    }
   ],
   "source": [
    "try:\n",
    "    print(\"Enter the net sale for\")\n",
    "    previous=float(input(\"- previous sale: \"))\n",
    "    current=float(input(\"- current sale: \"))\n",
    "    \n",
    "    changes = (current - previous) * 100 / previous\n",
    "    \n",
    "    if changes > 0:\n",
    "        result = f\"sale increase {abs(changes)}%\"\n",
    "    else:\n",
    "        result = f\"sale decrease {abs(changes)}%\"\n",
    "        \n",
    "    print(result)\n",
    "except:\n",
    "    print(\"Error! please enter a number for net sale\")"
   ]
  },
  {
   "cell_type": "code",
   "execution_count": 16,
   "id": "2ebadab7",
   "metadata": {},
   "outputs": [
    {
     "name": "stdout",
     "output_type": "stream",
     "text": [
      "Enter the net sale for\n",
      "- previous sale: 100\n",
      "- current sale: 0\n",
      "sale decrease 100.0%\n"
     ]
    }
   ],
   "source": [
    "try:\n",
    "    print(\"Enter the net sale for\")\n",
    "    previous=float(input(\"- previous sale: \"))\n",
    "    current=float(input(\"- current sale: \"))\n",
    "    changes = (current - previous) * 100 / previous\n",
    "    \n",
    "    if changes > 0:\n",
    "        result = f\"sale increase {abs(changes)}%\"\n",
    "    else:\n",
    "        result = f\"sale decrease {abs(changes)}%\"\n",
    "        \n",
    "    print(result)\n",
    "except:\n",
    "    print(\"Error! please enter a number for net sale\")"
   ]
  },
  {
   "cell_type": "code",
   "execution_count": 17,
   "id": "d9bbd2d5",
   "metadata": {},
   "outputs": [
    {
     "name": "stdout",
     "output_type": "stream",
     "text": [
      "Enter the net sale for\n",
      "- previous sale: 0\n",
      "- current sale: 100\n",
      "Error! please enter a number for net sale\n"
     ]
    }
   ],
   "source": [
    "try:\n",
    "    print(\"Enter the net sale for\")\n",
    "    previous=float(input(\"- previous sale: \"))\n",
    "    current=float(input(\"- current sale: \"))\n",
    "    changes = (current - previous) * 100 / previous #here changes=(100-0)*100/0 , dividing by 0\n",
    "    \n",
    "    if changes > 0:\n",
    "        result = f\"sale increase {abs(changes)}%\"\n",
    "    else:\n",
    "        result = f\"sale decrease {abs(changes)}%\"\n",
    "        \n",
    "    print(result)\n",
    "except:\n",
    "    print(\"Error! please enter a number for net sale\")"
   ]
  },
  {
   "cell_type": "markdown",
   "id": "2a82f605",
   "metadata": {},
   "source": [
    "In this case, both net sales of the previous and current periods are numbers, but the program still issues an error message. \n",
    "Another exception must occur.\n",
    "\n",
    "The <b>try...except</b> statement allows you to handle a particular exception. To catch a selected exception, you <b>place the type of exception</b> after the except keyword:"
   ]
  },
  {
   "cell_type": "code",
   "execution_count": 18,
   "id": "f53bc36d",
   "metadata": {},
   "outputs": [
    {
     "name": "stdout",
     "output_type": "stream",
     "text": [
      "Enter the net sale for\n",
      "- previous sale: 0\n",
      "- current sale: 100\n"
     ]
    },
    {
     "ename": "ZeroDivisionError",
     "evalue": "float division by zero",
     "output_type": "error",
     "traceback": [
      "\u001b[1;31m---------------------------------------------------------------------------\u001b[0m",
      "\u001b[1;31mZeroDivisionError\u001b[0m                         Traceback (most recent call last)",
      "\u001b[1;32m<ipython-input-18-413192b9f807>\u001b[0m in \u001b[0;36m<module>\u001b[1;34m\u001b[0m\n\u001b[0;32m      3\u001b[0m     \u001b[0mprevious\u001b[0m\u001b[1;33m=\u001b[0m\u001b[0mfloat\u001b[0m\u001b[1;33m(\u001b[0m\u001b[0minput\u001b[0m\u001b[1;33m(\u001b[0m\u001b[1;34m\"- previous sale: \"\u001b[0m\u001b[1;33m)\u001b[0m\u001b[1;33m)\u001b[0m\u001b[1;33m\u001b[0m\u001b[1;33m\u001b[0m\u001b[0m\n\u001b[0;32m      4\u001b[0m     \u001b[0mcurrent\u001b[0m\u001b[1;33m=\u001b[0m\u001b[0mfloat\u001b[0m\u001b[1;33m(\u001b[0m\u001b[0minput\u001b[0m\u001b[1;33m(\u001b[0m\u001b[1;34m\"- current sale: \"\u001b[0m\u001b[1;33m)\u001b[0m\u001b[1;33m)\u001b[0m\u001b[1;33m\u001b[0m\u001b[1;33m\u001b[0m\u001b[0m\n\u001b[1;32m----> 5\u001b[1;33m     \u001b[0mchanges\u001b[0m \u001b[1;33m=\u001b[0m \u001b[1;33m(\u001b[0m\u001b[0mcurrent\u001b[0m \u001b[1;33m-\u001b[0m \u001b[0mprevious\u001b[0m\u001b[1;33m)\u001b[0m \u001b[1;33m*\u001b[0m \u001b[1;36m100\u001b[0m \u001b[1;33m/\u001b[0m \u001b[0mprevious\u001b[0m\u001b[1;33m\u001b[0m\u001b[1;33m\u001b[0m\u001b[0m\n\u001b[0m\u001b[0;32m      6\u001b[0m \u001b[1;33m\u001b[0m\u001b[0m\n\u001b[0;32m      7\u001b[0m     \u001b[1;32mif\u001b[0m \u001b[0mchanges\u001b[0m \u001b[1;33m>\u001b[0m \u001b[1;36m0\u001b[0m\u001b[1;33m:\u001b[0m\u001b[1;33m\u001b[0m\u001b[1;33m\u001b[0m\u001b[0m\n",
      "\u001b[1;31mZeroDivisionError\u001b[0m: float division by zero"
     ]
    }
   ],
   "source": [
    "try:\n",
    "    print(\"Enter the net sale for\")\n",
    "    previous=float(input(\"- previous sale: \"))\n",
    "    current=float(input(\"- current sale: \"))\n",
    "    changes = (current - previous) * 100 / previous\n",
    "    \n",
    "    if changes > 0:\n",
    "        result = f\"sale increase {abs(changes)}%\"\n",
    "    else:\n",
    "        result = f\"sale decrease {abs(changes)}%\"\n",
    "        \n",
    "    print(result)\n",
    "except ValueError:\n",
    "    print(\"Error! please enter a number for net sale\")"
   ]
  },
  {
   "cell_type": "markdown",
   "id": "0e87ebed",
   "metadata": {},
   "source": [
    "## Handling multiple exceptions"
   ]
  },
  {
   "cell_type": "markdown",
   "id": "92ea5ee4",
   "metadata": {},
   "source": [
    "The <b>try...except</b> allows you to handle <b>multiple exceptions</b> by specifying multiple except clauses:"
   ]
  },
  {
   "cell_type": "code",
   "execution_count": null,
   "id": "743424f4",
   "metadata": {},
   "outputs": [],
   "source": [
    "try:\n",
    "    # code that may cause an exception\n",
    "except Exception1 as e1:\n",
    "    # handle exception\n",
    "except Exception2 as e2:\n",
    "    # handle exception\n",
    "except Exception3 as e3:\n",
    "    # handle exception "
   ]
  },
  {
   "cell_type": "markdown",
   "id": "bf5784e9",
   "metadata": {},
   "source": [
    "If you want to have the <b>same response</b> to some types of exceptions, you can <b>group</b> them into one except clause:"
   ]
  },
  {
   "cell_type": "code",
   "execution_count": null,
   "id": "7c660513",
   "metadata": {},
   "outputs": [],
   "source": [
    "try:\n",
    "    # code that may cause an exception\n",
    "except (Exception1, Exception2):\n",
    "    # handle exception"
   ]
  },
  {
   "cell_type": "code",
   "execution_count": 25,
   "id": "aa68c687",
   "metadata": {},
   "outputs": [
    {
     "name": "stdout",
     "output_type": "stream",
     "text": [
      "Enter the net sale for\n",
      "- previous sale: 0\n",
      "- current sale: 50\n",
      "Error! The previous net sale can't be zero\n"
     ]
    }
   ],
   "source": [
    "try:\n",
    "    print(\"Enter the net sale for\")\n",
    "    previous=float(input(\"- previous sale: \"))\n",
    "    current=float(input(\"- current sale: \"))\n",
    "    changes = (current - previous) * 100 / previous\n",
    "    \n",
    "    if changes > 0:\n",
    "        result = f\"sale increase {abs(changes)}%\"\n",
    "    else:\n",
    "        result = f\"sale decrease {abs(changes)}%\"\n",
    "        \n",
    "    print(result)\n",
    "except ValueError:\n",
    "    print(\"Error! please enter a number for net sale\")\n",
    "except ZeroDivisionError:\n",
    "    print(\"Error! The previous net sale can't be zero\")\n",
    "except Exception as error:\n",
    "    print(error)"
   ]
  },
  {
   "cell_type": "markdown",
   "id": "6387d115",
   "metadata": {},
   "source": [
    "## 2. try...except...finally\n",
    "\n",
    "- The <b>try...except</b> statement allows you to <b>catch one or more</b> exceptions in the <b>try</b> clause and <b>handle</b> each of them in the <b>except</b> clauses.\n",
    "- The <b>finally</b> clause <b>always executes whether an exception occurs or not</b>. And it executes <b>after</b> the try clause and any except clause."
   ]
  },
  {
   "cell_type": "code",
   "execution_count": 1,
   "id": "ade2d40c",
   "metadata": {},
   "outputs": [
    {
     "name": "stdout",
     "output_type": "stream",
     "text": [
      "division by zero\n",
      "Finishing Up\n"
     ]
    }
   ],
   "source": [
    "a = 10\n",
    "b = 0\n",
    "try:\n",
    "    c = a / b\n",
    "    print(c)\n",
    "except ZeroDivisionError as error:\n",
    "    print(error)\n",
    "finally:\n",
    "    print(\"Finishing Up\")"
   ]
  },
  {
   "cell_type": "code",
   "execution_count": 2,
   "id": "c2cfebda",
   "metadata": {},
   "outputs": [
    {
     "name": "stdout",
     "output_type": "stream",
     "text": [
      "5.0\n",
      "Finishing Up\n"
     ]
    }
   ],
   "source": [
    "a = 10\n",
    "b = 2\n",
    "try:\n",
    "    c = a / b\n",
    "    print(c)\n",
    "except ZeroDivisionError as error:\n",
    "    print(error)\n",
    "finally:\n",
    "    print(\"Finishing Up\")"
   ]
  },
  {
   "cell_type": "markdown",
   "id": "d8a4dba1",
   "metadata": {},
   "source": [
    "## 3. try...except...else\n",
    "\n",
    "- If an <b>exception occurs</b> in the <b>try clause</b>, Python skips the rest of the statements in the try clause and the <b>except statement execute</b>.\n",
    "- In case <b>no exception</b> occurs in the try clause, then <b>else clause will execute</b>.\n",
    "- When you include the finally clause, the <b>else clause executes after the try clause and before the finally clause</b>."
   ]
  },
  {
   "cell_type": "code",
   "execution_count": null,
   "id": "a63f4327",
   "metadata": {},
   "outputs": [],
   "source": [
    "try:\n",
    "    # code that may cause errors\n",
    "except:\n",
    "    # code that handle exceptions\n",
    "else:\n",
    "    # code that executes when no exception occurs"
   ]
  },
  {
   "cell_type": "code",
   "execution_count": 9,
   "id": "1fd4171a",
   "metadata": {},
   "outputs": [
    {
     "name": "stdout",
     "output_type": "stream",
     "text": [
      "Enter your height in meters: 1.68\n",
      "Enter your weight in kilograms: 65\n",
      "Your body mass index is 23.0\n",
      "This is considerd Healthy\n"
     ]
    }
   ],
   "source": [
    "def calculate_bmi(height, weight):\n",
    "    '''calculate body mass index (BMI)'''\n",
    "    return weight / height**2\n",
    "\n",
    "\n",
    "def evaluate_bmi(bmi):\n",
    "    '''Evaluate the BMI'''\n",
    "    if 18.5 <= bmi <= 24.9:\n",
    "        return \"Healthy\"\n",
    "    if bmi >= 25:\n",
    "        return \"Overweight\"\n",
    "    \n",
    "    return \"Underweight\"\n",
    "    \n",
    "    \n",
    "def main():\n",
    "    try:\n",
    "        height = float(input(\"Enter your height in meters: \"))\n",
    "        weight = float(input(\"Enter your weight in kilograms: \"))\n",
    "        \n",
    "    except ValueError as error:\n",
    "        print(error)\n",
    "        \n",
    "    else:\n",
    "        bmi = round(calculate_bmi(height, weight), 1)\n",
    "        evaluation = evaluate_bmi(bmi)\n",
    "        \n",
    "        print(f\"Your body mass index is {bmi}\")\n",
    "        print(f\"This is considerd {evaluation}\")\n",
    "        \n",
    "\n",
    "main()    "
   ]
  },
  {
   "cell_type": "code",
   "execution_count": null,
   "id": "e0f0f13d",
   "metadata": {},
   "outputs": [],
   "source": [
    "fruits = {\"apple\":10, \"orange\":20, \"mango\":30}\n",
    "key=None\n",
    "while True:\n",
    "    try:\n",
    "        key=input(\"Enter a key to lookup: \")\n",
    "        fruit=fruits[key.lower()]\n",
    "        \n",
    "    except KeyError:\n",
    "        print(f\"Error! {key} not found\")\n",
    "    except KeyboardInterrupt:\n",
    "        break\n",
    "        \n",
    "    else:\n",
    "        print(fruit)\n",
    "    \n",
    "    finally:\n",
    "        print(\"Enter ctrl+x to exit\")\n",
    "                "
   ]
  },
  {
   "cell_type": "code",
   "execution_count": null,
   "id": "c7b074fb",
   "metadata": {},
   "outputs": [],
   "source": []
  }
 ],
 "metadata": {
  "kernelspec": {
   "display_name": "Python 3",
   "language": "python",
   "name": "python3"
  },
  "language_info": {
   "codemirror_mode": {
    "name": "ipython",
    "version": 3
   },
   "file_extension": ".py",
   "mimetype": "text/x-python",
   "name": "python",
   "nbconvert_exporter": "python",
   "pygments_lexer": "ipython3",
   "version": "3.8.8"
  }
 },
 "nbformat": 4,
 "nbformat_minor": 5
}
