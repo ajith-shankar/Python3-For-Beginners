{
 "cells": [
  {
   "cell_type": "markdown",
   "id": "ab4efe2b",
   "metadata": {},
   "source": [
    "# <font color=Blue>Encapsulation</font>"
   ]
  },
  {
   "cell_type": "markdown",
   "id": "44a74487",
   "metadata": {},
   "source": [
    "Encapsulation in Python describes the concept of <b>bundling data and methods within a single unit</b>.<br>\n",
    "- A <b>Class</b> is an example of encapsulation as it binds all the data members and methods into a single unit."
   ]
  },
  {
   "cell_type": "markdown",
   "id": "8ab5a4c3",
   "metadata": {},
   "source": [
    "## Access modifier in Python\n",
    "\n",
    "- We <b>don’t have</b> direct access modifiers like <b>public</b>, <b>private</b>, and <b>protected</b> in Python.\n",
    "- We can achieve this by using <b>single underscore</b> and <b>double underscores</b>.\n",
    "\n",
    "<b>Public Member</b>: Accessible anywhere from outside oclass.<br>\n",
    "<b>Private Member</b>: Accessible within the class.<br>\n",
    "<b>Protected Member</b>: Accessible within the class and its sub-classes.<br>"
   ]
  },
  {
   "cell_type": "markdown",
   "id": "a80c0b74",
   "metadata": {},
   "source": [
    "## Public Member:\n",
    "\n",
    "- Public data memnbers are accessible <b>within</b> and <b>outside</b> of a class.\n",
    "- All member variables of the class are by default Public"
   ]
  },
  {
   "cell_type": "code",
   "execution_count": 2,
   "id": "b4ae9c59",
   "metadata": {},
   "outputs": [
    {
     "name": "stdout",
     "output_type": "stream",
     "text": [
      "Name: Emma and Salary: 30000\n",
      "Name: Emma and Salary: 30000\n"
     ]
    }
   ],
   "source": [
    "class Employee:\n",
    "    #constructor\n",
    "    def __init__(self, name, salary):\n",
    "        #public data members\n",
    "        self.name = name\n",
    "        self.salary = salary\n",
    "        \n",
    "    #public instance method\n",
    "    def show(self):\n",
    "        #accessing public data members\n",
    "        print(f\"Name: {self.name} and Salary: {self.salary}\")\n",
    "        \n",
    "        \n",
    "#object \n",
    "emp = Employee(\"Emma\", 30000)\n",
    "\n",
    "#accessing public data members\n",
    "print(f\"Name: {emp.name} and Salary: {emp.salary}\")\n",
    "\n",
    "#calling public method\n",
    "emp.show()"
   ]
  },
  {
   "cell_type": "markdown",
   "id": "8d0bf771",
   "metadata": {},
   "source": [
    "## Private Member:\n",
    "\n",
    "- Private members are accessible <b>only within the class</b>, and we <b>can’t</b> access them directly from the <b>class objects</b>.\n",
    "- To define a private variable add <b>two underscores (__)</b> as a <b>prefix</b> at the start of a variable name."
   ]
  },
  {
   "cell_type": "code",
   "execution_count": 6,
   "id": "56b35923",
   "metadata": {},
   "outputs": [
    {
     "name": "stdout",
     "output_type": "stream",
     "text": [
      "Name: Emma\n"
     ]
    },
    {
     "ename": "AttributeError",
     "evalue": "'Employee' object has no attribute '__salary'",
     "output_type": "error",
     "traceback": [
      "\u001b[1;31m---------------------------------------------------------------------------\u001b[0m",
      "\u001b[1;31mAttributeError\u001b[0m                            Traceback (most recent call last)",
      "\u001b[1;32m<ipython-input-6-a9048998fec1>\u001b[0m in \u001b[0;36m<module>\u001b[1;34m\u001b[0m\n\u001b[0;32m     14\u001b[0m \u001b[1;33m\u001b[0m\u001b[0m\n\u001b[0;32m     15\u001b[0m \u001b[1;31m#accessing private data members\u001b[0m\u001b[1;33m\u001b[0m\u001b[1;33m\u001b[0m\u001b[1;33m\u001b[0m\u001b[0m\n\u001b[1;32m---> 16\u001b[1;33m \u001b[0mprint\u001b[0m\u001b[1;33m(\u001b[0m\u001b[1;34mf\"Salary: {emp.__salary}\"\u001b[0m\u001b[1;33m)\u001b[0m \u001b[1;31m#we can’t access them directly from the class objects/from the outside of the class.\u001b[0m\u001b[1;33m\u001b[0m\u001b[1;33m\u001b[0m\u001b[0m\n\u001b[0m",
      "\u001b[1;31mAttributeError\u001b[0m: 'Employee' object has no attribute '__salary'"
     ]
    }
   ],
   "source": [
    "class Employee:\n",
    "    #constructor\n",
    "    def __init__(self, name, salary):\n",
    "        #public data member\n",
    "        self.name = name\n",
    "        #private data member\n",
    "        self.__salary = salary #add __ as prefix\n",
    "        \n",
    "        \n",
    "#object\n",
    "emp = Employee(\"Emma\", 35000)\n",
    "\n",
    "print(f\"Name: {emp.name}\")\n",
    "\n",
    "#accessing private data members\n",
    "print(f\"Salary: {emp.__salary}\") #we can’t access them directly from the class objects/from the outside of the class."
   ]
  },
  {
   "cell_type": "markdown",
   "id": "f8041e6e",
   "metadata": {},
   "source": [
    "We can access private members from outside of a class using the following two approaches\n",
    "\n",
    "- Create <b>public method</b> to access private members\n",
    "- Use <b>name mangling</b>"
   ]
  },
  {
   "cell_type": "markdown",
   "id": "f0f7fc5b",
   "metadata": {},
   "source": [
    "#### 1. Public method to access private members"
   ]
  },
  {
   "cell_type": "code",
   "execution_count": 2,
   "id": "1bc332fe",
   "metadata": {},
   "outputs": [
    {
     "name": "stdout",
     "output_type": "stream",
     "text": [
      "Name: Emma and Salary: 35000\n"
     ]
    }
   ],
   "source": [
    "#Access Private member outside of a class using an instance method\n",
    "\n",
    "class Employee:\n",
    "    def __init__(self, name, salary):\n",
    "        self.name = name\n",
    "        self.__salary = salary #private member\n",
    "    \n",
    "    #public instance method\n",
    "    def show(self):\n",
    "        print(f\"Name: {self.name} and Salary: {self.__salary}\") #access private member\n",
    "    \n",
    "emp = Employee(\"Emma\", 35000)\n",
    "\n",
    "emp.show() #calling public method"
   ]
  },
  {
   "cell_type": "markdown",
   "id": "a3b9168c",
   "metadata": {},
   "source": [
    "#### 2. Name Mangling to access private members\n",
    "\n",
    "- The name mangling is created on an identifier by adding <b>two leading underscores and one trailing underscore</b>, \n",
    "- like this <b>_classname__dataMember</b>, where classname is the current class, and data member is the private variable name."
   ]
  },
  {
   "cell_type": "code",
   "execution_count": 4,
   "id": "7bcc0cd0",
   "metadata": {},
   "outputs": [
    {
     "name": "stdout",
     "output_type": "stream",
     "text": [
      "Name: Emma\n",
      "Salary: 35000\n"
     ]
    }
   ],
   "source": [
    "class Employee:\n",
    "    def __init__(self, name, salary):\n",
    "        self.name = name\n",
    "        self.__salary = salary\n",
    "        \n",
    "    \n",
    "emp = Employee(\"Emma\", 35000)\n",
    "\n",
    "print(f\"Name: {emp.name}\")\n",
    "\n",
    "#direct access to private data member using Name Mangling\n",
    "print(f\"Salary: {emp._Employee__salary}\") "
   ]
  },
  {
   "cell_type": "markdown",
   "id": "2dce98b1",
   "metadata": {},
   "source": [
    "## Protected Member:\n",
    "\n",
    "- Protected members are accessible <b>within the class</b> and also available to <b>its sub-classes</b>.\n",
    "- To define a protected member, <b>prefix</b> the member name with a <b>single underscore (_)</b>.\n",
    "- Protected data members are used when you implement <b>inheritance</b> and want to allow data members access to <b>only child classes</b>."
   ]
  },
  {
   "cell_type": "code",
   "execution_count": 8,
   "id": "083360e0",
   "metadata": {},
   "outputs": [
    {
     "name": "stdout",
     "output_type": "stream",
     "text": [
      "Employee Name: Emma\n",
      "Working on project: NLP\n",
      "Project: NLP\n"
     ]
    }
   ],
   "source": [
    "#base class\n",
    "class Company:\n",
    "    #constructor\n",
    "    def __init__(self):\n",
    "        #protected member\n",
    "        self._project = \"NLP\"\n",
    "        \n",
    "        \n",
    "#child class\n",
    "class Employee:\n",
    "    #constructor\n",
    "    def __init__(self, name):\n",
    "        self.name = name\n",
    "        Company.__init__(self)\n",
    "        \n",
    "    def show(self):\n",
    "        print(f\"Employee Name: {self.name}\")\n",
    "        #accessing protected member in child class\n",
    "        print(f\"Working on project: {self._project}\")\n",
    "        \n",
    "\n",
    "#object creation\n",
    "emp1 = Employee(\"Emma\")\n",
    "\n",
    "emp1.show()\n",
    "\n",
    "#direct access protected data member\n",
    "print(f\"Project: {emp1._project}\")"
   ]
  },
  {
   "cell_type": "markdown",
   "id": "56f9a08c",
   "metadata": {},
   "source": [
    "## Getters and Setters\n",
    "\n",
    "- To implement proper encapsulation in Python, we need to use setters and getters.\n",
    "- The primary purpose of using getters and setters in object-oriented programs is to ensure data encapsulation.\n",
    "- Use the getter method to access data members and the setter methods to modify the data members.\n",
    "- In Python, private variables are not hidden fields like in other programming languages.\n",
    "- The getters and setters methods are often used when:\n",
    "    - When we want to avoid direct access to private variables\n",
    "    - To add validation logic for setting a value"
   ]
  },
  {
   "cell_type": "code",
   "execution_count": 14,
   "id": "2c9d66b0",
   "metadata": {},
   "outputs": [
    {
     "name": "stdout",
     "output_type": "stream",
     "text": [
      "Name: Emma, Age: 16\n",
      "Name: Emma, AfterChangeAge: 23\n"
     ]
    }
   ],
   "source": [
    "class Student:\n",
    "    def __init__(self, name, age):\n",
    "        self.name = name\n",
    "        self.__age = age #private member\n",
    "        \n",
    "        \n",
    "    #getter method\n",
    "    def get_age(self):\n",
    "        return self.__age\n",
    "    \n",
    "    #setter method\n",
    "    def set_age(self, age):\n",
    "        self.__age = age\n",
    "        \n",
    "        \n",
    "stud = Student(\"Emma\", 16)\n",
    "\n",
    "#retrieving age using getter method\n",
    "print(f\"Name: {stud.name}, Age: {stud.get_age()}\")\n",
    "\n",
    "#changing age using setter method\n",
    "stud.set_age(23)\n",
    "\n",
    "#retrieving age using getter method\n",
    "print(f\"Name: {stud.name}, AfterChangeAge: {stud.get_age()}\")"
   ]
  },
  {
   "cell_type": "markdown",
   "id": "94e40ea9",
   "metadata": {},
   "source": [
    "#### Example:"
   ]
  },
  {
   "cell_type": "code",
   "execution_count": 25,
   "id": "5a32fce3",
   "metadata": {},
   "outputs": [
    {
     "name": "stdout",
     "output_type": "stream",
     "text": [
      "Student details: Name=Jessa, RollNo=10\n",
      "Invalid Roll no, please set correct roll no\n",
      "Student details: Name=Jessa, RollNo=25\n"
     ]
    }
   ],
   "source": [
    "class Student:\n",
    "    #constructor\n",
    "    def __init__(self, name, roll_no, age):\n",
    "        #public data member\n",
    "        self.name = name\n",
    "        #private data member\n",
    "        self.__roll_no = roll_no\n",
    "        self.__age = age\n",
    "        \n",
    "    #public instance method   \n",
    "    def show(self):\n",
    "        #access private data member using public method\n",
    "        print(f\"Student details: Name={self.name}, RollNo={self.__roll_no}\")\n",
    "        \n",
    "    #getter method\n",
    "    def get_roll_no(self):\n",
    "        return self.__roll_no\n",
    "    \n",
    "    #setter method to modify data member\n",
    "    #condition to allow data modification with rules\n",
    "    def set_roll_no(self, num):\n",
    "        if num > 50:\n",
    "            print(\"Invalid Roll no, please set correct roll no\")\n",
    "        else:\n",
    "            self.__roll_no = num\n",
    "        \n",
    "\n",
    "stud1 = Student(\"Jessa\", 10, 21)\n",
    "\n",
    "#before modify\n",
    "stud1.show()\n",
    "\n",
    "# changing roll number using setter\n",
    "stud1.set_roll_no(120) # num > 50\n",
    "\n",
    "stud1.set_roll_no(25) \n",
    "stud1.show()"
   ]
  },
  {
   "cell_type": "code",
   "execution_count": null,
   "id": "2fb38047",
   "metadata": {},
   "outputs": [],
   "source": []
  }
 ],
 "metadata": {
  "kernelspec": {
   "display_name": "Python 3",
   "language": "python",
   "name": "python3"
  },
  "language_info": {
   "codemirror_mode": {
    "name": "ipython",
    "version": 3
   },
   "file_extension": ".py",
   "mimetype": "text/x-python",
   "name": "python",
   "nbconvert_exporter": "python",
   "pygments_lexer": "ipython3",
   "version": "3.8.8"
  }
 },
 "nbformat": 4,
 "nbformat_minor": 5
}
